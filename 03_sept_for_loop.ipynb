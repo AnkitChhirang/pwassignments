{
 "cells": [
  {
   "cell_type": "markdown",
   "id": "4ebe5974-59c3-4168-913c-0130e7253c35",
   "metadata": {},
   "source": [
    "For Loop Assignment Questions"
   ]
  },
  {
   "cell_type": "code",
   "execution_count": 5,
   "id": "6799d7d7-0445-466b-9625-a116fc89e657",
   "metadata": {},
   "outputs": [
    {
     "name": "stdout",
     "output_type": "stream",
     "text": [
      "1\n",
      "2\n",
      "3\n",
      "4\n",
      "5\n",
      "6\n",
      "7\n",
      "8\n",
      "9\n",
      "10\n"
     ]
    }
   ],
   "source": [
    "#Basic Level:\n",
    "#1. Write a Python program to print the numbers from 1 to 10 using a `for` loop.\n",
    "for i in range(1,11):\n",
    "    print(i)"
   ]
  },
  {
   "cell_type": "code",
   "execution_count": 7,
   "id": "47363679-7265-4005-9534-5d17114464e1",
   "metadata": {},
   "outputs": [
    {
     "name": "stdout",
     "output_type": "stream",
     "text": [
      "15\n"
     ]
    }
   ],
   "source": [
    "#2. Create a program that calculates the sum of all numbers in a list using a `for` loop.\n",
    "num2=[1,2,3,4,5]\n",
    "sum_num2=0\n",
    "for i in num2:\n",
    "    sum_num2+=i\n",
    "print(sum_num2)"
   ]
  },
  {
   "cell_type": "code",
   "execution_count": 16,
   "id": "8e15b470-d11e-4b12-8e90-3bf42b6f2545",
   "metadata": {},
   "outputs": [
    {
     "name": "stdout",
     "output_type": "stream",
     "text": [
      "sretcarahc eht tnirp ot margorp a etirW\n"
     ]
    }
   ],
   "source": [
    "#3. Write a program to print the characters of a string in reverse order using a `for` loop.\n",
    "str3='Write a program to print the characters'\n",
    "str3_rev=''\n",
    "for char in reversed(str3):\n",
    "    str3_rev+=char\n",
    "print(str3_rev)"
   ]
  },
  {
   "cell_type": "code",
   "execution_count": 19,
   "id": "0ec63a23-91c9-491e-bb79-156647ea7863",
   "metadata": {},
   "outputs": [
    {
     "name": "stdin",
     "output_type": "stream",
     "text": [
      "enter a number: 4\n"
     ]
    },
    {
     "name": "stdout",
     "output_type": "stream",
     "text": [
      "the factorial of 4 is: 24\n"
     ]
    }
   ],
   "source": [
    "#4. Develop a program that finds the factorial of a given number using a `for` loop.\n",
    "num4=int(input('enter a number:'))\n",
    "fac=1\n",
    "for i in range(1, num4+1):\n",
    "    fac*=i\n",
    "print('the factorial of',num4,'is:',fac)"
   ]
  },
  {
   "cell_type": "code",
   "execution_count": 28,
   "id": "780cd70f-af5a-4173-ab1c-e0e15804b3ad",
   "metadata": {},
   "outputs": [
    {
     "name": "stdin",
     "output_type": "stream",
     "text": [
      "enter a number: 2\n"
     ]
    },
    {
     "name": "stdout",
     "output_type": "stream",
     "text": [
      "2 x 1 = 2\n",
      "2 x 2 = 4\n",
      "2 x 3 = 6\n",
      "2 x 4 = 8\n",
      "2 x 5 = 10\n",
      "2 x 6 = 12\n",
      "2 x 7 = 14\n",
      "2 x 8 = 16\n",
      "2 x 9 = 18\n",
      "2 x 10 = 20\n"
     ]
    }
   ],
   "source": [
    "#5. Create a program to print the multiplication table of a given number using a `for` loop.\n",
    "num5=int(input('enter a number:'))\n",
    "for i in range(1,11):\n",
    "    output= num5*i\n",
    "    print(f'{num5} x {i} = {output}')"
   ]
  },
  {
   "cell_type": "code",
   "execution_count": 40,
   "id": "66a05549-3d8e-4193-a600-b4ba15f81447",
   "metadata": {},
   "outputs": [
    {
     "name": "stdout",
     "output_type": "stream",
     "text": [
      "total even numbers in this list are: 5\n",
      "total odd numbers in this list are: 5\n"
     ]
    }
   ],
   "source": [
    "#6. Write a program that counts the number of even and odd numbers in a list using a `for` loop.\n",
    "num6=[1,2,3,4,5,6,7,8,9,10]\n",
    "odd=0\n",
    "even=0\n",
    "for num in num6:\n",
    "    if num % 2==0:\n",
    "        even+=1\n",
    "    else:\n",
    "        odd+=1\n",
    "print('total even numbers in this list are:',even)\n",
    "print('total odd numbers in this list are:',odd)\n",
    "    "
   ]
  },
  {
   "cell_type": "code",
   "execution_count": 46,
   "id": "8137380f-54f5-4f06-a2d6-811ddf45e6e1",
   "metadata": {},
   "outputs": [
    {
     "name": "stdout",
     "output_type": "stream",
     "text": [
      "squares of numbers from 1 to 5 using for loop are:\n",
      "1\n",
      "4\n",
      "9\n",
      "16\n",
      "25\n"
     ]
    }
   ],
   "source": [
    "#7. Develop a program that prints the squares of numbers from 1 to 5 using a `for` loop.\n",
    "print('squares of numbers from 1 to 5 using for loop are:')\n",
    "for i in range(1,6):\n",
    "    num7=i*i\n",
    "    print(num7)"
   ]
  },
  {
   "cell_type": "code",
   "execution_count": 48,
   "id": "239967fa-e48b-4979-8d0e-d6026ffc887c",
   "metadata": {},
   "outputs": [
    {
     "name": "stdout",
     "output_type": "stream",
     "text": [
      "length of string is: 47\n"
     ]
    }
   ],
   "source": [
    "#8. Create a program to find the length of a string without using the `len()` function.\n",
    "str8='Create a program to find the length of a string'\n",
    "low_str8=str8.lower()\n",
    "str8_len=0\n",
    "\n",
    "for char in low_str8:\n",
    "    str8_len+=1\n",
    "print('length of string is:',str8_len)"
   ]
  },
  {
   "cell_type": "code",
   "execution_count": 51,
   "id": "291d5739-2322-415b-8441-c9a7c4787bb0",
   "metadata": {},
   "outputs": [
    {
     "name": "stdout",
     "output_type": "stream",
     "text": [
      "average of this list of numbers is: 4.5\n"
     ]
    }
   ],
   "source": [
    "#9. Write a program that calculates the average of a list of numbers using a `for` loop.\n",
    "num=[1,2,3,4,5,6,7,8]\n",
    "total=0\n",
    "count=0\n",
    "for num in num:\n",
    "    total+=num\n",
    "    count+=1\n",
    "average_num=total/count\n",
    "print('average of this list of numbers is:',average_num)\n",
    "    "
   ]
  },
  {
   "cell_type": "code",
   "execution_count": 11,
   "id": "f4f910a1-5192-49c3-8e15-9599b785cb6a",
   "metadata": {},
   "outputs": [
    {
     "name": "stdin",
     "output_type": "stream",
     "text": [
      "enter the value of \"n\": 9\n"
     ]
    },
    {
     "name": "stdout",
     "output_type": "stream",
     "text": [
      "the starting fibonacci numbers:\n",
      "0 1 2 3 4 6 10 16 26 42 68 110 178 "
     ]
    }
   ],
   "source": [
    "#10. Develop a program that prints the first `n` Fibonacci numbers using a `for` loop.\n",
    "num10=int(input('enter the value of \"n\":'))\n",
    "fibonacci=[0,1,2,3,4,6]\n",
    "for i in range(2,num10):\n",
    "    for_num=fibonacci[-1]+fibonacci[-2]\n",
    "    fibonacci.append(for_num)\n",
    "print(f\"the starting fibonacci numbers:\")\n",
    "for num in fibonacci:\n",
    "    print(num,end=' ')"
   ]
  },
  {
   "cell_type": "code",
   "execution_count": 7,
   "id": "11de92b4-5ecd-46a4-96ee-b76e9e0ddc76",
   "metadata": {},
   "outputs": [
    {
     "name": "stdout",
     "output_type": "stream",
     "text": [
      "this list contains duplicates\n"
     ]
    }
   ],
   "source": [
    "#Intermediate Level:\n",
    "#11. Write a program to check if a given list contains any duplicates using a `for` loop.\n",
    "def has_duplicates(lst):\n",
    "    for i in range(len(lst)):\n",
    "        for j in range(i+1,len(lst)):\n",
    "            if lst[i]==lst[j]:\n",
    "                return True\n",
    "    return False\n",
    "list11=[1,2,3,3,4,5]\n",
    "if has_duplicates(list11):\n",
    "    print('this list contains duplicates')\n",
    "else:\n",
    "    print('this list doesnt contain any duplicates')"
   ]
  },
  {
   "cell_type": "code",
   "execution_count": 62,
   "id": "3ad23eba-56b4-4b1f-9d22-3f7b56256bb5",
   "metadata": {},
   "outputs": [
    {
     "name": "stdin",
     "output_type": "stream",
     "text": [
      "enter the starting prime number of range: 2\n",
      "enter the end prime number of range: 56\n"
     ]
    },
    {
     "name": "stdout",
     "output_type": "stream",
     "text": [
      "prime numbers in the range 2 - 56 are:\n",
      "2\n",
      "3\n",
      "5\n",
      "7\n",
      "11\n",
      "13\n",
      "17\n",
      "19\n",
      "23\n",
      "29\n",
      "31\n",
      "37\n",
      "41\n",
      "43\n",
      "47\n",
      "53\n"
     ]
    }
   ],
   "source": [
    "# 12. Create a program that prints the prime numbers in a given range using a `for` loop.\n",
    "def is_prime(numb):\n",
    "    if numb<=1:\n",
    "        return False\n",
    "    if numb==2:\n",
    "        return True\n",
    "    if numb%2==0:\n",
    "        return False\n",
    "    for i in range(3,int(numb**0.5)+1,2):\n",
    "        if numb%i==0:\n",
    "            return False\n",
    "    return True\n",
    "range_start=int(input('enter the starting prime number of range:'))\n",
    "range_end=int(input('enter the end prime number of range:'))\n",
    "print('prime numbers in the range',range_start,'-',range_end,'are:')\n",
    "for numb in range(range_start,range_end+1):\n",
    "    if is_prime(numb):\n",
    "        print(numb)"
   ]
  },
  {
   "cell_type": "code",
   "execution_count": 7,
   "id": "d4919e15-9977-4643-a956-9d159c8f3c3c",
   "metadata": {},
   "outputs": [
    {
     "name": "stdout",
     "output_type": "stream",
     "text": [
      "number of vowels in this string are: 15\n"
     ]
    }
   ],
   "source": [
    "#13. Develop a program that counts the number of vowels in a string using a `for` loop.\n",
    "string13=' Develop a program that counts the number of vowels'\n",
    "vowels='aeiou'\n",
    "string13_low=string13.lower()\n",
    "count=0\n",
    "for char in string13_low:\n",
    "    if char in vowels:\n",
    "        count+=1\n",
    "print('number of vowels in this string are:',count)"
   ]
  },
  {
   "cell_type": "code",
   "execution_count": 8,
   "id": "3399440d-f437-4ba6-b19f-bc980241000a",
   "metadata": {},
   "outputs": [
    {
     "name": "stdout",
     "output_type": "stream",
     "text": [
      "the max element in the 2d list is: 14\n"
     ]
    }
   ],
   "source": [
    "#14. Write a program to find the maximum element in a 2D list using a nested `for` loop.\n",
    "list2d=[[2,3,5],[4,8,14],[4,12,9]]\n",
    "max_ele=list2d[0][0]\n",
    "for row in list2d:\n",
    "    for element in row:\n",
    "        if element > max_ele:\n",
    "            max_ele=element\n",
    "print('the max element in the 2d list is:',max_ele)"
   ]
  },
  {
   "cell_type": "code",
   "execution_count": 14,
   "id": "a165efea-ed4a-4472-9731-b94a3c20d014",
   "metadata": {},
   "outputs": [
    {
     "name": "stdout",
     "output_type": "stream",
     "text": [
      "new list: [12, 23, 34, 67]\n"
     ]
    }
   ],
   "source": [
    "#15. Create a program that removes all occurrences of a specific element from a list using a `for` loop.\n",
    "list15=[12,23,34,45,45,67]\n",
    "mod_list15=[]\n",
    "for i in list15:\n",
    "    if i!=45:\n",
    "        mod_list15.append(i)\n",
    "print('new list:',mod_list15)"
   ]
  },
  {
   "cell_type": "code",
   "execution_count": 24,
   "id": "31d062d8-7c06-4bbf-bc08-767dcad2f0bb",
   "metadata": {},
   "outputs": [
    {
     "name": "stdout",
     "output_type": "stream",
     "text": [
      "1 x 1 = 1\n",
      "1 x 2 = 2\n",
      "1 x 3 = 3\n",
      "1 x 4 = 4\n",
      "1 x 5 = 5\n",
      "1 x 6 = 6\n",
      "1 x 7 = 7\n",
      "1 x 8 = 8\n",
      "1 x 9 = 9\n",
      "1 x 10 = 10\n",
      "\n",
      "2 x 1 = 2\n",
      "2 x 2 = 4\n",
      "2 x 3 = 6\n",
      "2 x 4 = 8\n",
      "2 x 5 = 10\n",
      "2 x 6 = 12\n",
      "2 x 7 = 14\n",
      "2 x 8 = 16\n",
      "2 x 9 = 18\n",
      "2 x 10 = 20\n",
      "\n",
      "3 x 1 = 3\n",
      "3 x 2 = 6\n",
      "3 x 3 = 9\n",
      "3 x 4 = 12\n",
      "3 x 5 = 15\n",
      "3 x 6 = 18\n",
      "3 x 7 = 21\n",
      "3 x 8 = 24\n",
      "3 x 9 = 27\n",
      "3 x 10 = 30\n",
      "\n",
      "4 x 1 = 4\n",
      "4 x 2 = 8\n",
      "4 x 3 = 12\n",
      "4 x 4 = 16\n",
      "4 x 5 = 20\n",
      "4 x 6 = 24\n",
      "4 x 7 = 28\n",
      "4 x 8 = 32\n",
      "4 x 9 = 36\n",
      "4 x 10 = 40\n",
      "\n",
      "5 x 1 = 5\n",
      "5 x 2 = 10\n",
      "5 x 3 = 15\n",
      "5 x 4 = 20\n",
      "5 x 5 = 25\n",
      "5 x 6 = 30\n",
      "5 x 7 = 35\n",
      "5 x 8 = 40\n",
      "5 x 9 = 45\n",
      "5 x 10 = 50\n",
      "\n"
     ]
    }
   ],
   "source": [
    "#16. Develop a program that generates a multiplication table for numbers from 1 to 5 using a nested `for` loop.\n",
    "int16=1\n",
    "int16_2=5\n",
    "for i in range(int16,int16_2+1):\n",
    "    for j in range(1,11):\n",
    "        output=i*j\n",
    "        print(f'{i} x {j} = {output}')\n",
    "    print()"
   ]
  },
  {
   "cell_type": "code",
   "execution_count": 53,
   "id": "b8730fee-e3b1-4daf-985a-a99463fe34b0",
   "metadata": {},
   "outputs": [
    {
     "name": "stdout",
     "output_type": "stream",
     "text": [
      "21.11111111111111\n",
      "30.0\n",
      "37.0\n",
      "40.0\n"
     ]
    }
   ],
   "source": [
    "#17. Write a program that converts a list of Fahrenheit temperatures to Celsius using a `for` loop.\n",
    "fahrenheit_temps=[70,86,98.6,104]\n",
    "\n",
    "for i in fahrenheit_temps:\n",
    "    celsius_temps=(i-32)*5/9\n",
    "    print(celsius_temps)"
   ]
  },
  {
   "cell_type": "code",
   "execution_count": 48,
   "id": "33f0c7ef-0c0a-422b-8461-ce33bde96a7a",
   "metadata": {},
   "outputs": [
    {
     "name": "stdout",
     "output_type": "stream",
     "text": [
      "common elements from these lists are: [6]\n"
     ]
    }
   ],
   "source": [
    "#18. Create a program to print the common elements from two lists using a `for` loop.\n",
    "list18_1=[2,6,5]\n",
    "list18_2=[4,6,14]\n",
    "common_elements=[]\n",
    "for element1 in list18_1:\n",
    "    for element2 in list18_2:\n",
    "        if element1==element2:\n",
    "            common_elements.append(element1)\n",
    "print('common elements from these lists are:',common_elements)"
   ]
  },
  {
   "cell_type": "code",
   "execution_count": 71,
   "id": "aacf7d09-1179-4f49-9080-7f6cfefa72e3",
   "metadata": {},
   "outputs": [
    {
     "name": "stdout",
     "output_type": "stream",
     "text": [
      "* \n",
      "* * \n",
      "* * * \n",
      "* * * * \n",
      "* * * * * \n"
     ]
    }
   ],
   "source": [
    "#19. Develop a program that prints the pattern of right-angled triangles using a `for` loop. Use ‘*’ to draw the\n",
    "#pattern\n",
    "int19=5\n",
    "for i in range(1,int19+1):\n",
    "    for j in range(i):\n",
    "        print('*', end=' ')\n",
    "    print()"
   ]
  },
  {
   "cell_type": "code",
   "execution_count": 94,
   "id": "47d62e85-d93c-4e9c-8067-9d82003d5c34",
   "metadata": {},
   "outputs": [
    {
     "name": "stdout",
     "output_type": "stream",
     "text": [
      "the greatest common divisor of 30 and 3 is 3\n"
     ]
    }
   ],
   "source": [
    "#20. Write a program to find the greatest common divisor (GCD) of two numbers using a `for` loop.\n",
    "int20=30\n",
    "int20_2=3\n",
    "if int20<int20_2:\n",
    "    smaller=int20\n",
    "else:\n",
    "    smaller=int20_2\n",
    "gcd=i\n",
    "for i in range(1,smaller+1):\n",
    "    if int20%i==0 and int20_2%i==0:\n",
    "        gcd=i\n",
    "print('the greatest common divisor of',int20,'and',int20_2,'is',gcd)"
   ]
  },
  {
   "cell_type": "code",
   "execution_count": 7,
   "id": "51384b19-e43b-435d-864a-acc9a18fa4b4",
   "metadata": {},
   "outputs": [
    {
     "name": "stdout",
     "output_type": "stream",
     "text": [
      "[12, 30]\n"
     ]
    }
   ],
   "source": [
    "#Advanced Level:\n",
    "#21. Create a program that calculates the sum of the digits of numbers in a list using a list comprehension.\n",
    "def sum_of_digits_in_list(number):\n",
    "    return sum(int(digit) for digit in str(number))\n",
    "numbers=[345,9876]\n",
    "sum_of_number=[sum_of_digits_in_list(number) for number in numbers]\n",
    "print(sum_of_number)"
   ]
  },
  {
   "cell_type": "code",
   "execution_count": 38,
   "id": "26730219-e01c-4a67-af74-3d35ef4a0670",
   "metadata": {},
   "outputs": [
    {
     "name": "stdout",
     "output_type": "stream",
     "text": [
      "[[1, 2, 11, 22], [1, 2, 17, 34], [1, 5, 11, 55]]\n"
     ]
    }
   ],
   "source": [
    "#22. Write a program to find the prime factors of a given number using a `for` loop and list comprehension.\n",
    "nums22=[22,34,55]\n",
    "def factors_of_number(number):\n",
    "    return [factor for factor in range(1,number+1) if number % factor==0]\n",
    "factors=[factors_of_number(number)for number in nums22]\n",
    "print(factors)"
   ]
  },
  {
   "cell_type": "code",
   "execution_count": 70,
   "id": "a79b44dc-b555-4c01-aa96-544558e76b87",
   "metadata": {},
   "outputs": [
    {
     "name": "stdout",
     "output_type": "stream",
     "text": [
      "['?', '$', '!']\n"
     ]
    }
   ],
   "source": [
    "#23. Develop a program that extracts unique elements from a list and stores them in a new list using a list\n",
    "#comprehension.\n",
    "lst23=['hello!','?','$',324]\n",
    "unique_elements=['!','?','$']\n",
    "newlist=[char for char in lst23 if char in unique_elements]\n",
    "newlist.append('!')\n",
    "print(newlist)"
   ]
  },
  {
   "cell_type": "code",
   "execution_count": 73,
   "id": "2f461bef-2482-4855-bd21-6d22801289bf",
   "metadata": {},
   "outputs": [
    {
     "name": "stdin",
     "output_type": "stream",
     "text": [
      "enter the limit: 77\n"
     ]
    },
    {
     "name": "stdout",
     "output_type": "stream",
     "text": [
      "all palindromic numbers in the given range are: [8, 9, 11, 22, 33, 44, 55, 66, 77]\n"
     ]
    }
   ],
   "source": [
    "#24. Create a program that generates a list of all palindromic numbers up to a specified limit using a list\n",
    "#comprehension.\n",
    "int24=int(input('enter the limit:'))\n",
    "palindromic_numbers=[num for num in range(i,int24+1)if str(num)==str(num)[::-1]]\n",
    "print('all palindromic numbers in the given range are:',palindromic_numbers)"
   ]
  },
  {
   "cell_type": "code",
   "execution_count": 75,
   "id": "5b10e2f8-cb80-41de-bfc4-ed9a75fa6457",
   "metadata": {},
   "outputs": [
    {
     "name": "stdout",
     "output_type": "stream",
     "text": [
      "[1, 2, 3, 5, 6, 7, 8, 9, 10]\n"
     ]
    }
   ],
   "source": [
    "#25. Write a program to flatten a nested list using list comprehension.\n",
    "lst25=[[1,2,3],[5,6,7],[8,9,10]]\n",
    "flattened_list=[item for sublist in lst25 for item in sublist]\n",
    "print(flattened_list)"
   ]
  },
  {
   "cell_type": "code",
   "execution_count": 88,
   "id": "f78bc2a0-841b-4d32-b442-44bd2333e3d2",
   "metadata": {},
   "outputs": [
    {
     "name": "stdout",
     "output_type": "stream",
     "text": [
      "sum of even numbers in the list is: 132\n",
      "sum of even numbers in the list is: 99\n"
     ]
    }
   ],
   "source": [
    "#26. Develop a program that computes the sum of even and odd numbers in a list separately using list\n",
    "#comprehension.\n",
    "lst26=[22,44,33,66,77]\n",
    "numeven=sum([num for num in lst26 if num%2==0])\n",
    "print('sum of even numbers in the list is:',numeven)-\n",
    "numodd=sum([num for num in lst26 if num%3==0])\n",
    "print('sum of even numbers in the list is:',numodd)*"
   ]
  },
  {
   "cell_type": "code",
   "execution_count": 98,
   "id": "75149686-8e33-4cf8-b1c5-19ada2580523",
   "metadata": {},
   "outputs": [
    {
     "name": "stdout",
     "output_type": "stream",
     "text": [
      "[1, 9, 25, 49, 81]\n"
     ]
    }
   ],
   "source": [
    "#27. Create a program that generates a list of squares of odd numbers between 1 and 10 using list\n",
    "#comprehension.\n",
    "lst27=[1,2,3,4,5,6,7,8,9,10]\n",
    "squares_lst27=[num**2 for num in lst27 if num%2!=0]\n",
    "print(squares_lst27)"
   ]
  },
  {
   "cell_type": "code",
   "execution_count": 4,
   "id": "706a8c68-9f8a-41ba-9cce-8e23598de464",
   "metadata": {},
   "outputs": [
    {
     "name": "stdout",
     "output_type": "stream",
     "text": [
      "{'question': '28', 'type': 'comprehension'}\n"
     ]
    }
   ],
   "source": [
    "#28. Write a program that combines two lists into a dictionary using list comprehension.\n",
    "lst28=['question','type']\n",
    "lst28_2=['28','comprehension']\n",
    "combined_lists={lst28[i]:lst28_2[i] for i in range(min(len(lst28),len(lst28_2)))}\n",
    "print(combined_lists)"
   ]
  },
  {
   "cell_type": "code",
   "execution_count": 15,
   "id": "f05d8132-fd1b-41e3-af79-7b3d793848b9",
   "metadata": {},
   "outputs": [
    {
     "name": "stdout",
     "output_type": "stream",
     "text": [
      "['e', 'e', 'o', 'a', 'o', 'a', 'a', 'e', 'a', 'e', 'o', 'e']\n"
     ]
    }
   ],
   "source": [
    "#29. Develop a program that extracts the vowels from a string and stores them in a list using list comprehension.\n",
    "strng29='Develop a program that extracts the vowels'\n",
    "vowel='aeiou'\n",
    "new_strng29=[char for char in strng29 if char.lower() in vowel]\n",
    "print(new_strng29)"
   ]
  },
  {
   "cell_type": "code",
   "execution_count": 29,
   "id": "1344e151-3c76-4598-a5aa-39ceb50da198",
   "metadata": {},
   "outputs": [
    {
     "name": "stdout",
     "output_type": "stream",
     "text": [
      "['45', '56', '123']\n"
     ]
    }
   ],
   "source": [
    "#30. Create a program that removes all non-numeric characters from a list of strings using list comprehension.\n",
    "strng30=['Create a45','program that removes56','all non-numeric123']\n",
    "new_strng30=[''.join(char for char in string if char.isdigit()) for string in strng30]\n",
    "print(new_strng30)"
   ]
  },
  {
   "cell_type": "code",
   "execution_count": 16,
   "id": "dba2cc8c-09c5-4880-ab61-00dc131b9d28",
   "metadata": {},
   "outputs": [
    {
     "name": "stdin",
     "output_type": "stream",
     "text": [
      "enter a digit: 40\n"
     ]
    },
    {
     "name": "stdout",
     "output_type": "stream",
     "text": [
      "[2, 3, 5, 7, 11, 13, 17, 19, 23, 29, 31, 37]\n"
     ]
    }
   ],
   "source": [
    "#31. Write a program to generate a list of prime numbers using the Sieve of Eratosthenes algorithm and list\n",
    "#comprehension.\n",
    "def sieve_erat(n):\n",
    "    is_prime=[True]*(n+1)\n",
    "    is_prime[0]=is_prime[1]=False\n",
    "    \n",
    "    for p in range(2,int(n**0.5)+1):\n",
    "        if is_prime[p]:\n",
    "            for multiple in range(p*p,n+1,p):\n",
    "                is_prime[multiple]=False\n",
    "    return [i for i in range(2,n+1)if is_prime[i]]\n",
    "           \n",
    "n=int(input('enter a digit:'))\n",
    "prime_list=sieve_erat(n)\n",
    "print(prime_list)"
   ]
  },
  {
   "cell_type": "code",
   "execution_count": 19,
   "id": "fe2d9cb3-98b1-4d2d-8271-191b79cc8e57",
   "metadata": {},
   "outputs": [
    {
     "name": "stdout",
     "output_type": "stream",
     "text": [
      "[(3, 4, 5), (6, 8, 10), (5, 12, 13), (9, 12, 15), (8, 15, 17), (12, 16, 20), (15, 20, 25), (7, 24, 25), (10, 24, 26), (20, 21, 29), (18, 24, 30), (16, 30, 34), (21, 28, 35), (12, 35, 37), (15, 36, 39), (24, 32, 40), (9, 40, 41), (27, 36, 45)]\n"
     ]
    }
   ],
   "source": [
    "#32. Create a program that generates a list of all Pythagorean triplets up to a specified limit using list\n",
    "#comprehension.\n",
    "limit32=45\n",
    "triplets=[(a,b,c) for c in range(1,limit32+1) for b in range(1,c) for a in range(1,b) if a**2+b**2==c**2]\n",
    "print(triplets)"
   ]
  },
  {
   "cell_type": "code",
   "execution_count": 20,
   "id": "6d0ade8b-cf84-4311-9868-106bf88e3953",
   "metadata": {},
   "outputs": [
    {
     "name": "stdout",
     "output_type": "stream",
     "text": [
      "[(32, 'thirty two'), (32, 'thirty three'), (32, 'thirty four'), (33, 'thirty two'), (33, 'thirty three'), (33, 'thirty four'), (34, 'thirty two'), (34, 'thirty three'), (34, 'thirty four')]\n"
     ]
    }
   ],
   "source": [
    "#33. Develop a program that generates a list of all possible combinations of two lists using list comprehension.\n",
    "list33_num=[32,33,34]\n",
    "list33_alpha=['thirty two','thirty three','thirty four']\n",
    "combi=[(x,y) for x in list33_num for y in list33_alpha]\n",
    "print(combi)"
   ]
  },
  {
   "cell_type": "code",
   "execution_count": 27,
   "id": "db87355a-f4dd-4563-baf9-79891ee7ec38",
   "metadata": {},
   "outputs": [
    {
     "name": "stdout",
     "output_type": "stream",
     "text": [
      "[5.375, 5.5, 5]\n"
     ]
    }
   ],
   "source": [
    "#34. Write a program that calculates the mean, median, and mode of a list of numbers using list\n",
    "#comprehension.\n",
    "import statistics\n",
    "list34=[5,7,2,6,7,8,3,5]\n",
    "mean_median=[statistics.mean(list34), statistics.median(list34)]\n",
    "mode=[statistics.mode(list34)]\n",
    "result34=mean_median+mode\n",
    "print(result34)"
   ]
  },
  {
   "cell_type": "code",
   "execution_count": 33,
   "id": "29fc8f9c-c9d7-4ab5-99e4-aac382523cfa",
   "metadata": {},
   "outputs": [
    {
     "name": "stdout",
     "output_type": "stream",
     "text": [
      "[1]\n",
      "[1, 1]\n",
      "[1, 2, 1]\n"
     ]
    }
   ],
   "source": [
    "#35. Create a program that generates Pascal's triangle up to a specified number of rows using list\n",
    "#comprehension.\n",
    "def gen_pascals_tri(n):\n",
    "    if n<=0:\n",
    "        return[]\n",
    "    triangle=[[1]]\n",
    "    for _ in range(1,n):\n",
    "        row=[1]+[triangle[-1][i - 1]+triangle[-1][i] for i in range(1,len(triangle[-1]))]+[1]\n",
    "        triangle.append(row)\n",
    "    return triangle\n",
    "num_rows35=3\n",
    "pascals_triangle=gen_pascals_tri(num_rows35)\n",
    "for row in pascals_triangle:\n",
    "    print(row)"
   ]
  },
  {
   "cell_type": "code",
   "execution_count": 35,
   "id": "5d0fdf62-a60f-41a7-9a72-b930fdedf862",
   "metadata": {},
   "outputs": [
    {
     "name": "stdout",
     "output_type": "stream",
     "text": [
      "[1, 2, 6, 6]\n"
     ]
    }
   ],
   "source": [
    "#36. Develop a program that calculates the sum of the digits of a factorial of numbers from 1 to 5 using list\n",
    "#comprehension\n",
    "import math\n",
    "def calcu_digit_sum(number):\n",
    "    factorial=math.factorial(number)\n",
    "    digit_sum=sum(int(digit) for digit in str(factorial))\n",
    "    return digit_sum\n",
    "digit_sum=[calcu_digit_sum(i) for i in range(1,5)]\n",
    "print(digit_sum)"
   ]
  },
  {
   "cell_type": "code",
   "execution_count": 39,
   "id": "77e00dcc-4abb-4969-a19c-42cf53e41258",
   "metadata": {},
   "outputs": [
    {
     "name": "stdout",
     "output_type": "stream",
     "text": [
      "the longest word in this sentence is: program\n"
     ]
    }
   ],
   "source": [
    "#37. Write a program that finds the longest word in a sentence using list comprehension.\n",
    "sentence37='Write a program that finds the longest word'\n",
    "longest_word=max((word for word in sentence37.split()),key=len)\n",
    "print('the longest word in this sentence is:',longest_word)"
   ]
  },
  {
   "cell_type": "code",
   "execution_count": 13,
   "id": "93a14683-e3ff-48ac-899a-78cda13f90b3",
   "metadata": {},
   "outputs": [
    {
     "name": "stdout",
     "output_type": "stream",
     "text": [
      "['equalo']\n"
     ]
    }
   ],
   "source": [
    "#38. Create a program that filters a list of strings to include only those with more than three vowels using list\n",
    "#comprehension.\n",
    "word_list38=['hello','programming','equalo']\n",
    "filtered_strng=[word for word in word_list38 if sum(1 for letter in word if letter in'aeiouAEIOU') > 3]\n",
    "print(filtered_strng)"
   ]
  },
  {
   "cell_type": "code",
   "execution_count": 14,
   "id": "a91cde0f-7b42-418f-adcf-42ac4411e1bf",
   "metadata": {},
   "outputs": [
    {
     "name": "stdout",
     "output_type": "stream",
     "text": [
      "13501\n"
     ]
    }
   ],
   "source": [
    "#39. Develop a program that calculates the sum of the digits of numbers from 1 to 1000 using list\n",
    "#comprehension.\n",
    "sum39=[sum(int(digit) for digit in str(num)) for num in range(1,1001)]\n",
    "totalsum39=sum(sum39)\n",
    "print(totalsum39)"
   ]
  },
  {
   "cell_type": "code",
   "execution_count": 35,
   "id": "ae8b8e34-05cb-44a2-a96a-c3f6beb93fc1",
   "metadata": {},
   "outputs": [
    {
     "name": "stdout",
     "output_type": "stream",
     "text": [
      "[2, 3, 5, 7, 11]\n"
     ]
    }
   ],
   "source": [
    "#40. Write a program that generates a list of prime palindromic numbers using list comprehension.\n",
    "def is_prime(num):\n",
    "    if num<=1:\n",
    "        return False\n",
    "    if num==2:\n",
    "        return True\n",
    "    if num%2==0:\n",
    "        return False\n",
    "    for i in range(3,int(num**0.5)+1,2):\n",
    "        if num%i==0:\n",
    "            return False\n",
    "    return True\n",
    "list40=[num for num in range(1,100) if is_prime(num)and str(num)[::-1]==str(num)]\n",
    "print(list40)"
   ]
  }
 ],
 "metadata": {
  "kernelspec": {
   "display_name": "Python 3 (ipykernel)",
   "language": "python",
   "name": "python3"
  },
  "language_info": {
   "codemirror_mode": {
    "name": "ipython",
    "version": 3
   },
   "file_extension": ".py",
   "mimetype": "text/x-python",
   "name": "python",
   "nbconvert_exporter": "python",
   "pygments_lexer": "ipython3",
   "version": "3.10.8"
  }
 },
 "nbformat": 4,
 "nbformat_minor": 5
}
