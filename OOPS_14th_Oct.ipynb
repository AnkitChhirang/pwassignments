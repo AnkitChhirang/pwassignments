{
 "cells": [
  {
   "cell_type": "markdown",
   "id": "4c432749-2bdb-48b3-a412-bb34443c9661",
   "metadata": {},
   "source": [
    "OOPS Assignment"
   ]
  },
  {
   "cell_type": "markdown",
   "id": "7a1455a2-2ca5-40be-bab2-99e77ec432a4",
   "metadata": {},
   "source": [
    "Constructor:"
   ]
  },
  {
   "cell_type": "raw",
   "id": "ef1fb474-9e76-42c6-bc30-063a1ab27e86",
   "metadata": {},
   "source": [
    "1. What is a constructor in Python? Explain its purpose and usage.\n",
    "\n",
    "*A consturctor is a special method within a class that gets involved automatically whenever an object is created from\n",
    " that class, a constructor assign initial state of the object by assigning values to its, '__init__()' is a basic constructor\n",
    " in python\n",
    "\n",
    "*there are two types of  constructors:-\n",
    " Parameterised and Parameterless\n",
    "\n",
    "*purpose of constructor:-\n",
    " it initialise the object's state by assigning its attributes values or assigning them particular task.\n",
    " it gets the object ready before use, by defining its purpose.\n",
    "\n",
    "*usage:-\n",
    " define a '__init__()' method after defining a class.\n",
    "  the method '__init__()' takes atleast one parameter 'self' which refers to the newely created object.\n",
    "   define the attributed of the objects within the '__init__()' constructor that represents the initial values of the object's attributes\n",
    "   inside the constructor, attributes of the object are assigned initial values using 'self.name=name'\n",
    "     when an object is created of the class the constructor automatically assigns the values to the object from the attributes.\n",
    "      When an instance of the class is created using the class name followed by parentheses eg:-'obj=ClassA()'. the '__init__()' method will get \n",
    "      invoked to initialise the object."
   ]
  },
  {
   "cell_type": "raw",
   "id": "69e5480b-726c-4a24-8f0b-ba735e188799",
   "metadata": {},
   "source": [
    "2.Differentiate between a parameterless constructor and a parameterized constructor in Python.\n",
    "\n",
    "*PARAMETERLESS constructor:-\n",
    " the parameterless constructor doesn't accept any parameter other than 'self' parameter.\n",
    " defined with '__init__()' with no additional parameters.\n",
    " purpose is to set initial state of an object beforehand with default values.\n",
    " it is useful when the object's initial state does not depend on any external data or parameters.\n",
    "\n",
    "*PARAMETERIZED constructor:-\n",
    " the parameterised constructor accept parameter addition to 'self' parameter.\n",
    " It is defined with the __init__() method and can accept parameters that are used to initialize the object's-\n",
    " attributes with specific values provided during object creation.\n",
    " allows us to edit values, object's initial state and accepts external data and customizations."
   ]
  },
  {
   "cell_type": "code",
   "execution_count": 20,
   "id": "79cade67-c02d-49a6-b66d-c3d7c49da771",
   "metadata": {},
   "outputs": [],
   "source": [
    "#3. How do you define a constructor in a Python class? Provide an example.\n",
    "\n",
    "#In Python, a constructor is defined using a special method called __init__().\n",
    "#This method is automatically called when an object of the class is created.\n",
    "#it gets the object ready before use, by defining its purpose.\n",
    "\n",
    "#example:-\n",
    "class MyClass:\n",
    "    def __init__(self, parameter1, parameter2):\n",
    "        self.parameter1 = parameter1\n",
    "        self.parameter2 = parameter2\n"
   ]
  },
  {
   "cell_type": "raw",
   "id": "d8b19893-bf95-4d08-b58d-6aee9909610f",
   "metadata": {},
   "source": [
    "4. Explain the `__init__` method in Python and its role in constructors.\n",
    "\n",
    "*a constructor assign initial state of the object by assigning values to its, '__init__()' is a basic constructor\n",
    " in python\n",
    "\n",
    "*purpose of constructor:-\n",
    "*it initialise the object's state by assigning its attributes values or assigning them particular task.\n",
    "\n",
    "*it gets the object ready before use, by defining its purpose.\n",
    "\n",
    "*the __init__ method is crucial in defining constructors in Python classes. \n",
    "\n",
    "*It ensures that objects are properly initialized when they are created, making them ready for use."
   ]
  },
  {
   "cell_type": "code",
   "execution_count": 21,
   "id": "07c43da7-b9a7-4bff-878e-39d011604bcf",
   "metadata": {},
   "outputs": [
    {
     "name": "stdout",
     "output_type": "stream",
     "text": [
      "ankit\n",
      "21\n"
     ]
    }
   ],
   "source": [
    "#5. In a class named `Person`, create a constructor that initializes the `name` and `age` attributes. Provide an\n",
    "#example of creating an object of this class.\n",
    "\n",
    "class Person:\n",
    "    def __init__(self,name,age):\n",
    "        self.name=name\n",
    "        self.age=age\n",
    "#example:-\n",
    "person1=Person(name='ankit',age=21)\n",
    "print(person1.name)\n",
    "print(person1.age)"
   ]
  },
  {
   "cell_type": "code",
   "execution_count": 22,
   "id": "d9c6cab6-c628-4901-b25f-a16dec1ed8d6",
   "metadata": {},
   "outputs": [
    {
     "name": "stdout",
     "output_type": "stream",
     "text": [
      "Constructor called with value: 10\n"
     ]
    }
   ],
   "source": [
    "#6. How can you call a constructor explicitly in Python? Give an example.\n",
    "\n",
    "#we don't usually call a constructor in pyhton explixity because when we create a object of class\n",
    "#the python automatically invokes the constructor.\n",
    "#we can call the constructor by using the class name\n",
    "\n",
    "#example:-\n",
    "class MyClass2:\n",
    "    def __init__(self,value):\n",
    "        self.value=value\n",
    "        print(\"Constructor called with value:\", value)\n",
    "obj=MyClass2.__init__(MyClass,10)"
   ]
  },
  {
   "cell_type": "code",
   "execution_count": 23,
   "id": "46a82572-04af-448b-84f7-a202d03f6e54",
   "metadata": {},
   "outputs": [
    {
     "name": "stdout",
     "output_type": "stream",
     "text": [
      "Name: ankit, Age: 21\n"
     ]
    }
   ],
   "source": [
    "#7. What is the significance of the `self` parameter in Python constructors? Explain with an example.\n",
    "\n",
    "#the 'self' parameter is representatives of the class itself\n",
    "#It is a convention in Python to name this first parameter self.\n",
    "#we can name it as itt we wants but it is not recommended to change it.\n",
    "#the 'self' parameter allows you to add/edit the attributes and methods current instance within the class\n",
    "\n",
    "#example:-\n",
    "class Person3:\n",
    "    def __init__(self,name,age):\n",
    "        self.name=name\n",
    "        self.age=age\n",
    "    def display_info(self):\n",
    "        print(f\"Name: {self.name}, Age: {self.age}\")\n",
    "person3=Person3(name='ankit',age=21)\n",
    "person3.display_info()"
   ]
  },
  {
   "cell_type": "raw",
   "id": "033146db-e013-44d6-ae93-4c16671a3bc6",
   "metadata": {},
   "source": [
    "8. Discuss the concept of default constructors in Python. When are they used?\n",
    "\n",
    "*a default constructor in python is that constructor which is defined default if you do not define it in your class\n",
    " this constructor does not take any parameter other than 'self'.\n",
    "\n",
    "*it also does not do anything unless you define something to it\n",
    "\n",
    "*they are used when:-\n",
    "*we do not need to perform any initialization tasks when creating objects of the class.\n",
    "\n",
    "*when we rely solely on class-level attributes, or we plan to set instance attributes outside of the constructor"
   ]
  },
  {
   "cell_type": "code",
   "execution_count": 24,
   "id": "8b537ef7-0673-4369-8cd5-39d6b93ff5fa",
   "metadata": {},
   "outputs": [
    {
     "name": "stdout",
     "output_type": "stream",
     "text": [
      "area of rectangle with height: 20, and width: 10, is: 200\n"
     ]
    }
   ],
   "source": [
    "#9. Create a Python class called `Rectangle` with a constructor that initializes the `width` and `height`\n",
    "#attributes. Provide a method to calculate the area of the rectangle.\n",
    "\n",
    "class Rectangle:\n",
    "    def __init__(self,width,height):\n",
    "        self.width=width\n",
    "        self.height=height\n",
    "    def area_of_rectangle(self):\n",
    "        area=self.width*self.height\n",
    "        print(f'area of rectangle with height: {self.height}, and width: {self.width}, is: {area}')\n",
    "shape1=Rectangle(10,20)\n",
    "shape1.area_of_rectangle()"
   ]
  },
  {
   "cell_type": "code",
   "execution_count": 26,
   "id": "ef07ffd5-2e7a-4a45-a0f9-b7e45f129ade",
   "metadata": {},
   "outputs": [],
   "source": [
    "#10. How can you have multiple constructors in a Python class? Explain with an example.\n",
    "\n",
    "#we can have multiple constructors in a python class, one from default parameter and other from class method.\n",
    "#the selection is dependent on situation\n",
    "\n",
    "#using default parameter:-\n",
    "class MyClass:\n",
    "    def __init__(self,name=None,age=None):\n",
    "        if name is not None and age is not None:\n",
    "            self.name=name\n",
    "            self.age=age\n",
    "        else:\n",
    "            self.name=\"Unknown\"\n",
    "            self.age=0\n",
    "obj1=MyClass()\n",
    "obj2=MyClass(\"Alice\", 25)\n",
    "#in above example, one object uses default and other uses defined values \n",
    "\n",
    "#using class method:-\n",
    "class Rectangle2:\n",
    "    def __init__(self,length,width):\n",
    "        self.length=length\n",
    "        self.width=width\n",
    "    @classmethod\n",
    "    def create_square(cls,side_length):\n",
    "        return cls(side_length,side_length)\n",
    "rectangle=Rectangle2(4,6)\n",
    "square=Rectangle2.create_square(5)\n",
    "#in this example, a class first creates/defines a rectangle then other constructor directly contacting with the class takes data and then\n",
    "#creates a square."
   ]
  },
  {
   "cell_type": "raw",
   "id": "d6cf1acf-51e7-4ccc-a271-07c51225c118",
   "metadata": {},
   "source": [
    "11. What is method overloading, and how is it related to constructors in Python?\n",
    "\n",
    "methodoverloading is a method by which a class is allowed to have multiple methods with same name but different parameters\n",
    "in relation to constructors in python the methodoverloading allows the constructor to hold different number or\n",
    "outcomes to intialise the object of the class."
   ]
  },
  {
   "cell_type": "code",
   "execution_count": 27,
   "id": "91411cf2-4d10-4463-8529-ea1b7b99148f",
   "metadata": {},
   "outputs": [
    {
     "name": "stdout",
     "output_type": "stream",
     "text": [
      "class one called\n",
      "class two called\n"
     ]
    }
   ],
   "source": [
    "#12. Explain the use of the `super()` function in Python constructors. Provide an example.\n",
    "\n",
    "#the function 'super()' in python constructors is used to call methods from the parent class to subclass\n",
    "#or it allows subclass to invoke methods and constructors from the superclass\n",
    "\n",
    "#example:-\n",
    "class one:\n",
    "    def __init__(self,name):\n",
    "        self.name=name\n",
    "        print('class one called')\n",
    "class two(one):\n",
    "    def __init__(self,name,age):\n",
    "        super().__init__(name)\n",
    "        self.age=age\n",
    "        print('class two called')\n",
    "three=two(name='ankit',age=21)"
   ]
  },
  {
   "cell_type": "code",
   "execution_count": 28,
   "id": "10a9f19f-0f95-4877-bcb0-9bb207409e79",
   "metadata": {},
   "outputs": [
    {
     "name": "stdout",
     "output_type": "stream",
     "text": [
      "Title: maths\n",
      "Author: ankit\n",
      "Published Year: 2023\n"
     ]
    }
   ],
   "source": [
    "#13. Create a class called `Book` with a constructor that initializes the `title`, `author`, and `published_year`\n",
    "#attributes. Provide a method to display book details.\n",
    "\n",
    "class Book:\n",
    "    def __init__(self,title,author,published_year):\n",
    "        self.title=title\n",
    "        self.author=author\n",
    "        self.published_year=published_year\n",
    "    def __str__(self):\n",
    "        return f\"Title: {self.title}\\nAuthor: {self.author}\\nPublished Year: {self.published_year}\"\n",
    "    def display_book_details(self):\n",
    "        print(f'Title: {self.title}')\n",
    "        print(f'Author: {self.author}')\n",
    "        print(f'Published Year: {self.published_year}')\n",
    "book1=Book(title='maths',author='ankit',published_year=2023)\n",
    "book1.display_book_details()"
   ]
  },
  {
   "cell_type": "raw",
   "id": "22676760-e0a9-4a5a-be7e-0a97f9f253ea",
   "metadata": {},
   "source": [
    "14. Discuss the differences between constructors and regular methods in Python classes.\n",
    "\n",
    "*constructors are invoke upon object creation and regular methods to perform certain tasks on \n",
    " the objects\n",
    "\n",
    "*constructors have perdefined name '__init__()' but regular methods can have any name as per their identification\n",
    " regular method can perform wide range of tasks on objects data, and constructors can intialize an object's state by setting\n",
    " its attributes values"
   ]
  },
  {
   "cell_type": "raw",
   "id": "4f87717a-57f1-4708-8412-fde4babf5585",
   "metadata": {},
   "source": [
    "15.Explain the role of the `self` parameter in instance variable initialization within a constructor.\n",
    "\n",
    "*self is used to access and initialize instance variable, when we define instance variables within the \n",
    " constructor using self, we are essentially binding those variables to the specific instance of the class being created.\n",
    " \n",
    "*the parameter self is to initialize instance variables, we ensure that each instance of the class maintains its own set of attributes\n",
    " this helps in keeping the state of each object independent of other instances.\n",
    " \n",
    "*the self parameter keeps the work arranged not allowing other attributed to entangle with their set of values"
   ]
  },
  {
   "cell_type": "code",
   "execution_count": 31,
   "id": "5fbc6b69-a4a7-44d4-8a23-ddebd217be74",
   "metadata": {},
   "outputs": [
    {
     "name": "stdout",
     "output_type": "stream",
     "text": [
      "True\n"
     ]
    }
   ],
   "source": [
    "#16. How do you prevent a class from having multiple instances by using constructors in Python? Provide an\n",
    "#example.\n",
    "\n",
    "#to prevent a class from having multiple instances we can use singleton design pattern, singleton design pattern\n",
    "#provied a global access point of the instance\n",
    "\n",
    "class Singleton:\n",
    "    _instance=None\n",
    "    def __new__(cls):\n",
    "        if cls._instance is None:\n",
    "            cls._instance=super().__new__(cls)\n",
    "        return cls._instance\n",
    "singleton1=Singleton()\n",
    "singleton2=Singleton()\n",
    "print(singleton1 is singleton2)"
   ]
  },
  {
   "cell_type": "code",
   "execution_count": 32,
   "id": "ac9d858e-aeba-40a5-80b7-8aed63559834",
   "metadata": {},
   "outputs": [
    {
     "name": "stdout",
     "output_type": "stream",
     "text": [
      "['maths', 'general_knowledge', 'science']\n"
     ]
    }
   ],
   "source": [
    "#17. Create a Python class called `Student` with a constructor that takes a list of subjects as a parameter and\n",
    "#initializes the `subjects` attribute.\n",
    "\n",
    "class Student:\n",
    "    def __init__(self,subjects):\n",
    "        self.subjects=subjects\n",
    "#usage:-\n",
    "subjects_list=['maths','general_knowledge','science']\n",
    "student1=Student(subjects_list)\n",
    "print(student1.subjects)"
   ]
  },
  {
   "cell_type": "raw",
   "id": "86d64bc4-cf0e-4f60-9820-5a179a7472fb",
   "metadata": {},
   "source": [
    "18. What is the purpose of the `__del__` method in Python classes, and how does it relate to constructors?\n",
    "\n",
    "-the purpose of '__del__' method in python class is just opposite of the constructor \"__init__\"\n",
    "-the '__del__' method cleans up the object and its properties when called upon, \n",
    "-the constructors setup an object by intializing it and the method '__del__' deletes the object and its properties\n",
    "-the \"__del__\" perform necessary cleanup tasks"
   ]
  },
  {
   "cell_type": "code",
   "execution_count": 33,
   "id": "35282d38-793a-4478-b80c-b1ded0e9f15f",
   "metadata": {},
   "outputs": [
    {
     "name": "stdout",
     "output_type": "stream",
     "text": [
      "Species: Canine\n",
      "Breed: Golden Retriever\n"
     ]
    }
   ],
   "source": [
    "#19. Explain the use of constructor chaining in Python. Provide a practical example.\n",
    "\n",
    "#Constructor chaining, also known as constructor delegation is the process of calling one constructor from \n",
    "#another constructor within the same class or from a subclass constructor to a superclass constructor. This allows \n",
    "#for code reuse and helps in maintaining a clear hierarchy in class initialization.\n",
    "\n",
    "#practical example of constructor chaining:-\n",
    "class Animal:\n",
    "    def __init__(self,species):\n",
    "        self.species=species\n",
    "    def display_species(self):\n",
    "        print(f\"Species: {self.species}\")\n",
    "class Dog(Animal):\n",
    "    def __init__(self,species,breed):\n",
    "        super().__init__(species)\n",
    "        self.breed=breed\n",
    "    def display_info(self):\n",
    "        super().display_species()\n",
    "        print(f\"Breed: {self.breed}\")\n",
    "dog1=Dog(\"Canine\",\"Golden Retriever\")\n",
    "dog1.display_info()"
   ]
  },
  {
   "cell_type": "code",
   "execution_count": 34,
   "id": "aff358ad-8f4f-42f3-864b-ebeced9824ab",
   "metadata": {},
   "outputs": [
    {
     "name": "stdout",
     "output_type": "stream",
     "text": [
      "Make: toyota\n",
      "Model: hilux\n"
     ]
    }
   ],
   "source": [
    "#20. Create a Python class called `Car` with a default constructor that initializes the `make` and `model`\n",
    "#attributes. Provide a method to display car information.\n",
    "\n",
    "class Car:\n",
    "    def __init__(self,make,model):\n",
    "        self.make=make\n",
    "        self.model=model\n",
    "    def display_car_information(self):\n",
    "        print(f'Make: {self.make}')\n",
    "        print(f'Model: {self.model}')\n",
    "#usage:-\n",
    "car1=Car(make='toyota',model='hilux')\n",
    "car1.display_car_information()"
   ]
  },
  {
   "cell_type": "markdown",
   "id": "d096b960-2f72-432e-8574-f3e0d4187554",
   "metadata": {},
   "source": [
    "Inheritance:"
   ]
  },
  {
   "cell_type": "raw",
   "id": "b87f8974-191f-4157-99ea-bc8ba824a1d4",
   "metadata": {},
   "source": [
    "1. What is inheritance in Python? Explain its significance in object-oriented programming.\n",
    "\n",
    "*Inheritance in python is a process by which a class can copy or get the attributes and methods,\n",
    " from the parentclass. \n",
    "\n",
    "*When we use Inheritance in python, it promotes code reusability by allowing to getting the same attributes\n",
    " and methods from the parentclass\n",
    "\n",
    "*Inheritance resolves code complexity by allowing subclasses to inherit the properties of parentclass,\n",
    " creating simpler and less lines of code\n",
    "\n",
    "*Inheritance improves the flexiblity of the code by allowing addition of the features in the inherited attributes and \n",
    " methods in the subclass"
   ]
  },
  {
   "cell_type": "code",
   "execution_count": 35,
   "id": "a72c4e76-f386-4be5-a1a0-50376abb4ba8",
   "metadata": {},
   "outputs": [
    {
     "name": "stdout",
     "output_type": "stream",
     "text": [
      "Dog barks\n",
      "School name: dav\n",
      "Student name: ankit\n",
      "Roll number 2212006\n",
      "Standard: 16th\n"
     ]
    }
   ],
   "source": [
    "#2. Differentiate between single inheritance and multiple inheritance in Python. Provide examples for each.\n",
    "\n",
    "#In single inheritance, we inherit only methods and attributes of one base class\n",
    "#In Multiple inheritance, we inherit attributes and methods of two or more classes into a subclass\n",
    "#In single inheritance there is no issue of attributes and methods to be conflicting as in Multiple inheritance\n",
    " #while executing multiple inheritance we should be careful of the design of the base classes that they do not create confusion.\n",
    "    \n",
    "#example of single inheritance:-\n",
    "class Animal:\n",
    "    def sound(self):\n",
    "        print(\"Animal makes a sound\")\n",
    "class Dog(Animal):\n",
    "    def sound(self):\n",
    "        print(\"Dog barks\")\n",
    "dog=Dog()\n",
    "dog.sound()\n",
    "\n",
    "#example of multiple inheritance\n",
    "class School:\n",
    "    def __init__(self,school_name):\n",
    "        self.school_name=school_name\n",
    "class Standard:\n",
    "    def __init__(self,standard):\n",
    "        self.standard=standard\n",
    "    def in_standard(self):\n",
    "        print(f'student is in {self.standard} standard')\n",
    "class Student(School,Standard):\n",
    "    def __init__(self,name,roll_number,standard,school_name):\n",
    "        School.__init__(self,school_name)\n",
    "        Standard.__init__(self,standard)\n",
    "        self.name=name\n",
    "        self.roll_number=roll_number\n",
    "    def details_of_student(self):\n",
    "        print(f'School name: {self.school_name}')\n",
    "        print(f'Student name: {self.name}')\n",
    "        print(f'Roll number {self.roll_number}')\n",
    "        print(f'Standard: {self.standard}')\n",
    "ankit=Student('ankit',2212006,'16th','dav')\n",
    "ankit.details_of_student()"
   ]
  },
  {
   "cell_type": "code",
   "execution_count": 36,
   "id": "d0185ac3-1f52-4be9-a2a7-693c51731daa",
   "metadata": {},
   "outputs": [
    {
     "name": "stdout",
     "output_type": "stream",
     "text": [
      "Car color is: red\n",
      "Car speed is: 150km\n",
      "Car Brand is: toyota\n"
     ]
    }
   ],
   "source": [
    "#3Create a Python class called `Vehicle` with attributes `color` and `speed`. Then, create a child class called\n",
    "#`Car` that inherits from `Vehicle` and adds a `brand` attribute. Provide an example of creating a `Car` object.\n",
    "\n",
    "class Vehicle:\n",
    "    def __init__(self,color,speed):\n",
    "        self.color=color\n",
    "        self.speed=speed\n",
    "        print(f'Car color is: {self.color}')\n",
    "        print(f'Car speed is: {self.speed}')\n",
    "class Car(Vehicle):\n",
    "    def __init__(self,brand,speed,color):\n",
    "        super().__init__(color,speed)\n",
    "        self.brand=brand\n",
    "        print(f'Car Brand is: {self.brand}')\n",
    "car1=Car(color='red',speed='150km',brand='toyota')"
   ]
  },
  {
   "cell_type": "code",
   "execution_count": 37,
   "id": "c34dd698-ecb6-4a99-adc6-56fd891d083c",
   "metadata": {},
   "outputs": [
    {
     "name": "stdout",
     "output_type": "stream",
     "text": [
      "this is output of class abc\n",
      "this is output of class Def\n"
     ]
    }
   ],
   "source": [
    "#4. Explain the concept of method overriding in inheritance. Provide a practical example.\n",
    "\n",
    "#method overriding in inheritance refers to the ability of a subclass to overwrite the inherited method's \n",
    "#output according to its own need, meaning the subclass can make changes in the inherited method or attributes \n",
    "#overriding the output\n",
    "\n",
    "#example of method overriding in inheritance:-\n",
    "class Abc:\n",
    "    def printsomething(self):\n",
    "        print('this is output of class abc')\n",
    "class Def(Abc):\n",
    "    def printsomething(self):\n",
    "        print('this is output of class Def')\n",
    "#from class Abc()\n",
    "object1=Abc()\n",
    "object1.printsomething()\n",
    "\n",
    "#from class Def()\n",
    "object2=Def()\n",
    "object2.printsomething()"
   ]
  },
  {
   "cell_type": "code",
   "execution_count": 38,
   "id": "ab8a1b71-1c43-4730-a594-48640687d0ca",
   "metadata": {},
   "outputs": [
    {
     "name": "stdout",
     "output_type": "stream",
     "text": [
      "this is output of Exampleclass1\n",
      "this is output of Exampleclass2\n"
     ]
    }
   ],
   "source": [
    "#5. How can you access the methods and attributes of a parent class from a child class in Python? Give an\n",
    "#example.\n",
    "\n",
    "#we can access the methods and attributes of a parent class form a child class by inheritance method\n",
    "#inheritance method allows the parent's class attributes and methods to be used by its base/child class\n",
    "\n",
    "#example of inheritance by which we can access the methods and attributes of a parent class from a child class in Python:-\n",
    "class Exampleclass1:\n",
    "    def __init__(self,attribute_one):\n",
    "        self.attribute_one=attribute_one\n",
    "        print(f'this is output of Exampleclass1')\n",
    "class Exampleclass2(Exampleclass1):\n",
    "    def __init__(self,attribute_one,attribute_two):\n",
    "        super().__init__(attribute_one)\n",
    "        self.attribute_two=attribute_two\n",
    "        print(f'this is output of Exampleclass2')\n",
    "objectexample=Exampleclass2('my name','is ankit')\n",
    "#here we created an object of class 'Examplelclass2' which inherits the attributes of its parentclass 'Exampleclass1'\n",
    "#this object will use attribute resources of 'Exampleclass1' which signifies that we can access the methods and attributes of \n",
    "#class 'Exampleclass1'"
   ]
  },
  {
   "cell_type": "code",
   "execution_count": 39,
   "id": "1ef3028a-dc5c-4fc9-ba91-eb98356cf85b",
   "metadata": {},
   "outputs": [
    {
     "name": "stdout",
     "output_type": "stream",
     "text": [
      "Buddy makes a sound\n",
      "Buddy barks\n"
     ]
    }
   ],
   "source": [
    "#6. Discuss the use of the `super()` function in Python inheritance. When and why is it used? Provide an example.\n",
    "\n",
    "#the function 'super()' in python inheritance is used to access attributes from the parent class into the subclass\n",
    "#'super()' function is used when its need to access attributes from the parent class at the moment\n",
    "\n",
    "#example:-\n",
    "class Animal23:\n",
    "    def __init__(self,name):\n",
    "        self.name=name\n",
    "    def speak(self):\n",
    "        print(f\"{self.name} makes a sound\")\n",
    "class Dog23(Animal23):\n",
    "    def __init__(self,name,breed):\n",
    "        super().__init__(name)\n",
    "        self.breed=breed\n",
    "    def speak(self):\n",
    "        super().speak()\n",
    "        print(f\"{self.name} barks\")\n",
    "my_dog=Dog23(\"Buddy\",\"Golden Retriever\")\n",
    "my_dog.speak()"
   ]
  },
  {
   "cell_type": "code",
   "execution_count": 40,
   "id": "4b690394-61e2-4805-9fc9-254327e70243",
   "metadata": {},
   "outputs": [
    {
     "name": "stdout",
     "output_type": "stream",
     "text": [
      "Buddy makes a sound\n",
      "Buddy barks\n",
      "billi mosi makes a sound\n",
      "billi mosi meows\n"
     ]
    }
   ],
   "source": [
    "#7. Create a Python class called `Animal` with a method `speak()`. Then, create child classes `Dog` and `Cat`\n",
    "#that inherits from 'Animal' and overides the 'speak()' method. Provide an example of using these classes.\n",
    " \n",
    "class Animal:\n",
    "    def __init__(self,name):\n",
    "        self.name=name\n",
    "    def speak(self):\n",
    "        print(f'{self.name} makes a sound')\n",
    "class Dog(Animal):\n",
    "    def __init__(self,name,breed):\n",
    "        super().__init__(name)\n",
    "        self.breed=breed\n",
    "    def speak(self):\n",
    "        super().speak()\n",
    "        print(f'{self.name} barks')\n",
    "class Cat(Animal):\n",
    "    def __init__(self,name,breed):\n",
    "        super().__init__(name)\n",
    "        self.breed=breed\n",
    "    def speak(self):\n",
    "        super().speak()\n",
    "        print(f'{self.name} meows')\n",
    "my_dog=Dog('Buddy','Golden Retriever')\n",
    "my_dog.speak()\n",
    "my_cat=Cat('billi mosi','cats ki breed malum nahi')\n",
    "my_cat.speak()"
   ]
  },
  {
   "cell_type": "raw",
   "id": "a5847d44-9547-40ad-9d50-679b6992b933",
   "metadata": {},
   "source": [
    "8.Explain the role of the `isinstance()` function in Python and how it relates to inheritance.\n",
    "\n",
    "*the role of 'isinstance()' function in python while using inheritance is used to determine wether an object is related to \n",
    " a particular class or any of its subclass\n",
    "\n",
    "*it takes two parameters: the object to be checked and the class\n",
    "\n",
    "*it helps you ascertain the relationship between an object and a class within the inheritance hierarchy, \n",
    " allowing you to write flexible and dynamic code that can handle different types of objects effectively."
   ]
  },
  {
   "cell_type": "code",
   "execution_count": 41,
   "id": "a86da4eb-3969-4bb8-9e67-730aaac32131",
   "metadata": {},
   "outputs": [
    {
     "name": "stdout",
     "output_type": "stream",
     "text": [
      "True\n",
      "True\n",
      "False\n",
      "False\n"
     ]
    }
   ],
   "source": [
    "#9. What is the purpose of the `issubclass()` function in Python? Provide an example.\n",
    "\n",
    "#the issubclass() function in Python is used to determine whether a given class is a subclass of another class.\n",
    "#it takes two arguments: the potential subclass and the potential superclass.\n",
    "#it returns True if the first argument is indeed a subclass of the second argument, and False otherwise.\n",
    "\n",
    "class Shape:\n",
    "    pass\n",
    "class Rectangle(Shape):\n",
    "    pass\n",
    "class Circle(Shape):\n",
    "    pass\n",
    "class Triangle:\n",
    "    pass\n",
    "print(issubclass(Rectangle, Shape)) \n",
    "print(issubclass(Circle, Shape))    \n",
    "print(issubclass(Triangle, Shape))   \n",
    "print(issubclass(Shape, Triangle))"
   ]
  },
  {
   "cell_type": "raw",
   "id": "e8e6aff2-15e2-44e2-90ce-efec3ed08992",
   "metadata": {},
   "source": [
    "10.Discuss the concept of constructor inheritance in Python. How are constructors inherited in child classes?\n",
    "\n",
    "*constructors are inherited in child classes through the mechanism of method resolution order\n",
    " and the super() function. When we define a subclass, if we do not explicitly define a constructor \n",
    " (__init__ method), Python automatically looks up the inheritance chain to find the constructor of the\n",
    " superclass.\n",
    "*if a constructor is found in the superclass, python will call it during the instantiation of the subclass.\n",
    "\n",
    "*here's how are constructors inherited in child classes:-\n",
    " if we do not define constructors in child class then python automatically looks up for constructors from its superclass\n",
    " by 'super()' function we inherit the attributes and constructors of the parentclass into childclass"
   ]
  },
  {
   "cell_type": "code",
   "execution_count": 42,
   "id": "5687abcb-fb19-4262-8ecc-1b91cad394d0",
   "metadata": {},
   "outputs": [
    {
     "name": "stdout",
     "output_type": "stream",
     "text": [
      "area of circle is: 3.141592653589793\n"
     ]
    }
   ],
   "source": [
    "#11. Create a Python class called `Shape` with a method `area()` that calculates the area of a shape. Then,\n",
    "#create child classes `Circle` and `Rectangle` that inherit from `Shape` and implement the `area()` method\n",
    "#accordingly. Provide an example.\n",
    "\n",
    "import math\n",
    "class Shape2:\n",
    "    def area(self):\n",
    "        pass\n",
    "class Rectangle2(Shape2):\n",
    "    def __init__(self,length,width):\n",
    "        self.length=length\n",
    "        self.width=width\n",
    "    def area(self):\n",
    "        return self.length*self.width\n",
    "class Circle2(Shape2):\n",
    "    def __init__(self,radius):\n",
    "        self.radius=radius\n",
    "\n",
    "    def area(self):\n",
    "        return math.pi*self.radius**2\n",
    "circle=Circle2(1)\n",
    "print('area of circle is:',circle.area())"
   ]
  },
  {
   "cell_type": "code",
   "execution_count": 43,
   "id": "8e197bb1-4513-45ca-be4c-38575b482c16",
   "metadata": {},
   "outputs": [
    {
     "name": "stdout",
     "output_type": "stream",
     "text": [
      "running\n"
     ]
    }
   ],
   "source": [
    "#12. Explain the use of abstract base classes (ABCs) in Python and how they relate to inheritance. Provide an\n",
    "#example using the `abc` module.\n",
    "\n",
    "#abstract method is a method which only has a declaration not a definition, a class is called abstract class only if it has at least one\n",
    "#abstrat method, when we inherit a abstract class to a child class it should define all the abstract method present in the parent class,\n",
    "#if it is not done then child class becomes a abstract class automatically \n",
    "#pyhton by default dont support abstract class and abstract method, so there is a pacakage called 'ABC(abstract base class)' by which we can\n",
    "#we can make a class or method abstract.\n",
    "from abc import ABC, abstractmethod\n",
    "class Computer :\n",
    "    @abstractmethod\n",
    "    def process(self):\n",
    "        pass\n",
    "\n",
    "class Laptop(Computer):\n",
    "    def process(self):\n",
    "        print('running')\n",
    "pro1=Laptop()\n",
    "pro1.process()"
   ]
  },
  {
   "cell_type": "raw",
   "id": "693824c6-0840-485c-903c-6968f64510aa",
   "metadata": {},
   "source": [
    "13. How can you prevent a child class from modifying certain attributes or methods inherited from a parent\n",
    " class in Python?\n",
    "\n",
    "*by making the attributes and methods private or by name mangling we can prevent the child class from modifying\n",
    " certain methods or attributes inherited from a parent class in python.\n",
    "\n",
    "*private attributes or methods:-\n",
    " when we prefix the attribute or method with '__' 'double underscore' while creating them in parent class, it makes the attribute \n",
    " or method private this means they can be only accessed within the class itself\n",
    "\n",
    "*name mangling:-\n",
    " when we prefix the attribute or method with '_' 'single underscore' with the parent class while creating them in parent class,\n",
    " this will effectively change the name of the attribute or method in a way that makes it harder for the child class to access\n",
    " or modify it directly."
   ]
  },
  {
   "cell_type": "code",
   "execution_count": 44,
   "id": "31ecf07a-4782-458d-82ee-5ccfb78c500f",
   "metadata": {},
   "outputs": [
    {
     "name": "stdout",
     "output_type": "stream",
     "text": [
      "None\n"
     ]
    }
   ],
   "source": [
    "#14. Create a Python class called `Employee` with attributes `name` and `salary`. Then, create a child class\n",
    "#`Manager` that inherits from `Employee` and adds an attribute `department`. Provide an example.\n",
    "\n",
    "class Employee:\n",
    "    def __init__(self,name,salary):\n",
    "        self.name=name\n",
    "        self.salary=salary\n",
    "        \n",
    "class Manager(Employee):\n",
    "    def __init__(self,name,salary,department):\n",
    "        super().__init__(name,salary)\n",
    "        self.department=department\n",
    "        \n",
    "Manager1=Manager('xyz','None','left side')\n",
    "print(Manager1.salary)"
   ]
  },
  {
   "cell_type": "raw",
   "id": "c93cbd6a-a564-4989-92af-f5e56dd943df",
   "metadata": {},
   "source": [
    "15. Discuss the concept of method overloading in Python inheritance. How does it differ from method\n",
    "overriding?\n",
    "\n",
    "*method overloading in python inhertance is the ability to define multiple methods in the class with \n",
    " the same name but different parameters.\n",
    "*in python method overloading in not support as in other programming languages but we can achieve it by\n",
    " using '*args' and '*kwargs' variable length arugements\n",
    " \n",
    "*method overriding in python inheritance is when a subclass redefine a particular method inherited from its parentclass\n",
    " or which already exists in its parentclass\n",
    "*the subclass method has the same name as from its parentclass but it effectively redefine it overriding parentclass implementation"
   ]
  },
  {
   "cell_type": "raw",
   "id": "7b370b86-b10f-4b79-8ad5-af86097059d8",
   "metadata": {},
   "source": [
    "16. Explain the purpose of the `__init__()` method in Python inheritance and how it is utilized in child classes.\n",
    "\n",
    "*the '__inti__()' method is a constructor in python which is called automatically when a new instance of a class is created\n",
    " this method or constructor primary purpose is to intialize attributes of a object for proper functioning\n",
    " \n",
    "*we can utilize the '__init__()' method or constructor in child class by using the 'super()' method\n",
    " first we define the subclass overriding of a method if any, then we inherit the attributes from the parent class but using 'super()'\n",
    " method, we can also add multiple attributes to the childclass along with inherited attributes from parentclass"
   ]
  },
  {
   "cell_type": "code",
   "execution_count": 45,
   "id": "4cb48f8e-c9e3-40b3-8cc8-5f04c18dcc9c",
   "metadata": {},
   "outputs": [
    {
     "name": "stdout",
     "output_type": "stream",
     "text": [
      "flying speed is 320km/hr\n",
      "flying speed is 46km/hr\n"
     ]
    }
   ],
   "source": [
    "#17. Create a Python class called `Bird` with a method `fly()`. Then, create child classes `Eagle` and \n",
    "#`Sparrow` that inherit from `Bird` and implement the `fly()` method differently. Provide an example of using these\n",
    "#classes.\n",
    "\n",
    "class Bird:\n",
    "    def fly(self):\n",
    "        pass\n",
    "\n",
    "class Eagle(Bird):\n",
    "    def fly(self):\n",
    "        print('flying speed is 320km/hr')\n",
    "        \n",
    "class Sparrow(Bird):\n",
    "    def fly(self):\n",
    "        print('flying speed is 46km/hr')\n",
    "        \n",
    "golden_eagle=Eagle()\n",
    "chidiya=Sparrow()\n",
    "golden_eagle.fly()\n",
    "chidiya.fly()"
   ]
  },
  {
   "cell_type": "raw",
   "id": "ad1bbe30-a752-4b80-929a-19904e7ac7fc",
   "metadata": {},
   "source": [
    "18. What is the \"diamond problem\" in multiple inheritance, and how does Python address it?\n",
    "\n",
    "*the \"diamond problem: in multiple inheritance mainly occurs when a childclass inherits from two or more different parentclass\n",
    " with common source/ancestor, and when a method is overridden in childclass it become confusing to which implementation should be used\n",
    " in the child class\n",
    "\n",
    "*python addresses the diamond problem by method resolution order algorithm known as C3 realization \n",
    " this algorithm determines the order in which base classes are searched for a method or attribute during inheritance.\n",
    " this method is consistence and predictable and base classes are serched before derived classes\n",
    " the order of base class is preserved in child class\n",
    " class's base classes are considered in the order they are defined in the class definition.\n",
    " \n",
    "*by following these rules, python resolves the diamond problem and ensures that method resolution is not confusing and predictable."
   ]
  },
  {
   "cell_type": "code",
   "execution_count": 47,
   "id": "90236aac-8209-4460-9f11-af19ff75b18b",
   "metadata": {},
   "outputs": [],
   "source": [
    "#19. Discuss the concept of \"is-a\" and \"has-a\" relationships in inheritance, and provide examples of each.\n",
    "\n",
    "#in the context of inheritance and composition the concept of \"is-a\" and \"has-a\" are fundamental in oops programming concept\n",
    "#these relationships help define the interaction and associations between classes and objects\n",
    "\n",
    "#in oops programming concept every inheritance defines that a subclass \"is-a\" specialized version of its superclass\n",
    "#inheriting its attributes and behaviours.\n",
    "#for example is a baseclass inherites from its parentclass that means its every activity is also the ativity of its\n",
    "#parentclass\n",
    "\n",
    "#for example:-\n",
    "class Animal:\n",
    "    pass\n",
    "class Dog(Animal):\n",
    "    pass\n",
    "#in this example every instance of the class \"dog\" is also the instance of class Animal, because they have a \"is-a\" relation\n",
    "#meaning one class is childclass of another.\n",
    "\n",
    "#compositon in oops programming concept also represents \"has-a\" relation, this compositon represents that a class has a certain\n",
    "#component or attribute as a part of its composition\n",
    "#unlike inheritance, where the subclass inherits from the superclass composition involves including instances of other\n",
    "#classes as attributes within a class.\n",
    "\n",
    "#for example:-\n",
    "class Engine:\n",
    "    pass\n",
    "class Car:\n",
    "    def __init__(self):\n",
    "        self.engine=Engine()\n",
    "#in this example Car \"has-a\" relationship with Engine meaning that every instance of Car contains an instance of Engine."
   ]
  },
  {
   "cell_type": "code",
   "execution_count": 48,
   "id": "81176dfd-6e81-46c4-857e-eed51b9ee641",
   "metadata": {},
   "outputs": [
    {
     "name": "stdout",
     "output_type": "stream",
     "text": [
      "Student Name: ankit\n",
      "Student Roll Number: S123\n",
      "Student Department: Computer Science\n",
      "Professor Name: Dr. xyz\n",
      "Professor Salary: 75000\n",
      "Professor Department: Computer Science\n"
     ]
    }
   ],
   "source": [
    "#20. Create a Python class hierarchy for a university system. Start with a base class `Person` and create child\n",
    "#classes `Student` and `Professor`, each with their own attributes and methods. Provide an example of using\n",
    "#these classes in a university context.\n",
    "\n",
    "class Person:\n",
    "    def __init__(self,name):\n",
    "        self.name=name\n",
    "class Student(Person):\n",
    "    def __init__(self,name,roll_number,department):\n",
    "        super().__init__(name)\n",
    "        self.roll_number=roll_number\n",
    "        self.department=department\n",
    "class Professor(Person):\n",
    "    def __init__(self,name,salary,department):\n",
    "        super().__init__(name)\n",
    "        self.salary=salary\n",
    "        self.department=department\n",
    "        \n",
    "student1 = Student(\"ankit\", \"S123\", \"Computer Science\")\n",
    "professor1 = Professor(\"Dr. xyz\", 75000, \"Computer Science\")\n",
    "\n",
    "print(\"Student Name:\", student1.name)\n",
    "print(\"Student Roll Number:\", student1.roll_number)\n",
    "print(\"Student Department:\", student1.department)\n",
    "\n",
    "print(\"Professor Name:\", professor1.name)\n",
    "print(\"Professor Salary:\", professor1.salary)\n",
    "print(\"Professor Department:\", professor1.department)"
   ]
  },
  {
   "cell_type": "markdown",
   "id": "74cd529f-17a7-414b-9914-7655e692eef3",
   "metadata": {},
   "source": [
    "Encapsulation:"
   ]
  },
  {
   "cell_type": "raw",
   "id": "aecb1334-cd3f-4354-8422-11cd659544a8",
   "metadata": {},
   "source": [
    "1. Explain the concept of encapsulation in Python. What is its role in object-oriented programming?\n",
    "\n",
    "*Encapsulation concept in python is a fundamental part of object oriented programming concept,\n",
    " and refers to the bundeling of attributes and functions that operate on data into a single unit, basically called\n",
    " a class\n",
    "* in python encapsulation is achieved through the use of classes and access specifiers.\n",
    "\n",
    "*concept of encapsulation and its role in OOP:\n",
    " encapsulation hides the internal state of a data which keeps the information safe and secure from unauthorized modification \n",
    " and it can be only modified by provided methods and specifiers by the class\n",
    " encapsulation presents a simplied interface to the outside world, which means the user doesn't need to know what's in the internal \n",
    " implementation \n",
    " encapsulation helps organize code by grouping related data and behavior together within a class.\n",
    " \n",
    "*methods and attributes with no leading underscores are public and can be accessed outside the class\n",
    "*methods and attributes with leading single underscore are private and can not be accessed from outside the class\n",
    "*methods and attributes with leading double underscore are protected and can be only accessed within the class and in its subclasses"
   ]
  },
  {
   "cell_type": "raw",
   "id": "ea639681-47e6-48e6-a5d7-5d6bef192d0f",
   "metadata": {},
   "source": [
    "2. Describe the key principles of encapsulation, including access control and data hiding.\n",
    "\n",
    "*the encapsulation is one of the core principles of oops refers to the bundeling of attributes and \n",
    " function that operate in data into a single unit called a class, key principle of encapsultion include data hiding and  \n",
    " access control which is important for the integrity of the code , its security, and maintainability\n",
    "\n",
    "*access control:-\n",
    " access control defines how the classes can be accessed from outside definition and inside the class itself\n",
    " in oops, access control is implemented by using some specifiers according to the demand and access'\n",
    "*public members are accessible from outside the class and can be accessed and modified by any code that has access to the object\n",
    "*private members are accessible only within the class definition itself and cannot be accessed from outside the class\n",
    "*protected members are accessible within the class definition and its subclasses (inheritance), but they cannot be accessed from outside the class\n",
    " hierarchy\n",
    " \n",
    "*data hiding:-\n",
    " data hiding means hiding the internal state of an object from outside the class and it ensures that object's state is only accessed and modified\n",
    " through well defined methods provided by the class\n",
    " we prevent unwanted changes and breaches to internal state on an object by making the data within the class private or protected using specifiers"
   ]
  },
  {
   "cell_type": "code",
   "execution_count": 49,
   "id": "945eb688-46ab-466a-acaa-baad9ba51f39",
   "metadata": {},
   "outputs": [
    {
     "name": "stdout",
     "output_type": "stream",
     "text": [
      "this is output from public method and can be accessed outside the class\n",
      "['_Encaping__protected_method', '__class__', '__delattr__', '__dict__', '__dir__', '__doc__', '__eq__', '__format__', '__ge__', '__getattribute__', '__gt__', '__hash__', '__init__', '__init_subclass__', '__le__', '__lt__', '__module__', '__ne__', '__new__', '__reduce__', '__reduce_ex__', '__repr__', '__setattr__', '__sizeof__', '__str__', '__subclasshook__', '__weakref__', '_private_method', 'public_ka_method']\n",
      "this is output from private method and can not be accessed from outside the class\n",
      "this is output from protected method and can only be achieved within the class and in its subclasses\n"
     ]
    }
   ],
   "source": [
    "#3. How can you achieve encapsulation in Python classes? Provide an example.\n",
    "\n",
    "#we can achieve encapsulation by using specifiers like single'_',double underscore'__' followed by methods or attributes\n",
    "#single underscore means private method or attribute\n",
    "#double underscore means protected method or attribute\n",
    "#example:-\n",
    "class Encaping:\n",
    "    def _private_method(self):\n",
    "        print('this is output from private method and can not be accessed from outside the class')\n",
    "    def __protected_method(self):\n",
    "        print('this is output from protected method and can only be achieved within the class and in its subclasses')\n",
    "    def public_ka_method(self):\n",
    "        print('this is output from public method and can be accessed outside the class')\n",
    "obj33=Encaping()\n",
    "obj33.public_ka_method()\n",
    "print(dir(obj33)) #reveals private and protected methods\n",
    "obj33._private_method()\n",
    "obj33._Encaping__protected_method()"
   ]
  },
  {
   "cell_type": "raw",
   "id": "5fbe4ab3-4e14-4d7f-a424-b0528f3e0790",
   "metadata": {},
   "source": [
    "4. Discuss the difference between public, private, and protected access modifiers in Python.\n",
    "\n",
    "*public access modfiers are accessible from outside the class and can be accessed and modified by any code that has access to the object\n",
    " public methods and attributes doesn't follow any underscore specifiers\n",
    " \n",
    "*private access modifiers are accessible only within the class definition itself and cannot be accessed from outside the class\n",
    " private methods and attributes follow single underscore '_'\n",
    " \n",
    "*protected access modifiers are accessible within the class definition and its subclasses (inheritance),\n",
    " but they cannot be accessed from outside the hierarchy\n",
    " protected methods and attributes follow double underscore '__'"
   ]
  },
  {
   "cell_type": "code",
   "execution_count": 50,
   "id": "b73335d7-2215-48c3-93f9-25a157df7665",
   "metadata": {},
   "outputs": [
    {
     "data": {
      "text/plain": [
       "'no name'"
      ]
     },
     "execution_count": 50,
     "metadata": {},
     "output_type": "execute_result"
    }
   ],
   "source": [
    "#5. Create a Python class called `Person` with a private attribute `__name`. Provide methods to get and set the\n",
    "#name attribute.\n",
    "\n",
    "class Person:\n",
    "    def __init__(self,name):\n",
    "        self.__name=name\n",
    "        \n",
    "    def get_name(self):\n",
    "        return self.__name\n",
    "    \n",
    "    def set_name(self,name):\n",
    "        self.__name=name\n",
    "        \n",
    "man1=Person('ankit')\n",
    "man1.get_name()\n",
    "man1.set_name('no name')\n",
    "man1.get_name()"
   ]
  },
  {
   "cell_type": "code",
   "execution_count": 51,
   "id": "d44d8b0a-812c-4bb6-aba6-d1daf86003af",
   "metadata": {},
   "outputs": [],
   "source": [
    "#6. Explain the purpose of getter and setter methods in encapsulation. Provide examples.\n",
    "\n",
    "#getter methods:-\n",
    "#getter methods are used to retrieve the value of an attribute (or property) of a class.\n",
    "#they provide controlled access to the attribute by allowing external code to retrieve its \n",
    " #value without directly accessing the attribute itself.\n",
    "#getter methods can perform additional operations or checks before returning the attribute value,\n",
    " #such as formatting or validation.\n",
    "#getter methods typically have names prefixed with get_ followed by the attribute name\n",
    "\n",
    "#getter method example:-\n",
    "class Person:\n",
    "    def __init__(self,name):\n",
    "        self.__name=name\n",
    "        \n",
    "    def get_name(self):\n",
    "        return self.__name\n",
    "    \n",
    "#setter methods:-\n",
    "#setter methods are used to modify the value of an attribute (or property) of a class.\n",
    "#they provide controlled access to the attribute by allowing external code to set its \n",
    " #value through a method call rather than directly modifying the attribute.\n",
    "#Setter methods can enforce constraints or perform validations before allowing the \n",
    " #attribute to be modified, ensuring data integrity.\n",
    "#Setter methods typically have names prefixed with set_ followed by the attribute name\n",
    "\n",
    "#setter method example:-\n",
    "class Person:\n",
    "    def __init__(self,name):\n",
    "        self.__name=name\n",
    "        \n",
    "    def set_name(self,name):\n",
    "        self.__name=name"
   ]
  },
  {
   "cell_type": "raw",
   "id": "c1905b1a-c38f-405c-9985-0205aa0f5710",
   "metadata": {},
   "source": [
    "7. What is name mangling in Python, and how does it affect encapsulation?\n",
    "\n",
    "*name mangling is a mechanism in python that makes attributes or class methods private to the class where they are\n",
    " defined while still allowing subclasses to override or extend them\n",
    " \n",
    "*when an identifier (name) in a class definition is prefixed with double underscores __, \n",
    " python automatically performs name mangling by   prefixing the name with an underscore _ and the \n",
    " class name. This ensures that the name  becomes unique within its class hierarchy, preventing \n",
    " accidental overrides in subclasses and effectively making it private to the class.\n",
    " \n",
    "*name mangling primarily affects encapsulation by providing a form of private access control within the class hierarchy.\n",
    "\n",
    "*here's how name mangling affects encapsulation:-\n",
    "*name mangling alters the names of attributes and methods to make them private to where they are defined in the class\n",
    "*name mangling ensures internal integirty of class internal state \n",
    "*it prevents unintentional overrrides and accidental access\n"
   ]
  },
  {
   "cell_type": "code",
   "execution_count": 53,
   "id": "3435bba8-f9fa-4ae7-a4cd-5de899f356b4",
   "metadata": {},
   "outputs": [
    {
     "name": "stdin",
     "output_type": "stream",
     "text": [
      "enter the amount of money you want to deposit 700\n"
     ]
    },
    {
     "name": "stdout",
     "output_type": "stream",
     "text": [
      "700 money has been deposited to your account\n"
     ]
    },
    {
     "name": "stdin",
     "output_type": "stream",
     "text": [
      "enter the amount of money you want to withdrawl 10\n"
     ]
    },
    {
     "name": "stdout",
     "output_type": "stream",
     "text": [
      "10 money has been withdrawn to your account\n"
     ]
    },
    {
     "data": {
      "text/plain": [
       "690"
      ]
     },
     "execution_count": 53,
     "metadata": {},
     "output_type": "execute_result"
    }
   ],
   "source": [
    "#8. Create a Python class called `BankAccount` with private attributes for the account balance (`__balance`)\n",
    "#and account number ('__account_number'), provide methods for depositing and withdrawing money.\n",
    "\n",
    "class BankAccount:\n",
    "    def __init__(self,initial_balance,account_number):\n",
    "        self.__balance=initial_balance\n",
    "        self.__account_number=account_number\n",
    "    def depositmoney(self):\n",
    "        deposit_amount=int(input('enter the amount of money you want to deposit'))\n",
    "        self.__balance+=deposit_amount\n",
    "        print(f'{deposit_amount} money has been deposited to your account')\n",
    "        return self.__balance\n",
    "    def withdrawal_money(self):\n",
    "        withdrawal_amount=int(input('enter the amount of money you want to withdrawl'))\n",
    "        if withdrawal_amount <= self.__balance:\n",
    "            self.__balance-=withdrawal_amount\n",
    "            print(f'{withdrawal_amount} money has been withdrawn to your account')\n",
    "        else:\n",
    "            print(\"Insufficient funds\")\n",
    "        return self.__balance\n",
    "account1=BankAccount(0,22222)\n",
    "account1.depositmoney()\n",
    "account1.withdrawal_money()"
   ]
  },
  {
   "cell_type": "raw",
   "id": "54b4237f-3a03-45f7-8ef0-4002bf4226e7",
   "metadata": {},
   "source": [
    "9. Discuss the advantages of encapsulation in terms of code maintainability and security.\n",
    "\n",
    "*advantages of encapsulation in terms of code maintainability\n",
    " -encapsulation allows for the grouping of related data and behavior within a class\n",
    " -encapsulation hides the internal implementation details of a class behind an interface\n",
    " -encapsulation allows the hiding of internal state and implementation details of a class from external entities.\n",
    " -encapsulated classes with well-defined interfaces promote code reusability\n",
    " -encapsulation promotes user friendly code maintainability and readability, revealing only that much which is needed"
   ]
  },
  {
   "cell_type": "code",
   "execution_count": 54,
   "id": "e5a47a6d-75eb-42f0-93e1-dce438adaa0b",
   "metadata": {},
   "outputs": [
    {
     "name": "stdout",
     "output_type": "stream",
     "text": [
      "20\n"
     ]
    }
   ],
   "source": [
    "#10. How can you access private attributes in Python? Provide an example demonstrating the use of name\n",
    "#mangling.\n",
    "\n",
    "#in python a private variable can be accessed by the process of name mangling\n",
    "#we do it by prefixing the class attribute by double underscore '__' within the class definition\n",
    "\n",
    "class Kite:\n",
    "    def __init__(self):\n",
    "        self.__fly=20\n",
    "first=Kite()\n",
    "print(first._Kite__fly)"
   ]
  },
  {
   "cell_type": "code",
   "execution_count": 55,
   "id": "342ebaa2-984c-4cf2-b088-7c16adb5d4d9",
   "metadata": {},
   "outputs": [],
   "source": [
    "#11. Create a Python class hierarchy for a school system, including classes for students, teachers, and courses,\n",
    "#and implement encapsulation principles to protect sensitive information.\n",
    "\n",
    "class Student:\n",
    "    def __init__(self,name,contact,rollnumber,address):\n",
    "        self.name=name\n",
    "        self.__contact=contact\n",
    "        self.rollnumber=rollnumber\n",
    "        self.__address=address\n",
    "    def get_contact(self):\n",
    "        return self.__contact\n",
    "    def set_contact(self, contact):\n",
    "        self.__contact = contact\n",
    "    def get_address(self):\n",
    "        return self.__address\n",
    "    def set_address(self, address):\n",
    "        self.__address = address\n",
    "        \n",
    "class Teachers:\n",
    "    def __init__(self,name,contact,address,date_joined):\n",
    "        self.name=name\n",
    "        self.__contact=contact\n",
    "        self.__address=address\n",
    "        self.date_joined=date_joined\n",
    "    def get_contact(self):\n",
    "        return self.__contact\n",
    "    def set_contact(self, contact):\n",
    "        self.__contact = contact\n",
    "    def get_address(self):\n",
    "        return self.__address\n",
    "    def set_address(self, address):\n",
    "        self.__address = address\n",
    "\n",
    "class Courses:\n",
    "    def __init__(self,course_name,Type,duration,cost):\n",
    "        self.course_name=course_name\n",
    "        self.Type=Type\n",
    "        self.duration=duration\n",
    "        self.cost=cost"
   ]
  },
  {
   "cell_type": "raw",
   "id": "677cdcb3-4ad6-43ef-b176-af0ba0acbaea",
   "metadata": {},
   "source": [
    "12. Explain the concept of property decorators in Python and how they relate to encapsulation.\n",
    "\n",
    "*in python the property decorator are used to define getter,setter and delete methods for class attributes\n",
    " -they provide a way to customize attribute access and modification behavior while maintaining encapsulation.\n",
    " \n",
    "*getter method(@property)\n",
    " -this method allows we to define a method that behaves like a read only method\n",
    " -by using @property, we can encapsulate attribute access behavior, allowing us to perform \n",
    "  additional computations or validations before returning the attribute value.\n",
    " -this helps in controlling how attributes are accessed from outside the class, enhancing encapsulation\n",
    "  by hiding the internal implementation details  of the attribute.\n",
    "\n",
    "*setter method('@<attribute_name>.setter')\n",
    " -the <attribute_name>.setter decorator allows us to define a method that sets the value of an \n",
    "  attribute. It is used in conjunction with the @property decorator.\n",
    " -by defining a setter method, we can encapsulate attribute modification behavior, allowing us\n",
    "  to perform validation or additional processing before assigning a new value to the attribute.\n",
    "\n",
    "*deleter method('@<attribute_name>.delete')\n",
    " -the <attribute_name>.deleter decorator allows us to define a method that deletes an attribute.\n",
    "  It is also used in conjunction with the @property decorator.\n",
    " -By defining a deleter method, we can encapsulate attribute deletion behavior, allowing us \n",
    "  to perform cleanup actions or additional operations before removing the attribute. "
   ]
  },
  {
   "cell_type": "code",
   "execution_count": 56,
   "id": "b64ab15a-edf1-4ee0-bdfe-6b90b2adc1b0",
   "metadata": {},
   "outputs": [],
   "source": [
    "#13. What is data hiding, and why is it important in encapsulation? Provide examples.\n",
    "\n",
    "#Data hiding is the principle of restricting access to certain attributes or methods within a class, typically by \n",
    " #making them private or protected, in order to prevent direct modification or access from outside the class. \n",
    " #This ensures that the internal state of an object is only accessible through well-defined interfaces provided \n",
    " #by the class, thereby enhancing encapsulation and promoting information hiding.\n",
    "    \n",
    "#data hiding is important in encapsulation because of several reasons:-\n",
    " #data hiding through encapsulation, internal data, sensitive information such as passwords, \n",
    " #keys, or other implementation details are protected from unauthorized access or modification\n",
    " #data hiding allows the class to expose a simplified interface to the outside world, abstracting away the implementation details\n",
    " #hiding implementation details behind well-defined interfaces allows for easier maintenance and modification of code.\n",
    " #data hiding is a key aspect of encapsulation, which bundles data and methods together within a class.\n",
    "    \n",
    "    \n",
    "class BankAccount:\n",
    "    def __init__(self,initial_balance,account_number):\n",
    "        self.__balance=initial_balance               #hiding sensitive info\n",
    "        self.__account_number=account_number          #hiding sensitive info\n",
    "    def depositmoney(self):\n",
    "        deposit_amount=int(input('enter the amount of money you want to deposit'))\n",
    "        self.__balance+=deposit_amount\n",
    "        print(f'{deposit_amount} money has been deposited to your account')\n",
    "        return self.__balance\n",
    "    def withdrawal_money(self):\n",
    "        withdrawal_amount=int(input('enter the amount of money you want to withdrawl'))\n",
    "        if withdrawal_amount <= self.__balance:\n",
    "            self.__balance-=withdrawal_amount\n",
    "            print(f'{withdrawal_amount} money has been withdrawn to your account')\n",
    "        else:\n",
    "            print(\"Insufficient funds\")\n",
    "        return self.__balance\n",
    "    def get_balance(self):\n",
    "        return self.__balance"
   ]
  },
  {
   "cell_type": "code",
   "execution_count": 57,
   "id": "227b9604-632b-42fb-8ca3-363cb1d04063",
   "metadata": {},
   "outputs": [
    {
     "name": "stdout",
     "output_type": "stream",
     "text": [
      "Yearly Bonus: 5000.0\n"
     ]
    }
   ],
   "source": [
    "#14. Create a Python class called `Employee` with private attributes for salary (`__salary`) and employee ID\n",
    "#('__employee_id'). Provide a method to calculate yearly bonuses.\n",
    "\n",
    "class Employee:\n",
    "    def __init__(self,employee_id,salary):\n",
    "        self.__employee_id=employee_id\n",
    "        self.__salary=salary\n",
    "    def yearlybonuses(self,yearly_bonus_percentage):\n",
    "        yearly_bonus=(self.__salary*yearly_bonus_percentage)/100\n",
    "        return yearly_bonus\n",
    "\n",
    "emp = Employee(\"EMP001\", 50000)\n",
    "bonus = emp.yearlybonuses(10)\n",
    "print(\"Yearly Bonus:\",bonus)"
   ]
  },
  {
   "cell_type": "raw",
   "id": "8dce7f7c-e1e7-4f7f-adb9-4628338f53c5",
   "metadata": {},
   "source": [
    "15. Discuss the use of accessors and mutators in encapsulation. How do they help maintain control over\n",
    "attribute access?\n",
    "\n",
    "*accessors and mutators are also known as getter and setter methods, are used in encapsulation to control access\n",
    " to the attribute of a class\n",
    " they help enforce data hiding by providing controlled ways to retrieve and modify the values of private attributes.\n",
    " \n",
    "*accessors(getters):\n",
    " -accessors are methods used to retrieve the values of private attributes\n",
    " -they provide read-only access to the attributes, allowing other parts of the program to obtain the attribute\n",
    "  values without directly accessing the underlying data\n",
    " -accessors typically have names prefixed with \"get_\" followed by the attribute name, although this naming convention is not mandatory\n",
    " \n",
    "*mutators(setters):\n",
    " -mutators are methods used to modify the values of private attributes.\n",
    " -they provide controlled write access to the attributes, allowing other parts of the program to modify \n",
    "  the attribute values in a controlled manner.\n",
    " -mutators typically have names prefixed with \"set_\" followed by the attribute name, although this naming convention is not mandatory\n",
    " \n",
    "*maintaining control over attribute access in the following ways:\n",
    " -accessors and mutators encapsulate the attribute access logic within the class, hiding the internal \n",
    "  representation of the data and providing a clear interface for interacting with the class.\n",
    " -accessors and mutators allow us to perform data validation and enforce business rules before \n",
    "  retrieving or modifying attribute values, ensuring that the data remains consistent and valid.\n",
    " -accessors and mutators allow us to perform data validation and enforce business rules before retrieving \n",
    "  or modifying attribute values, ensuring that the data remains consistent and valid."
   ]
  },
  {
   "cell_type": "raw",
   "id": "de2783da-6acb-4b5b-9b13-754ee7e85760",
   "metadata": {},
   "source": [
    "16. What are the potential drawbacks or disadvantages of using encapsulation in Python?\n",
    "\n",
    "*potential drawbacks and disadvantages of using encapsulation in python\n",
    " -encapsulation can sometimes lead to increased complexity\n",
    " -having numerous getter and setter methods for every attribute can make the code harder to understand and maintain\n",
    " -using accessor and mutator methods for attribute access can introduce a performance overhead compared to direct attribute access\n",
    " -encapsulation can lead to more verbose code, as we need to define getter and setter methods for each attribute that requires encapsulation"
   ]
  },
  {
   "cell_type": "code",
   "execution_count": 58,
   "id": "eff2bbb8-8e32-4745-b293-4938eee094a6",
   "metadata": {},
   "outputs": [
    {
     "name": "stdout",
     "output_type": "stream",
     "text": [
      "Book 'new ways' by jason.d has been given out.\n",
      "Book 'new ways' by jason.d has been returned.\n",
      "Title: new ways\n",
      "Author: jason.d\n",
      "Availability: Available\n"
     ]
    }
   ],
   "source": [
    "#17. Create a Python class for a library system that encapsulates book information, including titles, authors,\n",
    "#and availability status.\n",
    "\n",
    "class Library:\n",
    "    def __init__(self,title,author,available_status=True):\n",
    "        self.title=title\n",
    "        self.author=author\n",
    "        self.available_status=available_status\n",
    "    def lend_a_book(self):\n",
    "        if self.available_status:\n",
    "            self.available_status=False\n",
    "            print(f\"Book '{self.title}' by {self.author} has been given out.\")\n",
    "        else:\n",
    "            print(f\"Sorry, book '{self.title}' by {self.author} is already given out.\")\n",
    "    def return_a_book(self):\n",
    "        if not self.available_status:\n",
    "            self.available_status=True\n",
    "            print(f\"Book '{self.title}' by {self.author} has been returned.\")\n",
    "        else:\n",
    "            print(f\"Book '{self.title}' by {self.author} is already returned.\")\n",
    "    def check_availability(self):\n",
    "        availability = \"Available\" if self.available_status else \"Not Available\"\n",
    "        print(f\"Title: {self.title}\\nAuthor: {self.author}\\nAvailability: {availability}\")\n",
    "book1=Library(title='new ways',author='jason.d',available_status=True)\n",
    "book1.lend_a_book()\n",
    "book1.return_a_book()\n",
    "book1.check_availability()\n",
    "#This code encapsulates the book information, including titles, authors, and availability status, \n",
    "#by grouping related data and behavior within the Library class."
   ]
  },
  {
   "cell_type": "raw",
   "id": "8114cc54-48dd-4721-8249-0cd493566e48",
   "metadata": {},
   "source": [
    "18. Explain how encapsulation enhances code reusability and modularity in Python programs.\n",
    "\n",
    "*here's how encapsulation enhances code reusability and modularity in python programs:-\n",
    " -encapsulation allows us to separate different aspects of a program into distinct units, such as classes and modules\n",
    " -encapsulation abstracts away the internal implementation details of an object, exposing only essential information \n",
    "  and functionality through well-defined interfaces. This abstraction hides the complexity of the underlying implementation,\n",
    "  allowing users of the class to interact with it at a higher level without needing to know the intricate details of how it works internally.\n",
    " -Encapsulation hides the internal state of an object from external code by making attributes private or \n",
    "  protected and providing controlled access to them through getter and setter methods."
   ]
  },
  {
   "cell_type": "raw",
   "id": "fbf3924a-c858-476b-9423-8927ff15186b",
   "metadata": {},
   "source": [
    "19. Describe the concept of information hiding in encapsulation. Why is it essential in software development?\n",
    "\n",
    "*information hiding involves making the internal data or state of an object private \n",
    " or protected, so it cannot be directly accessed or modified from outside the class. Instead, access\n",
    " to the object's data is typically provided through controlled interfaces, such as getter and setter methods.\n",
    " \n",
    "*information hiding is essential in software development because in time of development of software the information or data \n",
    " going to be handeled by the software could be sensitive and if precautions are not taken to hide it carefully it can lead to mishappening\n",
    " of someones property or assets or data, information hiding is also important in software development because it hides the internal imple-\n",
    " mentation of the code and how is it working making it more secure from outside data breaching, information hiding also serves in software\n",
    " development by making it more convenient and manageable"
   ]
  },
  {
   "cell_type": "code",
   "execution_count": 59,
   "id": "2b045d6a-b287-4771-9626-4a7e4c9c442a",
   "metadata": {},
   "outputs": [],
   "source": [
    "#20. Create a Python class called `Customer` with private attributes for customer details like name, address,\n",
    "#and contact information. Implement encapsulation to ensure data integrity and security.\n",
    "\n",
    "class Customer:\n",
    "    def __init__(self,name,address,contact_information):\n",
    "        self.__name=name\n",
    "        self.__address=address\n",
    "        self.__contact_information=contact_information\n",
    "    def get_name(self):\n",
    "        return self.__name\n",
    "    def get_address(self):\n",
    "        return self.__address\n",
    "    def get_contact(self):\n",
    "        return self.__contact\n",
    "    def set_name(self, name):\n",
    "        self.__name=name\n",
    "    def set_address(self, address):\n",
    "        self.__address=address\n",
    "    def set_contact(self, contact):\n",
    "        self.__contact=contact"
   ]
  },
  {
   "cell_type": "markdown",
   "id": "b4c3f2c2-907c-4e77-8180-1eaece3b176f",
   "metadata": {},
   "source": [
    "Polymorphism:\n"
   ]
  },
  {
   "cell_type": "raw",
   "id": "0ff921a1-645e-40a8-9e3a-44744ebfb3b0",
   "metadata": {},
   "source": [
    "1. What is polymorphism in Python? Explain how it is related to object-oriented programming.\n",
    "\n",
    "*polmorphism in python means the ability of an object to work in the own defined way to the same message or method call\n",
    " -polymorphism allows objects of different classes to be treated as objects of a common superclass, \n",
    "  even though each class may have its own implementation of certain methods\n",
    "  \n",
    "*in OOP, polymorphism is closely related to the concept of inheritance and method overriding.\n",
    " -polymorphism enables code to be more flexible and extensible, as it allows for code reuse and simplifies\n",
    "  the design of complex systems. By treating objects of different classes uniformly through a common interface,\n",
    "  polymorphism enables code to be written in a way that is more general and adaptable to changes in requirements."
   ]
  },
  {
   "cell_type": "raw",
   "id": "af646e59-f602-4c4c-a55c-fcc1974e2ede",
   "metadata": {},
   "source": [
    "2. Describe the difference between compile-time polymorphism and runtime polymorphism in Python.\n",
    "\n",
    "*Compile-time Polymorphism:\n",
    " -Compile-time polymorphism refers to the ability to select the appropriate method or function implementation\n",
    "  at compile time based on the types of arguments and their signatures.\n",
    "\n",
    "*Runtime Polymorphism:\n",
    " -Runtime polymorphism refers to the ability of objects to exhibit different\n",
    "  behaviors or implementations of methods based on their actual types at runtime."
   ]
  },
  {
   "cell_type": "code",
   "execution_count": 60,
   "id": "ec73b32d-132d-4e02-ba21-4399eb0c1b43",
   "metadata": {},
   "outputs": [
    {
     "name": "stdout",
     "output_type": "stream",
     "text": [
      "Area of Circle: 78.5\n",
      "Area of Square: 16\n",
      "Area of Triangle: 9.0\n"
     ]
    }
   ],
   "source": [
    "#3. Create a Python class hierarchy for shapes (e.g., circle, square, triangle) and demonstrate polymorphism\n",
    "#through a common method, such as `calculate_area()`.\n",
    "\n",
    "class Shapes:\n",
    "    def calculate_area(self):\n",
    "        pass\n",
    "class Circle(Shapes):\n",
    "    def __init__(self,radius):\n",
    "        self.radius=radius\n",
    "    def calculate_area(self):\n",
    "        return 3.14 * self.radius ** 2\n",
    "class Square(Shapes):\n",
    "    def __init__(self,length):\n",
    "        self.length=length\n",
    "    def calculate_area(self):\n",
    "        return self.length * self.length\n",
    "class Triangle(Shapes):\n",
    "    def __init__(self,base,height):\n",
    "        self.base=base\n",
    "        self.height=height\n",
    "    def calculate_area(self):\n",
    "        return self.base*self.height*0.5\n",
    "    \n",
    "circle = Circle(5)\n",
    "square = Square(4)\n",
    "triangle = Triangle(3,6)\n",
    "shapes = [circle, square, triangle]\n",
    "for shape in shapes:\n",
    "    print(f\"Area of {shape.__class__.__name__}: {shape.calculate_area()}\")"
   ]
  },
  {
   "cell_type": "code",
   "execution_count": 61,
   "id": "84dd9d38-2b26-475a-9309-61e92a6cae37",
   "metadata": {},
   "outputs": [
    {
     "name": "stdout",
     "output_type": "stream",
     "text": [
      "Animal speaks\n",
      "Dog barks\n"
     ]
    }
   ],
   "source": [
    "#4. Explain the concept of method overriding in polymorphism. Provide an example.\n",
    "\n",
    "#Method overriding is a concept in object-oriented programming where a subclass provides \n",
    " #a specific implementation of a method that is already defined in\n",
    " #its superclass. This allows the subclass to customize or extend the behavior of the superclass\n",
    " #method without modifying the superclass itself.\n",
    "    \n",
    "#example:-\n",
    "class Animal:\n",
    "    def speak(self):\n",
    "        print(\"Animal speaks\")\n",
    "class Dog(Animal):\n",
    "    def speak(self):\n",
    "        print(\"Dog barks\")\n",
    "animal = Animal()\n",
    "dog = Dog()\n",
    "animal.speak()  \n",
    "dog.speak()\n",
    "#This demonstrates how method overriding allows subclasses to provide their own specialized \n",
    " #behavior while still adhering to the interface defined by the superclass. It is a key mechanism\n",
    " #for achieving polymorphic behavior in object-oriented programming."
   ]
  },
  {
   "cell_type": "code",
   "execution_count": 62,
   "id": "4102bf15-c346-41c7-8733-ca4d839ece2c",
   "metadata": {},
   "outputs": [
    {
     "name": "stdout",
     "output_type": "stream",
     "text": [
      "Sum of 5 and 3: 8\n",
      "Sum of 7: 7\n",
      "Animal speaks\n",
      "Dog barks\n"
     ]
    }
   ],
   "source": [
    "#5. How is polymorphism different from method overloading in Python? Provide examples for both.\n",
    "\n",
    "#method overloading involves defining multiple methods with the same name but different signatures, \n",
    " #while polymorphism involves providing different implementations of a method in subclasses to achieve \n",
    " #different behavior. While method overloading is achieved through default parameter values or variable-length argument \n",
    " #lists in Python, polymorphism is achieved through method overriding.\n",
    "    \n",
    "#example of methodoverloading:-\n",
    "class Calculator:\n",
    "    def add(self,a,b=0):\n",
    "        return a+b\n",
    "calc=Calculator()\n",
    "print(\"Sum of 5 and 3:\",calc.add(5,3))\n",
    "print(\"Sum of 7:\",calc.add(7))\n",
    "\n",
    "#example of polymorphism:-\n",
    "class Animal:\n",
    "    def speak(self):\n",
    "        print('Animal speaks')\n",
    "class Dog(Animal):\n",
    "    def speak(self):\n",
    "        print('Dog barks')\n",
    "animal=Animal()\n",
    "dog=Dog()\n",
    "animal.speak()  \n",
    "dog.speak()"
   ]
  },
  {
   "cell_type": "code",
   "execution_count": 63,
   "id": "410bd141-6b21-42fa-a4d0-48d7b9830f71",
   "metadata": {},
   "outputs": [
    {
     "name": "stdout",
     "output_type": "stream",
     "text": [
      "Animal Speaks\n",
      "Dog Barks\n",
      "CAt Meows\n",
      "Bird Chirps\n"
     ]
    }
   ],
   "source": [
    "#6. Create a Python class called `Animal` with a method `speak()`. Then, create child classes like `Dog`, `Cat`, and `Bird`, \n",
    "#each with their own `speak()` method. Demonstrate polymorphism by calling the `speak()` method\n",
    "#on objects of different subclasses.\n",
    "\n",
    "class Animal:\n",
    "    def speak(self):\n",
    "        print('Animal Speaks')\n",
    "class Dog(Animal):\n",
    "    def speak(self):\n",
    "        print('Dog Barks')\n",
    "class Cat(Animal):\n",
    "     def speak(self):\n",
    "        print('CAt Meows')\n",
    "class Bird(Animal):\n",
    "    def speak(self):\n",
    "        print('Bird Chirps')\n",
    "animal=Animal()\n",
    "dog=Dog()\n",
    "cat=Cat()\n",
    "bird=Bird()\n",
    "animal.speak()  \n",
    "dog.speak()\n",
    "cat.speak()\n",
    "bird.speak()"
   ]
  },
  {
   "cell_type": "code",
   "execution_count": 64,
   "id": "8bcb72c0-cfbe-402e-93a7-703305033f78",
   "metadata": {},
   "outputs": [
    {
     "name": "stdout",
     "output_type": "stream",
     "text": [
      "Dog Barks\n"
     ]
    }
   ],
   "source": [
    "#7. Discuss the use of abstract methods and classes in achieving polymorphism in Python. Provide an example\n",
    "#using the `abc` module.\n",
    "\n",
    "#abstract methods and classes play a significant role in achieving polymorphism in Python. \n",
    " #They allow us to define a common interface that must be implemented by subclasses, ensuring \n",
    "    #that different classes can respond to the same message or method call in different ways. \n",
    "from abc import ABC, abstractmethod\n",
    "class Animal(ABC):\n",
    "    @abstractmethod\n",
    "    def speak(self):\n",
    "        print('Animal Speaks')\n",
    "class Dog(Animal):\n",
    "    def speak(self):\n",
    "        print('Dog Barks')\n",
    "doggie1=Dog()\n",
    "doggie1.speak()"
   ]
  },
  {
   "cell_type": "code",
   "execution_count": 65,
   "id": "1321bfd8-0a49-4fe2-a221-30bb0a2385b2",
   "metadata": {},
   "outputs": [
    {
     "name": "stdout",
     "output_type": "stream",
     "text": [
      "car starts by turning on the ignition\n",
      "bicycle starts by pedalling\n",
      "properllor starts rotating\n"
     ]
    }
   ],
   "source": [
    "#8. Create a Python class hierarchy for a vehicle system (e.g., car, bicycle, boat) and implement a polymorphic \n",
    "#`start()` method that prints a message specific to each vehicle type.\n",
    "\n",
    "class Vehicle:\n",
    "    def start(self):\n",
    "        print('vehicle starts')\n",
    "class Car(Vehicle):\n",
    "    def start(self):\n",
    "        print('car starts by turning on the ignition')\n",
    "class Bicycle(Vehicle):\n",
    "    def start(self):\n",
    "        print('bicycle starts by pedalling')\n",
    "class Boat(Vehicle):\n",
    "    def start(self):\n",
    "        print('properllor starts rotating')\n",
    "car=Car()\n",
    "car.start()\n",
    "bike=Bicycle()\n",
    "bike.start()\n",
    "boat=Boat()\n",
    "boat.start()"
   ]
  },
  {
   "cell_type": "raw",
   "id": "1c5d47db-3095-4349-86ff-a3e359b6102a",
   "metadata": {},
   "source": [
    "9. Explain the significance of the `isinstance()` and `issubclass()` functions in Python polymorphism.\n",
    "\n",
    "*isinstance():-\n",
    " -the isinstance() function is used to determine whether an object is an instance of a particular class or any of its subclasses.\n",
    " -this function is commonly used in polymorphic code to check if an object can be treated as an instance \n",
    "  of a specific class or any of its related classes.\n",
    "  \n",
    "*issubclass():-\n",
    " -the issubclass() function is used to determine whether a given class is a subclass of another class or any of its subclasses.\n",
    " -this function is helpful in checking class relationships, which is crucial for designing hierarchies and ensuring polymorphic behavior."
   ]
  },
  {
   "cell_type": "code",
   "execution_count": 66,
   "id": "efe7d540-c883-4f44-9074-4be5977850af",
   "metadata": {},
   "outputs": [
    {
     "name": "stdout",
     "output_type": "stream",
     "text": [
      "Dog Barks\n"
     ]
    }
   ],
   "source": [
    "#10. What is the role of the `@abstractmethod` decorator in achieving polymorphism in Python? Provide an example.\n",
    "\n",
    "#abstract methods and classes play a significant role in achieving polymorphism in Python. \n",
    " #They allow us to define a common interface that must be implemented by subclasses, ensuring \n",
    "    #that different classes can respond to the same message or method call in different ways. \n",
    "#if we trty to define a subclass without the abstractmethod it will raise an \n",
    " #'TypeError: Can't instantiate abstract class Dog with abstract method speak' error\n",
    "from abc import ABC, abstractmethod\n",
    "class Animal(ABC):\n",
    "    @abstractmethod\n",
    "    def speak(self):\n",
    "        print('Animal Speaks')\n",
    "class Dog(Animal):\n",
    "    def speak(self):\n",
    "        print('Dog Barks')\n",
    "doggie1=Dog()\n",
    "doggie1.speak()"
   ]
  },
  {
   "cell_type": "code",
   "execution_count": 67,
   "id": "31fa255d-1f73-4b88-99ee-f23117abe433",
   "metadata": {},
   "outputs": [
    {
     "name": "stdout",
     "output_type": "stream",
     "text": [
      "Area of Circle: 28.26\n",
      "Area of Square: 16\n",
      "Area of Triangle: 18.0\n"
     ]
    }
   ],
   "source": [
    "#11. Create a Python class called `Shape` with a polymorphic method `area()` that calculates the area of \n",
    "#different shapes (e.g., circle, rectangle, triangle).\n",
    "\n",
    "class Shape:\n",
    "    def area(self):\n",
    "        pass\n",
    "class Circle(Shape):\n",
    "    def __init__(self,radius):\n",
    "        self.radius=radius\n",
    "    def area(self):\n",
    "        return 3.14 * self.radius ** 2\n",
    "class Square(Shape):\n",
    "    def __init__(self,length):\n",
    "        self.length=length\n",
    "    def area(self):\n",
    "        return self.length * self.length\n",
    "class Triangle(Shape):\n",
    "    def __init__(self,base,height):\n",
    "        self.base=base\n",
    "        self.height=height\n",
    "    def area(self):\n",
    "        return self.base*self.height*0.5\n",
    "    \n",
    "circle = Circle(3)\n",
    "square = Square(4)\n",
    "triangle = Triangle(6,6)\n",
    "shape = [circle, square, triangle]\n",
    "for shape in shape:\n",
    "    print(f\"Area of {shape.__class__.__name__}: {shape.area()}\")"
   ]
  },
  {
   "cell_type": "raw",
   "id": "1cadf856-825c-404f-8c6c-a7d2a9393bf9",
   "metadata": {},
   "source": [
    "12. Discuss the benefits of polymorphism in terms of code reusability and flexibility in Python programs.\n",
    "\n",
    "*benefits of polymorphism in terms of code reusability and flexibility in Python programs:-\n",
    " -polymorphism allows for the creation of reusable code components that can be applied to different objects and classes\n",
    " -polymorphism allows for more flexible and adaptable code structures by decoupling code from specific implementations\n",
    " -it enables different objects to respond to the same message or method call in different ways, depending on their types\n",
    " -by defining common interfaces and behaviors, polymorphism enables the same code to be used with different types\n",
    "  of objects, reducing redundancy and promoting modular design.\n",
    " -this promotes the DRY (Don't Repeat Yourself) principle, leading to cleaner, more maintainable codebases."
   ]
  },
  {
   "cell_type": "raw",
   "id": "a31c58fb-176d-4439-a73c-bbebd8a87f8c",
   "metadata": {},
   "source": [
    "13. Explain the use of the `super()` function in Python polymorphism. How does it help call methods of parent\n",
    "classes?\n",
    "\n",
    "*the super() function in Python plays a crucial role in achieving polymorphism, especially when \n",
    " -dealing with method overriding within inheritance hierarchies. It provides a way to call methods\n",
    " -and access attributes of the superclass (parent class) from within a subclass (child class).\n",
    "\n",
    "*here's how it help call methods of parent classes:-\n",
    " -when a method is overridden in a subclass, calling super().method_name() allows us to \n",
    "  invoke the method from the parent class.\n",
    " -this is particularly useful when we want to extend or customize the behavior of a method defined\n",
    "  in the parent class without completely replacing it."
   ]
  },
  {
   "cell_type": "code",
   "execution_count": 68,
   "id": "0f713376-67a1-487f-93ad-09f6acc7d8a4",
   "metadata": {},
   "outputs": [],
   "source": [
    "#14. Create a Python class hierarchy for a banking system with various account types (e.g., savings, checking, credit card)\n",
    "#and demonstrate polymorphism by implementing a common `withdraw()` method.\n",
    "class Account:\n",
    "    def __init__(self,account_number,balance):\n",
    "        self.account_number=account_number\n",
    "        self.balance=balance\n",
    "    def withdraw(self,amount):\n",
    "        if amount<=self.balance:\n",
    "            self.balance-=amount\n",
    "            print(f\"withdrew {amount} from account {self.account_number}. new balance: {self.balance}\")\n",
    "        else:\n",
    "            print(\"insufficient funds\")\n",
    "class SavingsAccount(Account):\n",
    "    def __init__(self,account_number,balance,interest_rate):\n",
    "        super().__init__(account_number,balance)\n",
    "        self.interest_rate=interest_rate\n",
    "    def withdraw(self,amount):\n",
    "        super().withdraw(amount)\n",
    "        print(\"savings account withdrawal fee waived.\")\n",
    "class CheckingAccount(Account):\n",
    "    def __init__(self,account_number,balance,overdraft_limit):\n",
    "        super().__init__(account_number,balance)\n",
    "        self.overdraft_limit=overdraft_limit\n",
    "    def withdraw(self,amount):\n",
    "        if amount <= self.balance+self.overdraft_limit:\n",
    "            self.balance-=amount\n",
    "            print(f\"withdrew {amount} from account {self.account_number}. new balance: {self.balance}\")\n",
    "        else:\n",
    "            print(\"exceeded overdraft limit\")\n",
    "class CreditCardAccount(Account):\n",
    "    def __init__(self,account_number,balance,credit_limit):\n",
    "        super().__init__(account_number,balance)\n",
    "        self.credit_limit=credit_limit\n",
    "    def withdraw(self,amount):\n",
    "        if amount<=self.balance+self.credit_limit:\n",
    "            self.balance-=amount\n",
    "            print(f\"withdrew {amount} from credit card account {self.account_number}. new balance: {self.balance}\")\n",
    "        else:\n",
    "            print(\"exceeded crediting limit\")"
   ]
  },
  {
   "cell_type": "code",
   "execution_count": 69,
   "id": "ea63537d-dbdc-4054-b74d-0db4fb148a68",
   "metadata": {},
   "outputs": [
    {
     "name": "stdout",
     "output_type": "stream",
     "text": [
      "Result of addition: (4, 6)\n",
      "Result of scalar multiplication: (3, 6)\n"
     ]
    }
   ],
   "source": [
    "#15. Describe the concept of operator overloading in Python and how it relates to polymorphism. Provide\n",
    "#examples using operators like `+` and `*`.\n",
    "\n",
    "#Operator overloading in Python refers to the ability to define custom behavior for standard operators \n",
    " #such as +, -, *, /, ==, !=, etc., allowing objects of user-defined classes to behave as if they were built-in \n",
    " #types. This concept is closely related to polymorphism as it allows different objects to respond differently to the same \n",
    " #operator based on their types.\n",
    "#in Python, operator overloading is achieved by defining special methods with double underscores (also known as \"magic\" or \"dunder\" methods) \n",
    " #that correspond to the operators being overloaded.\n",
    "    \n",
    "#example using operators lile '+' and '*':-\n",
    "class Vector:\n",
    "    def __init__(self,x,y):\n",
    "        self.x=x\n",
    "        self.y=y\n",
    "    def __add__(self,other):\n",
    "        return Vector(self.x+other.x,self.y+other.y)\n",
    "    def __mul__(self,scalar):\n",
    "        return Vector(self.x*scalar,self.y *scalar)\n",
    "    def __str__(self):\n",
    "        return f\"({self.x}, {self.y})\"\n",
    "v1=Vector(1,2)\n",
    "v2=Vector(3,4)\n",
    "result_addition=v1+v2\n",
    "print(\"Result of addition:\", result_addition)\n",
    "result_multiplication=v1*3\n",
    "print(\"Result of scalar multiplication:\", result_multiplication)"
   ]
  },
  {
   "cell_type": "raw",
   "id": "7ff66912-012e-4a66-b48a-2315e61ddead",
   "metadata": {},
   "source": [
    "16. What is dynamic polymorphism, and how is it achieved in Python?\n",
    "\n",
    "*dynamic polymorphism refers to the ability of objects to exhibit different\n",
    "  behaviors or implementations of methods based on their actual types at runtime.\n",
    "  \n",
    "*here's how dnamic polymorphism is achieved in python\n",
    " -dynamic polymorphism is achieved through method overriding and operator overloading. Method overriding \n",
    "  allows a subclass to provide a specific implementation of a method that is already defined in its superclass. \n",
    "  operator overloading allows user-defined objects to define custom behavior for built-in operators such as +, -, *, etc."
   ]
  },
  {
   "cell_type": "code",
   "execution_count": 70,
   "id": "f4b9b473-667b-4205-8d5d-758d73c9c6e5",
   "metadata": {},
   "outputs": [
    {
     "name": "stdout",
     "output_type": "stream",
     "text": [
      "ajay (Manager): Salary - $80000\n",
      "ankit (Developer): Salary - $52000\n",
      "rahul (Designer): Salary - $60000\n"
     ]
    }
   ],
   "source": [
    "#17. Create a Python class hierarchy for employees in a company (e.g., manager, developer, designer) and implement \n",
    "#polymorphism through a common `calculate_salary()` method.\n",
    "\n",
    "class Employees:\n",
    "    def __init__(self,name,role):\n",
    "        self.name=name\n",
    "        self.role=role\n",
    "    def calculate_salary(self):\n",
    "        raise NotImplementedError('Subclasses must implement the calculate_salary method')\n",
    "class Manager(Employees):\n",
    "    def __init__(self,name,team_size):\n",
    "        super().__init__(name,role='Manager')\n",
    "        self.team_size=team_size\n",
    "    def calculate_salary(self):\n",
    "        base_salary=60000\n",
    "        bonus = self.team_size*2000\n",
    "        return base_salary+bonus\n",
    "class Developer(Employees):\n",
    "    def __init__(self,name,programming_language):\n",
    "        super().__init__(name,role='Developer')\n",
    "        self.programming_language=programming_language\n",
    "    def calculate_salary(self):\n",
    "        base_salary = 50000\n",
    "        bonus = 2000 if self.programming_language=='Python' else 0\n",
    "        return base_salary+bonus\n",
    "class Designer(Employees):\n",
    "    def __init__(self,name,years_of_experience):\n",
    "        super().__init__(name,role='Designer')\n",
    "        self.years_of_experience=years_of_experience\n",
    "    def calculate_salary(self):\n",
    "        base_salary=55000\n",
    "        bonus=self.years_of_experience*1000\n",
    "        return base_salary+bonus\n",
    "# Example usage:-\n",
    "manager=Manager('ajay',team_size=10)\n",
    "developer=Developer('ankit',programming_language='Python')\n",
    "designer=Designer('rahul',years_of_experience=5)\n",
    "employees = [manager,developer,designer]\n",
    "for employees in employees:\n",
    "    print(f'{employees.name} ({employees.role}): Salary - ${employees.calculate_salary()}')"
   ]
  },
  {
   "cell_type": "raw",
   "id": "6e959e76-88c0-47ed-8e7f-c3c7a1a4e542",
   "metadata": {},
   "source": [
    "18. Discuss the concept of function pointers and how they can be used to achieve polymorphism in Python.\n",
    "\n",
    "*Python supports first-class functions, which means that functions can be passed around as arguments to other functions, \n",
    " returned as values from other functions, and assigned to variables. This capability allows for achieving \n",
    " polymorphism through functions in Python.\n",
    " \n",
    "*here's how function pointers can be used to achieve polymorphism in Python:_\n",
    " -pass different functions as arguments to a common function, and the common function will call the appropriate function based on the context.\n",
    " -store different functions in a data structure (like a dictionary) and retrieve and call the appropriate function based on the context."
   ]
  },
  {
   "cell_type": "raw",
   "id": "40f4e3c0-7970-4587-862f-6a879d86c6e7",
   "metadata": {},
   "source": [
    "19. Explain the role of interfaces and abstract classes in polymorphism, drawing comparisons between them.\n",
    "\n",
    "*interfaces and abstract classes play a crucial role in defining common behaviors or \n",
    " contracts that classes must adhere to. Both interfaces and abstract classes provide a way to achieve \n",
    " polymorphism by allowing different classes to implement common methods in their own ways.\n",
    "  \n",
    "*comparison between interface and abstract classes in polymorphism:-\n",
    " -an interface in programming defines a contract specifying a set of methods that a class must implement.\n",
    "  in Python, interfaces are typically represented using abstract base classes (ABCs) from the abc module.\n",
    " -an abstract class is a class that contains one or more abstract methods, which are methods without implementation.\n",
    "  abstract classes can also contain concrete methods with implementations.\n",
    "  \n",
    "*both interfaces and abstract classes provide a way to achieve polymorphism by \n",
    " defining common behaviors that classes can implement. Interfaces are more focused on \n",
    " defining contracts with only method signatures, while abstract classes can provide both \n",
    " method signatures and partial implementations. The choice between using interfaces and abstract \n",
    " classes depends on the specific requirements and design of the application."
   ]
  },
  {
   "cell_type": "code",
   "execution_count": 71,
   "id": "a7127678-9cf3-4c4b-80ee-386ae9190307",
   "metadata": {},
   "outputs": [
    {
     "name": "stdout",
     "output_type": "stream",
     "text": [
      "woof!\n",
      "dog1 is eating bones.\n",
      "dog1 is sleeping in its kennel.\n",
      "meow\n",
      "cat1 is eating fish.\n",
      "cat1 is sleeping on a slide.\n",
      "squawk\n",
      "parrot1 is eating seeds.\n",
      "parrot1 is sleeping on a branch.\n",
      "hiss\n",
      "snake1 is eating mouse.\n",
      "snake1 is sleeping under a trunk.\n"
     ]
    }
   ],
   "source": [
    "#20. Create a Python class for a zoo simulation, demonstrating polymorphism with different animal types \n",
    "#(e.g., mammals, birds, reptiles) and their behavior (e.g., eating, sleeping, making sounds).\n",
    "class Animal:\n",
    "    def __init__(self, name):\n",
    "        self.name = name\n",
    "    def make_sound(self):\n",
    "        pass\n",
    "    def eat(self):\n",
    "        pass\n",
    "    def sleep(self):\n",
    "        pass\n",
    "class Mammal(Animal):\n",
    "    def give_birth(self):\n",
    "        pass\n",
    "class Bird(Animal):\n",
    "    def lay_eggs(self):\n",
    "        pass\n",
    "class Reptile(Animal):\n",
    "    def lay_eggs(self):\n",
    "        pass\n",
    "class Dog(Mammal):\n",
    "    def make_sound(self):\n",
    "        return 'woof!'\n",
    "    def eat(self):\n",
    "        return f'{self.name} is eating bones.'\n",
    "    def sleep(self):\n",
    "        return f'{self.name} is sleeping in its kennel.'\n",
    "class Cat(Mammal):\n",
    "    def make_sound(self):\n",
    "        return 'meow'\n",
    "    def eat(self):\n",
    "        return f\"{self.name} is eating fish.\"\n",
    "    def sleep(self):\n",
    "        return f\"{self.name} is sleeping on a slide.\"\n",
    "class Parrot(Bird):\n",
    "    def make_sound(self):\n",
    "        return 'squawk'\n",
    "    def eat(self):\n",
    "        return f'{self.name} is eating seeds.'\n",
    "    def sleep(self):\n",
    "        return f'{self.name} is sleeping on a branch.'\n",
    "class Snake(Reptile):\n",
    "    def make_sound(self):\n",
    "        return 'hiss'\n",
    "    def eat(self):\n",
    "        return f'{self.name} is eating mouse.'\n",
    "    def sleep(self):\n",
    "        return f'{self.name} is sleeping under a trunk.'\n",
    "# Example:-\n",
    "if __name__=='__main__':\n",
    "    dog = Dog(\"dog1\")\n",
    "    print(dog.make_sound()) \n",
    "    print(dog.eat())         \n",
    "    print(dog.sleep())       \n",
    "\n",
    "    cat = Cat(\"cat1\")\n",
    "    print(cat.make_sound())  \n",
    "    print(cat.eat())        \n",
    "    print(cat.sleep())      \n",
    "\n",
    "    parrot = Parrot(\"parrot1\")\n",
    "    print(parrot.make_sound())  \n",
    "    print(parrot.eat())        \n",
    "    print(parrot.sleep())       \n",
    "    snake = Snake(\"snake1\")\n",
    "    print(snake.make_sound())  \n",
    "    print(snake.eat())       \n",
    "    print(snake.sleep())    \n"
   ]
  },
  {
   "cell_type": "markdown",
   "id": "49bb8b51-0fab-4cbc-b63f-af5c9e25471b",
   "metadata": {},
   "source": [
    "Abstraction:"
   ]
  },
  {
   "cell_type": "raw",
   "id": "f91fa1b7-9cf7-42e1-8463-27983b024626",
   "metadata": {},
   "source": [
    "1. What is abstraction in Python, and how does it relate to object-oriented programming?\n",
    "\n",
    "*abstraction in Python is a concept that allows us to represent complex real-world entities as \n",
    " simplified models in our code. It involves hiding the implementation details of a class and exposing\n",
    " only the essential features or behaviors to the outside world\n",
    " \n",
    "*here's how abstraction relates to OOP:-\n",
    " -encapsulation and abstraction often go hand in hand. Encapsulation refers to bundling data \n",
    " (attributes) and methods (behavior) together within a class, and abstraction allows us to selectively expose or hide these details\n",
    " -abstraction facilitates data hiding, which is the practice of restricting direct access to certain attributes or methods of a class\n",
    " -abstraction promotes code reusability by allowing us to create generic classes with well-defined interfaces."
   ]
  },
  {
   "cell_type": "raw",
   "id": "cf31b5fb-971c-474c-a1f4-2c32963e9a49",
   "metadata": {},
   "source": [
    "2. Describe the benefits of abstraction in terms of code organization and complexity reduction.\n",
    "\n",
    "*the benefits of abstraction in terms of code organization and complexity reduction:-\n",
    " -abstraction allows us to break down complex systems into smaller, more manageable modules or classes.\n",
    " -abstraction promotes code reusability by allowing us to create generic classes with well-defined interfaces.\n",
    " -abstraction simplifies the complexity of software systems by hiding implementation details and \n",
    "  exposing only the essential features or behaviors through well-defined interfaces. "
   ]
  },
  {
   "cell_type": "code",
   "execution_count": 72,
   "id": "fe6ed2b2-bb58-4707-af52-1d39f80a1084",
   "metadata": {},
   "outputs": [
    {
     "name": "stdout",
     "output_type": "stream",
     "text": [
      "Area of Circle: 12.56\n",
      "Area of Square: 9\n",
      "Area of Rectangle: 21\n"
     ]
    }
   ],
   "source": [
    "#3. Create a Python class called `Shape` with an abstract method `calculate_area()`. Then, create child \n",
    "#classes (e.g., `Circle`, `Rectangle`) that implement the `calculate_area()` method. Provide an example of\n",
    "#using these classes.\n",
    "from abc import ABC, abstractmethod\n",
    "class Shape(ABC):\n",
    "    @abstractmethod\n",
    "    def calculate_area(self):\n",
    "        pass\n",
    "class Circle(Shape):\n",
    "    def __init__(self,radius):\n",
    "        self.radius=radius\n",
    "    def calculate_area(self):\n",
    "        return 3.14 * self.radius ** 2\n",
    "class Square(Shape):\n",
    "    def __init__(self,length):\n",
    "        self.length=length\n",
    "    def calculate_area(self):\n",
    "        return self.length*self.length\n",
    "class Rectangle(Shape):\n",
    "    def __init__(self,length,width):\n",
    "        self.length=length\n",
    "        self.width=width\n",
    "    def calculate_area(self):\n",
    "        return self.length*self.width\n",
    "\n",
    "circle=Circle(2)\n",
    "square=Square(3)\n",
    "rectangle=Rectangle(3,7)\n",
    "shape=[circle, square, rectangle]\n",
    "for shape in shape:\n",
    "    print(f\"Area of {shape.__class__.__name__}: {shape.calculate_area()}\")    "
   ]
  },
  {
   "cell_type": "code",
   "execution_count": 73,
   "id": "9638cc96-5fec-4518-a98d-1748b8b8ca10",
   "metadata": {},
   "outputs": [
    {
     "name": "stdout",
     "output_type": "stream",
     "text": [
      "Area of Circle: 78.5\n"
     ]
    }
   ],
   "source": [
    "#4. Explain the concept of abstract classes in Python and how they are defined using the `abc` module. Provide\n",
    "#an example.\n",
    "\n",
    "#Abstract classes in Python are classes that cannot be instantiated directly and are designed to serve as base \n",
    " #classes for other classes. They typically contain one or more abstract methods, which are methods declared but not \n",
    " #implemented in the abstract class. Subclasses of an abstract class must implement all the abstract methods defined \n",
    " #in the parent abstract class.\n",
    "    \n",
    "# abstract classes are defined using the abc (Abstract Base Classes) module. This module provides the ABC \n",
    " #class as a metaclass for defining abstract base classes, and the abstractmethod decorator for declaring abstract methods.\n",
    "    \n",
    "#example:-\n",
    "from abc import ABC, abstractmethod\n",
    "class Shape(ABC):\n",
    "    @abstractmethod\n",
    "    def calculate_area(self):\n",
    "        pass\n",
    "class Circle(Shape):\n",
    "    def __init__(self,radius):\n",
    "        self.radius=radius\n",
    "    def calculate_area(self):\n",
    "        return 3.14 * self.radius ** 2\n",
    "    \n",
    "circle=Circle(5)\n",
    "print(\"Area of Circle:\", circle.calculate_area())"
   ]
  },
  {
   "cell_type": "raw",
   "id": "b4f01c88-b6a8-49df-a670-9b1161081fba",
   "metadata": {},
   "source": [
    "5. How do abstract classes differ from regular classes in Python? Discuss their use cases.\n",
    "\n",
    "*here's how abstract classes differ from regular classes in Python\n",
    " -regular classes can be instantiated directly, meaning we can create objects of regular classes using their constructors.\n",
    " -abstract classes cannot be instantiated directly. They are designed to be base classes for other classes, \n",
    "  and they typically contain one or more abstract methods that must be implemented by their subclasses.\n",
    " -abstract methods are methods declared in the class but not implemented in the class itself. \n",
    "  Subclasses are not required to implement abstract methods.\n",
    " -abstract classes always contain at least one abstract method. These methods are declared using the \n",
    "  abstractmethod decorator from the abc module. Subclasses of abstract classes must implement all the abstract \n",
    "  methods defined in the parent abstract class.\n",
    "\n",
    "*Use Cases:-\n",
    " -Regular classes are used to create objects with specific attributes and behavior. They are \n",
    "  suitable for scenarios where we want to create multiple  instances of similar objects.\n",
    " -abstract classes are used to define a common interface or behavior that multiple subclasses can share. They are useful \n",
    "  for defining a blueprint for classes that have common methods or properties but require different implementations"
   ]
  },
  {
   "cell_type": "code",
   "execution_count": 74,
   "id": "e9344848-fd93-4abe-8b43-e74a85ca68a3",
   "metadata": {},
   "outputs": [
    {
     "name": "stdout",
     "output_type": "stream",
     "text": [
      "Account Number: 1234567890\n",
      "Initial Balance: 1000\n",
      "deposited 500 INR. current balance: 1500 INR\n",
      "withdrew 200 INR. current balance: 1300 INR\n",
      "insufficient funds.\n",
      "Final Balance: 1300\n"
     ]
    }
   ],
   "source": [
    "#6. Create a Python class for a bank account and demonstrate abstraction by hiding the account balance and\n",
    "#providing methods to deposit and withdraw funds.\n",
    "\n",
    "class BankAccount:\n",
    "    def __init__(self, account_number,initial_balance=0):\n",
    "        self._account_number=account_number\n",
    "        self._balance=initial_balance\n",
    "    def deposit(self,amount):\n",
    "        if amount>0:\n",
    "            self._balance+=amount\n",
    "            print(f'deposited {amount} INR. current balance: {self._balance} INR')\n",
    "        else:\n",
    "            print('invalid deposit amount.')\n",
    "    def withdraw(self,amount):\n",
    "        if 0 < amount<=self._balance:\n",
    "            self._balance-=amount\n",
    "            print(f'withdrew {amount} INR. current balance: {self._balance} INR')\n",
    "        else:\n",
    "            print('insufficient funds.')\n",
    "    def get_balance(self):\n",
    "        return self._balance\n",
    "    def get_account_number(self):\n",
    "        return self._account_number\n",
    "# Example use:-\n",
    "account = BankAccount(\"1234567890\", 1000)\n",
    "print(\"Account Number:\",account.get_account_number())\n",
    "print(\"Initial Balance:\",account.get_balance())\n",
    "account.deposit(500)\n",
    "account.withdraw(200)\n",
    "account.withdraw(1500) \n",
    "print(\"Final Balance:\", account.get_balance())"
   ]
  },
  {
   "cell_type": "raw",
   "id": "537c00be-cd1b-44b2-a964-22ad7433fc60",
   "metadata": {},
   "source": [
    "7. Discuss the concept of interface classes in Python and their role in achieving abstraction.\n",
    "\n",
    "*interface classes are used to define a common interface or behavior that multiple classes can \n",
    " adhere to. They serve as a contract specifying the methods that implementing classes must provide, \n",
    " without prescribing how those methods should be implemented. Interface classes facilitate abstraction \n",
    " by allowing us to define a common set of methods that different classes can implement according to their \n",
    " specific requirements.\n",
    " \n",
    "*interface classes in Python, implemented using abstract base classes, play a crucial role in achieving abstraction \n",
    " by defining a common interface that multiple classes can adhere to. They help enforce consistency and provide a contract \n",
    " for the behavior that implementing classes must adhere to, promoting code maintainability and flexibility."
   ]
  },
  {
   "cell_type": "code",
   "execution_count": 75,
   "id": "71620e78-d47b-4db4-a3d9-4a7a259ad72c",
   "metadata": {},
   "outputs": [
    {
     "name": "stdout",
     "output_type": "stream",
     "text": [
      "dog1 is eating bones.\n",
      "dog1 is sleeping in its kennel.\n",
      "cat1 is eating fish.\n",
      "cat1 is sleeping on a slide.\n",
      "parrot1 is eating seeds.\n",
      "parrot1 is sleeping on a branch.\n"
     ]
    }
   ],
   "source": [
    "#8. Create a Python class hierarchy for animals and implement abstraction by defining common methods (e.g., \n",
    "#`eat()`, `sleep()`) in an abstract base class.\n",
    "\n",
    "class Animal:\n",
    "    def __init__(self, name):\n",
    "        self.name = name\n",
    "    def make_sound(self):\n",
    "        pass\n",
    "    def eat(self):\n",
    "        pass\n",
    "    def sleep(self):\n",
    "        pass\n",
    "class Dog(Animal):\n",
    "    def eat(self):\n",
    "        return f'{self.name} is eating bones.'\n",
    "    def sleep(self):\n",
    "        return f'{self.name} is sleeping in its kennel.'\n",
    "class Cat(Animal):\n",
    "    def eat(self):\n",
    "        return f\"{self.name} is eating fish.\"\n",
    "    def sleep(self):\n",
    "        return f\"{self.name} is sleeping on a slide.\"\n",
    "class Parrot(Animal):\n",
    "    def eat(self):\n",
    "        return f'{self.name} is eating seeds.'\n",
    "    def sleep(self):\n",
    "        return f'{self.name} is sleeping on a branch.'\n",
    "    \n",
    "if __name__=='__main__':\n",
    "    dog = Dog(\"dog1\")\n",
    "    print(dog.eat())         \n",
    "    print(dog.sleep())       \n",
    "\n",
    "    cat = Cat(\"cat1\")\n",
    "    print(cat.eat())        \n",
    "    print(cat.sleep())      \n",
    "\n",
    "    parrot = Parrot(\"parrot1\")\n",
    "    print(parrot.eat())        \n",
    "    print(parrot.sleep())       "
   ]
  },
  {
   "cell_type": "code",
   "execution_count": 76,
   "id": "f5ce644b-cbdd-404a-85c3-3bfa1d21ad6e",
   "metadata": {},
   "outputs": [
    {
     "data": {
      "text/plain": [
       "400"
      ]
     },
     "execution_count": 76,
     "metadata": {},
     "output_type": "execute_result"
    }
   ],
   "source": [
    "#9. Explain the significance of encapsulation in achieving abstraction. Provide examples.\n",
    "\n",
    "#Encapsulation and abstraction are closely related concepts in object-oriented programming, \n",
    " #with encapsulation playing a significant role in achieving abstraction. Encapsulation refers\n",
    " #to the bundling of data (attributes) and methods (behavior) that operate on the data into a single\n",
    " #unit, typically a class.\n",
    "    \n",
    "#It allows the internal state of an object to be hidden from the outside world and accessed only through \n",
    " #well-defined interfaces, promoting information hiding and data protection.\n",
    "\n",
    "#Here's how encapsulation contributes to achieving abstraction:-\n",
    " #Encapsulation allows the internal details of how an object works to be hidden from the outside world. \n",
    "  #Only the essential features, represented by the public methods of the class, are exposed to the external code.\n",
    " #Encapsulation helps in defining a clear and well-defined interface for interacting with objects. By providing public\n",
    "  #methods for accessing and modifying the object's state, encapsulation ensures that the object's \n",
    "  #behavior is controlled and consistent.\n",
    " #Encapsulation allows data to be protected within the object, preventing unauthorized access and modification. \n",
    "  #By encapsulating data within the object and providing controlled access through methods, encapsulation ensures \n",
    "  #that the object's state remains valid and consistent.\n",
    "\n",
    "class BankAccounT:\n",
    "    def __init__(self,account_number,balance):\n",
    "        self._account_number=account_number  \n",
    "        self._balance=balance  \n",
    "    def deposiT(self,amount):\n",
    "        self._balance+=amount\n",
    "    def withdraW(self,amount):\n",
    "        if amount<=self._balance:\n",
    "            self._balance-=amount\n",
    "        else:\n",
    "            print(\"Insufficient funds\")\n",
    "    def get_balancE(self):\n",
    "        return self._balance\n",
    "bankkakhaata=BankAccounT(account_number=2212006,balance=200)\n",
    "bankkakhaata.deposiT(200)\n",
    "bankkakhaata.get_balancE()"
   ]
  },
  {
   "cell_type": "raw",
   "id": "59c341cc-524b-4a68-8d99-3f34671302f8",
   "metadata": {},
   "source": [
    "10. What is the purpose of abstract methods, and how do they enforce abstraction in Python classes?\n",
    "  \n",
    "*abstract methods in Python serve the purpose of defining a method signature in a base class without\n",
    " providing any implementation. They enforce abstraction by requiring subclasses to implement these \n",
    " abstract methods thereby ensuring that concrete implementations are provided for crucial functionality \n",
    " specific to each subclass\n",
    " \n",
    "*here's how abstract methods enforce abstraction in Python classes:-\n",
    " -abstract methods serve as a blueprint for methods that must be implemented by subclasses\n",
    "  they outline the interface that subclasses must adhere to, specifying what methods should be available \n",
    "  without dictating how they should be implemented\n",
    " -when a class contains abstract methods, it cannot be instantiated directly subclasses must provide concrete\n",
    "  implementations for all abstract methods before they can be instantiated"
   ]
  },
  {
   "cell_type": "code",
   "execution_count": 77,
   "id": "1904d83e-6753-4312-a92a-ea88c12a3a6b",
   "metadata": {},
   "outputs": [
    {
     "name": "stdout",
     "output_type": "stream",
     "text": [
      "benztruck, has been started\n",
      "benztruck, has been stopped\n",
      "lexus, has been started\n",
      "lexus, has been stopped\n"
     ]
    }
   ],
   "source": [
    "#11. Create a Python class for a vehicle system and demonstrate abstraction by defining common methods (e.g., `start()`\n",
    "#, `stop()`) in an abstract base class.\n",
    "\n",
    "from abc import ABC, abstractmethod\n",
    "class VehicleSystem(ABC):\n",
    "    @abstractmethod\n",
    "    def start(self):\n",
    "        pass\n",
    "    @abstractmethod\n",
    "    def stop(self):\n",
    "        pass\n",
    "class Trucks(VehicleSystem):\n",
    "    def __init__(self,truck_model):\n",
    "        self.truck_model=truck_model\n",
    "    def start(self):\n",
    "        return (f'{self.truck_model}, has been started')\n",
    "    def stop(self):\n",
    "        return (f'{self.truck_model}, has been stopped')\n",
    "class Cars(VehicleSystem):\n",
    "    def __init__(self,car_model):\n",
    "        self.car_model=car_model\n",
    "    def start(self):\n",
    "        return (f'{self.car_model}, has been started')\n",
    "    def stop(self):\n",
    "        return (f'{self.car_model}, has been stopped')\n",
    "    \n",
    "truck1=Trucks('benztruck')\n",
    "print(truck1.start())\n",
    "print(truck1.stop())\n",
    "car1=Cars('lexus')\n",
    "print(car1.start())\n",
    "print(car1.stop())"
   ]
  },
  {
   "cell_type": "raw",
   "id": "28052511-9c12-46d3-9eac-491d4d3161bf",
   "metadata": {},
   "source": [
    "12. Describe the use of abstract properties in Python and how they can be employed in abstract classes.\n",
    "\n",
    "*abstract properties in Python serve a similar purpose to abstract methods but are used specifically \n",
    " for defining properties (attributes) in classes. They allow us to define a blueprint for properties \n",
    " that subclasses must implement. Abstract properties enforce abstraction by ensuring that subclasses provide \n",
    " concrete implementations for specific attributes\n",
    " \n",
    "*Here's how abstract properties can be employed in abstract classes in Python:-\n",
    " -abstract properties define a blueprint for attributes that must be present in subclasses\n",
    "  they specify the interface for accessing certain properties without dictating how these properties should be implemented.\n",
    " -just as abstract methods, abstract properties cannot have an implementation in the base class. Subclasses \n",
    "  are required to provide concrete  implementations for abstract properties\n",
    " -by using abstract properties, we can establish a consistent interface across subclasses, making it clear which \n",
    "  attributes must be present in each subclass."
   ]
  },
  {
   "cell_type": "code",
   "execution_count": 78,
   "id": "7a647762-13c5-407c-95a7-eb042d1cda8b",
   "metadata": {},
   "outputs": [
    {
     "name": "stdout",
     "output_type": "stream",
     "text": [
      "ajay\" (Manager): Salary - $82000\n",
      "ankit (Developer): Salary - $52000\n",
      "rahul (Designer): Salary - $59000\n"
     ]
    }
   ],
   "source": [
    "#13. Create a Python class hierarchy for employees in a company (e.g., manager, developer, designer) and \n",
    "#implement abstraction by defining a common `get_salary()` method.\n",
    "\n",
    "from abc import ABC, abstractmethod\n",
    "class Employees(ABC):\n",
    "    def __init__(self,name,role):\n",
    "        self.name=name\n",
    "        self.role=role\n",
    "    @abstractmethod\n",
    "    def calculate_salary(self):\n",
    "        raise NotImplementedError('Subclasses must implement the calculate_salary method')\n",
    "class Manager(Employees):\n",
    "    def __init__(self,name,team_size):\n",
    "        super().__init__(name,role='Manager')\n",
    "        self.team_size=team_size\n",
    "    def calculate_salary(self):\n",
    "        base_salary=60000\n",
    "        bonus = self.team_size*2000\n",
    "        return base_salary+bonus\n",
    "class Developer(Employees):\n",
    "    def __init__(self,name,programming_language):\n",
    "        super().__init__(name,role='Developer')\n",
    "        self.programming_language=programming_language\n",
    "    def calculate_salary(self):\n",
    "        base_salary = 50000\n",
    "        bonus = 2000 if self.programming_language=='Python' else 0\n",
    "        return base_salary+bonus\n",
    "class Designer(Employees):\n",
    "    def __init__(self,name,years_of_experience):\n",
    "        super().__init__(name,role='Designer')\n",
    "        self.years_of_experience=years_of_experience\n",
    "    def calculate_salary(self):\n",
    "        base_salary=55000\n",
    "        bonus=self.years_of_experience*1000\n",
    "        return base_salary+bonus\n",
    "# Example usage:-\n",
    "manager=Manager('ajay\"',team_size=11)\n",
    "developer=Developer('ankit',programming_language='Python')\n",
    "designer=Designer('rahul',years_of_experience=4)\n",
    "employees = [manager,developer,designer]\n",
    "for employees in employees:\n",
    "    print(f'{employees.name} ({employees.role}): Salary - ${employees.calculate_salary()}')"
   ]
  },
  {
   "cell_type": "raw",
   "id": "d2b155ac-6622-4b26-87df-ac731547f067",
   "metadata": {},
   "source": [
    "14. Discuss the differences between abstract classes and concrete classes in Python, including their instantiation.\n",
    "\n",
    "*an abstract class is a class that cannot be instantiated directly. It exists primarily to serve as a \n",
    " blueprint for other classes. Abstract classes may contain abstract methods, which are methods without \n",
    " implementation. Abstract classes are typically used to define a common interface or behavior that subclasses must implement\n",
    " \n",
    "*a concrete class is a class that can be instantiated directly. It provides concrete implementations \n",
    " for all its methods, including any methods inherited from its parent classes. Concrete classes can be instantiated to create objects.\n",
    " \n",
    "*instantiation:-\n",
    " -abstract classes cannot be instantiated directly. Attempting to create an instance of an abstract \n",
    "  class will result in an error.\n",
    " -Subclasses of abstract classes must provide concrete implementations for all abstract methods \n",
    "  defined in the abstract class before they can be   instantiated.\n",
    "  \n",
    " -concrete classes can be instantiated directly using the class constructor.\n",
    " -objects created from concrete classes can be used to interact with the defined behavior and state of the class."
   ]
  },
  {
   "cell_type": "raw",
   "id": "f03521d3-ccca-46d1-8eac-9181b6caf3ed",
   "metadata": {},
   "source": [
    "15. Explain the concept of abstract data types (ADTs) and their role in achieving abstraction in Python.\n",
    "\n",
    "\n",
    "*abstract Data Types (ADTs) are a concept in computer science that define a mathematical model for data types \n",
    " based on their behavior and operations,  without specifying their implementation details. ADTs abstractly represent\n",
    " data structures along with the operations that can be performed on them, hiding the internal workings of the data structure. \n",
    " This abstraction allows programmers to focus on using the data structure without needing to know how it is implemented.\n",
    " \n",
    "*here's how ADTs achieve abstraction in Python:-\n",
    " -ADTs encapsulate both data and the operations that can be performed on that data within a single unit. \n",
    " -ADTs provide a well-defined interface through which users interact with the data structure. This interface specifies \n",
    "  the available operations and their behavior but does not reveal the underlying implementation\n",
    " -by abstracting away implementation details, ADTs enable a clear separation of concerns between the \n",
    "  user of the data structure and its implementation"
   ]
  },
  {
   "cell_type": "code",
   "execution_count": 79,
   "id": "87633c3e-975b-484a-bee5-885587edb061",
   "metadata": {},
   "outputs": [
    {
     "name": "stdout",
     "output_type": "stream",
     "text": [
      "dp, is powered on\n",
      "dp, has been shutdown\n",
      "hell, is powered on\n",
      "hell, has been shutdown\n"
     ]
    }
   ],
   "source": [
    "#16. Create a Python class for a computer system, demonstrating abstraction by defining common methods \n",
    "#(e.g., `power_on()`, `shutdown()`) in an abstract base class.\n",
    "\n",
    "from abc import ABC, abstractmethod\n",
    "class ComputerSystem(ABC):\n",
    "    @abstractmethod\n",
    "    def power_on(self):\n",
    "        pass\n",
    "    @abstractmethod\n",
    "    def shutdown(self):\n",
    "        pass\n",
    "class Laptops(ComputerSystem):\n",
    "    def __init__(self,laptop_model):\n",
    "        self.laptop_model=laptop_model\n",
    "    def power_on(self):\n",
    "        return (f'{self.laptop_model}, is powered on')\n",
    "    def shutdown(self):\n",
    "        return (f'{self.laptop_model}, has been shutdown')\n",
    "class PersonalComputers(ComputerSystem):\n",
    "    def __init__(self,pc_model):\n",
    "        self.pc_model=pc_model\n",
    "    def power_on(self):\n",
    "        return (f'{self.pc_model}, is powered on')\n",
    "    def shutdown(self):\n",
    "        return (f'{self.pc_model}, has been shutdown')\n",
    "    \n",
    "laptop1=Laptops('dp')\n",
    "print(laptop1.power_on())\n",
    "print(laptop1.shutdown())\n",
    "pc1=PersonalComputers('hell')\n",
    "print(pc1.power_on())\n",
    "print(pc1.shutdown())"
   ]
  },
  {
   "cell_type": "raw",
   "id": "a0a496a8-f223-4829-b5f8-0f741aaeea07",
   "metadata": {},
   "source": [
    "17. Discuss the benefits of using abstraction in large-scale software development projects.\n",
    "\n",
    "*abstraction plays a crucial role in large-scale software development projects, offering several \n",
    " benefits that contribute to the efficiency, maintainability, and scalability of the software. \n",
    " \n",
    "*here are some key benefits of using abstraction in large-scale software development projects:-\n",
    " -abstraction allows developers to break down complex systems into smaller, more manageable components\n",
    " -abstraction hides the internal details of a component's implementation, exposing only the necessary interfaces or APIs.\n",
    " -abstraction promotes code reusability by defining generic interfaces and implementations that can be\n",
    "  shared across multiple parts of the software."
   ]
  },
  {
   "cell_type": "raw",
   "id": "83ff8c61-5cf1-4410-b587-7e6d94615e3c",
   "metadata": {},
   "source": [
    "18. Explain how abstraction enhances code reusability and modularity in Python programs.\n",
    " \n",
    "*here's how abstraction enhances code reusability and modularity in Python programs.\n",
    " -abstraction allows us to encapsulate the implementation details of a particular functionality or component \n",
    "  behind a well-defined interface. This means that the internal workings of a component are hidden from the outside world, \n",
    "  allowing users of the component to interact with it solely through its interface\n",
    " -abstraction defines clear and consistent interfaces for interacting with components. These interfaces specify the methods,\n",
    "  properties, or functions that are available for use, along with their expected behavior\n",
    " -abstraction encourages the decomposition of complex systems into smaller, more manageable modules or components. \n",
    "  Each module or component can be developed, tested, and maintained independently, \n",
    "  focusing on a specific aspect of the overall functionality\n",
    " -by defining clear interfaces between modules, abstraction facilitates the integration of these \n",
    "  modules into larger systems, promoting modularity and simplifying the development process."
   ]
  },
  {
   "cell_type": "code",
   "execution_count": 80,
   "id": "0082e7ad-a2bb-49fb-b1cd-5f0b86b1f033",
   "metadata": {},
   "outputs": [
    {
     "name": "stdout",
     "output_type": "stream",
     "text": [
      "Python Programming has been added to the library.\n",
      "Data Structures and Algorithms has been added to the library.\n",
      "Python Programming has been borrowed by ankit.\n",
      "Data Structures and Algorithms has been borrowed by ankit.\n",
      "Java Programming does not exist in the library.\n",
      "Python Programming has been returned.\n",
      "Python Programming has been borrowed by ankit.\n"
     ]
    }
   ],
   "source": [
    "#19. Create a Python class for a library system, implementing abstraction by defining common methods (e.g., `add_book()`,\n",
    "#`borrow_book()`) in an abstract base class.\n",
    "\n",
    "from abc import ABC,abstractmethod\n",
    "class LibrarySystem(ABC):\n",
    "    def __init__(self):\n",
    "        self.books = {}\n",
    "    @abstractmethod\n",
    "    def add_book(self,book_title):\n",
    "        pass\n",
    "    @abstractmethod\n",
    "    def borrow_book(self,book_title,borrower_name):\n",
    "        pass\n",
    "    @abstractmethod\n",
    "    def return_book(self,book_title):\n",
    "        pass\n",
    "class Library(LibrarySystem):\n",
    "    def add_book(self,book_title):\n",
    "        if book_title in self.books:\n",
    "            print(f'{book_title} already exists in the library.')\n",
    "        else:\n",
    "            self.books[book_title]=True\n",
    "            print(f'{book_title} has been added to the library.')\n",
    "    def borrow_book(self,book_title,borrower_name):\n",
    "        if book_title in self.books:\n",
    "            if self.books[book_title]:\n",
    "                self.books[book_title]=borrower_name\n",
    "                print(f'{book_title} has been borrowed by {borrower_name}.')\n",
    "            else:\n",
    "                print(f'{book_title} is already borrowed by {self.books[book_title]}.')\n",
    "        else:\n",
    "            print(f'{book_title} does not exist in the library.')\n",
    "    \n",
    "    def return_book(self,book_title):\n",
    "        if book_title in self.books:\n",
    "            if self.books[book_title] is True:\n",
    "                print(f'{book_title} is already available in the library.')\n",
    "            else:\n",
    "                print(f'{book_title} has been returned.')\n",
    "                self.books[book_title]=True\n",
    "        else:\n",
    "            print(f'{book_title} does not exist in the library.')\n",
    "# Example use:-\n",
    "library = Library()\n",
    "library.add_book('Python Programming')\n",
    "library.add_book('Data Structures and Algorithms')\n",
    "library.borrow_book('Python Programming','ankit')\n",
    "library.borrow_book('Data Structures and Algorithms','ankit')\n",
    "library.borrow_book('Java Programming','ankit')\n",
    "library.return_book('Python Programming')\n",
    "library.borrow_book('Python Programming','ankit')"
   ]
  },
  {
   "cell_type": "raw",
   "id": "5e5098e8-df60-45af-8589-58180d012b4a",
   "metadata": {},
   "source": [
    "20. Describe the concept of method abstraction in Python and how it relates to polymorphism.\n",
    "\n",
    "*method abstraction in Python refers to the process of defining methods in a class without providing \n",
    " their implementation details. Instead, method signatures are specified to outline the interface that \n",
    " subclasses must adhere to, without dictating how these methods should be implemented.\n",
    " \n",
    "*abstract methods serve as placeholders or blueprints for methods that subclasses must provide concrete implementations for. \n",
    " They enable developers to define a common interface for a group of related classes, ensuring consistency in behavior\n",
    " while allowing for flexibility in implementation. \n",
    " \n",
    "*method abstraction in Python involves defining method signatures without implementation details, \n",
    " providing a common interface for subclasses to adhere to. This concept is closely related to polymorphism, \n",
    " which allows objects of different types to be treated uniformly through method overriding. Together,\n",
    " method abstraction and polymorphism enable developers to write flexible, reusable, and maintainable code."
   ]
  },
  {
   "cell_type": "markdown",
   "id": "23bab622-3a3f-4a66-8b0c-273c586f5b7b",
   "metadata": {},
   "source": [
    "Composition"
   ]
  },
  {
   "cell_type": "raw",
   "id": "798df14c-8583-4e8f-be1b-67c0766678f4",
   "metadata": {},
   "source": [
    "1. Explain the concept of composition in Python and how it is used to build complex objects from simpler ones.\n",
    "\n",
    "*composition is a fundamental concept in object-oriented programming that involves constructing complex objects\n",
    " by combining simpler objects as components. In Python, composition is achieved by creating classes that contain\n",
    " instances of other classes as attributes. These attributes represent the component objects that make up the larger,\n",
    " composite object.\n",
    " \n",
    "*here's how composition works and how it's used to build complex objects from simpler ones in Python:-\n",
    " -define classes for the simpler objects or components that we want to compose together. Each class represents\n",
    "  a specific aspect or functionality of  the overall object.\n",
    " -define a class that will serve as the composite or complex object. This class contains instances of the simpler\n",
    "  classes as attributes. These attributes represent the components that make up the composite object.\n",
    " -instantiate the composite object, we create instances of the component classes and assign them as attributes of\n",
    "  the composite object. This establishes the relationship between the composite object and its components.\n",
    " -the composite object can delegate functionality to its component objects by calling their methods or accessing their attributes. \n",
    "  This allows the composite object to perform complex operations by orchestrating the behavior of its components.\n",
    " -composition encapsulates the behavior of the component objects within the composite object, hiding their implementation\n",
    "  details. This promotes  modularity and code reuse by allowing the components to be used interchangeably in different composite objects\n",
    " -composition enables flexibility and extensibility by allowing us to change or extend the behavior of the composite object\n",
    "  by modifying or adding components. This makes it easy to customize the behavior of the composite object without needing to \n",
    "  modify its implementation directly."
   ]
  },
  {
   "cell_type": "raw",
   "id": "78883f2f-4cd7-4d3c-858a-dd15c6af5516",
   "metadata": {},
   "source": [
    "2. Describe the difference between composition and inheritance in object-oriented programming.\n",
    "\n",
    "*composition and inheritance are both fundamental concepts in object-oriented programming (OOP)\n",
    " that enable code reuse and promote modularity.\n",
    "\n",
    "-in composition, objects of one class contain references to objects of other classes as attributes. These objects are\n",
    " composed together to create a composite object. Composition represents a \"has-a\" relationship, where one object has another\n",
    " object as a part of its state.\n",
    " \n",
    "-in inheritance, one class (subclass or derived class) inherits attributes and behaviors from another class \n",
    " (superclass or base class). The subclass extends or specializes the functionality of the superclass. Inheritance\n",
    " represents an \"is-a\" relationship, where a subclass is a specific type of the superclass."
   ]
  },
  {
   "cell_type": "code",
   "execution_count": 81,
   "id": "20d9ce2f-54ba-49db-81a7-396134f58b2d",
   "metadata": {},
   "outputs": [
    {
     "name": "stdout",
     "output_type": "stream",
     "text": [
      "ankit 12-02-2002\n",
      "ankit Python Programming\n"
     ]
    }
   ],
   "source": [
    "#3. Create a Python class called `Author` with attributes for name and birthdate. Then, create a `Book` class\n",
    "#that contains an instance of `Author` as a composition. Provide an example of creating a `Book` object.\n",
    "\n",
    "class Author:\n",
    "    def __init__(self,name,birthdate):\n",
    "        self.name=name\n",
    "        self.birthdate=birthdate\n",
    "        \n",
    "class Book:\n",
    "    def __init__(self,book_name,author):\n",
    "        self.book_name=book_name\n",
    "        self.author=author\n",
    "author1=Author('ankit','12-02-2002')\n",
    "book1=Book('Python Programming', author1,)\n",
    "print(author1.name,author1.birthdate)\n",
    "print(book1.author.name,book1.book_name)"
   ]
  },
  {
   "cell_type": "raw",
   "id": "ac286939-430c-4203-83e3-78eb6c2ee84c",
   "metadata": {},
   "source": [
    "4. Discuss the benefits of using composition over inheritance in Python, especially in terms of code flexibility\n",
    "and reusability.\n",
    "\n",
    "*benefits of using composition over inheritance in Python in terms of code flexibility0\n",
    " and reusability.\n",
    " -composition allows for more flexible relationships between classes. Instead of being bound by a \n",
    "  rigid class hierarchy, classes can be composed together dynamically at runtime.\n",
    " -composition promotes loose coupling between classes. Since classes are composed together through \n",
    "  object references rather than inheritance, there are fewer dependencies between classes.\n",
    " -composition encourages a modular design approach, where classes are smaller, focused, and easier to manage. \n",
    " -composition facilitates code reuse by promoting the reuse of smaller, more focused components"
   ]
  },
  {
   "cell_type": "code",
   "execution_count": 82,
   "id": "b7949818-86e3-4e98-af82-2b5abc3eebf1",
   "metadata": {},
   "outputs": [
    {
     "name": "stdout",
     "output_type": "stream",
     "text": [
      "Engine started\n",
      "Wheels rotating\n"
     ]
    }
   ],
   "source": [
    "#5. How can you implement composition in Python classes? Provide examples of using composition to create\n",
    "#complex objects.\n",
    " \n",
    "#composition is implemented by creating classes that contain instances of other classes as attributes. These \n",
    " #attributes represent the components or parts that make up the larger, composite object.\n",
    "\n",
    "#example:-\n",
    "class Engine:\n",
    "    def start(self):\n",
    "        print('Engine started')\n",
    "class Wheels:\n",
    "    def rotate(self):\n",
    "        print('Wheels rotating')\n",
    "class Car:\n",
    "    def __init__(self):\n",
    "        self.engine = Engine() \n",
    "        self.wheels = Wheels()  \n",
    "    def start(self):\n",
    "        self.engine.start()\n",
    "        self.wheels.rotate()\n",
    "my_car = Car()\n",
    "my_car.start()"
   ]
  },
  {
   "cell_type": "code",
   "execution_count": 83,
   "id": "1a4b2a53-5636-413b-8830-14c47680fa0a",
   "metadata": {},
   "outputs": [
    {
     "name": "stdout",
     "output_type": "stream",
     "text": [
      "Playing playlist: Classics\n",
      "Playing: xyz by Queen\n",
      "Playing: cvb by test\n"
     ]
    }
   ],
   "source": [
    "#6. Create a Python class hierarchy for a music player system, using composition to represent playlists and\n",
    "#songs.\n",
    "\n",
    "class Song:\n",
    "    def __init__(self,title,artist,duration):\n",
    "        self.title=title\n",
    "        self.artist=artist\n",
    "        self.duration=duration\n",
    "    def play(self):\n",
    "        print(f'Playing: {self.title} by {self.artist}')\n",
    "class Playlist:\n",
    "    def __init__(self,name):\n",
    "        self.name=name\n",
    "        self.songs=[]\n",
    "    def add_song(self,song):\n",
    "        self.songs.append(song)\n",
    "    def play_all(self):\n",
    "        print(f'Playing playlist: {self.name}')\n",
    "        for song in self.songs:\n",
    "            song.play()\n",
    "\n",
    "# Example:-\n",
    "song1 = Song('xyz', 'Queen', '6:07')\n",
    "song2 = Song('cvb', 'test', '8:03')\n",
    "playlist = Playlist('Classics')\n",
    "playlist.add_song(song1)\n",
    "playlist.add_song(song2)\n",
    "playlist.play_all()"
   ]
  },
  {
   "cell_type": "raw",
   "id": "17e8f0c8-dd1a-4143-9cc3-2412280ffd6d",
   "metadata": {},
   "source": [
    "7. Explain the concept of \"has-a\" relationships in composition and how it helps design software systems.\n",
    "\n",
    "*in composition, a 'has-a' relationship refers to the relationship between a composite object (or container)\n",
    " and its component objects (or parts). This relationship indicates that the composite object contains instances \n",
    " of one or more other classes as attributes, thereby forming a structural or behavioral dependency between them.\n",
    " \n",
    "*here's how the concept of 'has-a' relationships in composition helps design software systems:-\n",
    " -promote modularity and encapsulation by allowing objects to be decomposed into smaller, more manageable components.\n",
    " -facilitate code reuse by promoting the reuse of smaller, more focused components. Since objects are composed \n",
    "  together through object references, the same component can be reused in multiple contexts or composed with different \n",
    "  components to achieve different behaviors.\n",
    " -provide flexibility in designing class relationships. Objects can be composed together dynamically at runtime, \n",
    "  allowing for more dynamic and adaptable designs."
   ]
  },
  {
   "cell_type": "code",
   "execution_count": 84,
   "id": "4afb6421-2474-4bd9-8a22-bc5f8ed493f5",
   "metadata": {},
   "outputs": [
    {
     "name": "stdout",
     "output_type": "stream",
     "text": [
      "booting computer system\n",
      "intel i3 CPU processing data\n",
      "reading data from 8GB RAM\n",
      "storing data in 512GB storage\n",
      "computer system booted successfully\n"
     ]
    }
   ],
   "source": [
    "#8. Create a Python class for a computer system, using composition to represent components like CPU, RAM,\n",
    "#and storage devices.\n",
    "\n",
    "class CPU:\n",
    "    def __init__(self,model,cores):\n",
    "        self.model=model\n",
    "        self.cores=cores\n",
    "    def process(self):\n",
    "        print(f'{self.model} CPU processing data')\n",
    "class RAM:\n",
    "    def __init__(self,capacity):\n",
    "        self.capacity=capacity\n",
    "    def read(self):\n",
    "        print(f'reading data from {self.capacity} RAM')\n",
    "class Storage:\n",
    "    def __init__(self,capacity):\n",
    "        self.capacity=capacity\n",
    "    def store(self):\n",
    "        print(f'storing data in {self.capacity} storage')\n",
    "class ComputerSystem:\n",
    "    def __init__(self,cpu_model,cpu_cores,ram_capacity,storage_capacity):\n",
    "        self.cpu=CPU(cpu_model, cpu_cores)\n",
    "        self.ram=RAM(ram_capacity)\n",
    "        self.storage=Storage(storage_capacity)\n",
    "    def boot(self):\n",
    "        print('booting computer system')\n",
    "        self.cpu.process()\n",
    "        self.ram.read()\n",
    "        self.storage.store()\n",
    "        print('computer system booted successfully')\n",
    "computer = ComputerSystem(cpu_model='intel i3', cpu_cores=8, ram_capacity='8GB', storage_capacity='512GB')\n",
    "computer.boot()"
   ]
  },
  {
   "cell_type": "raw",
   "id": "04e5889c-9104-45ca-b753-fdb88f1b5552",
   "metadata": {},
   "source": [
    "9. Describe the concept of \"delegation\" in composition and how it simplifies the design of complex systems.\n",
    "\n",
    " *delegation refers to the practice of delegating responsibility for certain tasks or behaviors from a composite\n",
    "  object to its component objects. Instead of implementing all functionality directly within the composite object, \n",
    "  the composite object delegates specific tasks to its components, which are specialized to handle those tasks.\n",
    "  Delegation simplifies the design of complex systems by promoting modularity, encapsulation, and code reuse.\n",
    "\n",
    "*here's how delegation works and how it simplifies the design of complex systems:\n",
    " -delegation promotes modularity by breaking down complex behaviors into smaller, more manageable tasks.\n",
    "  Each component is responsible for a specific aspect of functionality, encapsulating its behavior and \n",
    "  implementation details.\n",
    " -allows for the separation of concerns by assigning different responsibilities to different components. \n",
    "  Each component focuses on its specialized area of functionality, leading to clearer and more focused code.\n",
    " -delegation facilitates code reuse by promoting the reuse of smaller, more focused components"
   ]
  },
  {
   "cell_type": "code",
   "execution_count": 85,
   "id": "40e5c8b3-57d1-493d-b029-9eab2075277f",
   "metadata": {},
   "outputs": [
    {
     "name": "stdout",
     "output_type": "stream",
     "text": [
      "Engine started\n",
      "Wheels rotating\n"
     ]
    },
    {
     "name": "stdin",
     "output_type": "stream",
     "text": [
      "Select the gear you want to shift into (R, 1, 2, 3, 4, 5, N):  7\n"
     ]
    },
    {
     "name": "stdout",
     "output_type": "stream",
     "text": [
      "please select from the given category\n"
     ]
    }
   ],
   "source": [
    "#10. Create a Python class for a car, using composition to represent components like the engine, wheels, and\n",
    "#transmission.\n",
    "\n",
    "class Engine:\n",
    "    def start(self):\n",
    "        print('Engine started')\n",
    "class Wheels:\n",
    "    def rotate(self):\n",
    "        print('Wheels rotating')\n",
    "class Transmission:\n",
    "    def gear_shift(self):\n",
    "        gear=input('Select the gear you want to shift into (R, 1, 2, 3, 4, 5, N): ').upper()\n",
    "        gear_category=['R','N','1','2','3','4','5']\n",
    "        if gear in gear_category:\n",
    "            print('transmission shifted to:',gear)\n",
    "        else:\n",
    "            print('please select from the given category')\n",
    "class Car:\n",
    "    def __init__(self):\n",
    "        self.engine=Engine() \n",
    "        self.wheels=Wheels()\n",
    "        self.transmission=Transmission()\n",
    "    def start(self):\n",
    "        self.engine.start()\n",
    "        self.wheels.rotate()\n",
    "        self.transmission.gear_shift() \n",
    "my_car=Car()\n",
    "my_car.start()"
   ]
  },
  {
   "cell_type": "raw",
   "id": "75040475-4cd5-4783-a226-2dcddac6a932",
   "metadata": {},
   "source": [
    "11. How can you encapsulate and hide the details of composed objects in Python classes to maintain\n",
    "abstraction?\n",
    "\n",
    "*we can encapsulate and hide the details of composed objects within a class by following these practices:-\n",
    " -prefix attributes with double underscores (__) to make them private. \n",
    " -define public methods in the class to interact with the composed objects.\n",
    " -implement methods in the class that delegate operations to the composed objects.\n",
    " -avoid exposing the composed objects directly to external code. Instead, provide access to them \n",
    "  through controlled methods or properties."
   ]
  },
  {
   "cell_type": "code",
   "execution_count": 91,
   "id": "a16cccc9-45bf-4bd5-bad0-27857a93c91c",
   "metadata": {},
   "outputs": [
    {
     "name": "stdout",
     "output_type": "stream",
     "text": [
      "University Course:python programming\n",
      "Instructor:instructor: Dr. xvr (ID: 01)\n",
      "Students:student: ankit (ID: S001), student: ajay (ID: S002)\n",
      "Course Materials:course material: lecture notes, course material: assignment 1\n"
     ]
    }
   ],
   "source": [
    "#12. Create a Python class for a university course, using composition to represent students, instructors, and\n",
    "#course materials.\n",
    "\n",
    "class Student:\n",
    "    def __init__(self,name,student_id):\n",
    "        self.name=name\n",
    "        self.student_id=student_id\n",
    "    def __str__(self):\n",
    "        return f\"student: {self.name} (ID: {self.student_id})\"\n",
    "class Instructor:\n",
    "    def __init__(self,name,instructor_id):\n",
    "        self.name=name\n",
    "        self.instructor_id=instructor_id\n",
    "    def __str__(self):\n",
    "        return f\"instructor: {self.name} (ID: {self.instructor_id})\"\n",
    "class CourseMaterial:\n",
    "    def __init__(self,title,content):\n",
    "        self.title=title\n",
    "        self.content=content\n",
    "    def __str__(self):\n",
    "        return f\"course material: {self.title}\"\n",
    "class UniversityCourse:\n",
    "    def __init__(self,course_name,instructor,students,course_materials):\n",
    "        self.course_name=course_name\n",
    "        self.instructor=instructor\n",
    "        self.students=students\n",
    "        self.course_materials=course_materials\n",
    "    def __str__(self):\n",
    "        return f\"University Course:{self.course_name}\\n\" \\\n",
    "               f\"Instructor:{self.instructor}\\n\" \\\n",
    "               f\"Students:{', '.join(str(student) for student in self.students)}\\n\" \\\n",
    "               f\"Course Materials:{', '.join(str(material) for material in self.course_materials)}\"\n",
    "student1=Student('ankit','S001')\n",
    "student2=Student('ajay','S002')\n",
    "instructor=Instructor('Dr. xvr','01')\n",
    "material1=CourseMaterial('lecture notes','introduction to python programming')\n",
    "material2=CourseMaterial('assignment 1','programming exercises')\n",
    "students=[student1,student2]\n",
    "course_materials=[material1,material2]\n",
    "course=UniversityCourse('python programming',instructor,students,course_materials)\n",
    "print(course)"
   ]
  },
  {
   "cell_type": "raw",
   "id": "305f73ec-257b-4785-a5a5-b08728ccce6e",
   "metadata": {},
   "source": [
    "13. Discuss the challenges and drawbacks of composition, such as increased complexity and potential for\n",
    "tight coupling between objects.\n",
    "\n",
    " -as the number of composed objects and their interactions grows, the overall complexity of \n",
    "  the system can increase significantly.\n",
    " -composition can lead to tight coupling between objects if not implemented carefully.\n",
    " -testing composed objects can be more complex compared to testing standalone objects.\n",
    " -composing objects together can result in increased memory overhead, especially if objects \n",
    "  hold references to other objects."
   ]
  },
  {
   "cell_type": "code",
   "execution_count": 92,
   "id": "1c4f9a9b-d374-45df-b906-38a2436197ec",
   "metadata": {},
   "outputs": [
    {
     "name": "stdout",
     "output_type": "stream",
     "text": [
      "Restaurant System:\n",
      "Menus: Menu: vegetarian curry (Price: 120), Menu: vegetarian pizza (Price: 150)\n",
      "Dishes: Dish: vegetarian curry (Ingredients: vegetables, curry sauce, rice), Dish: vegetarian pizza (Ingredients: pizza dough, tomato sauce, mushrooms, bell peppers)\n"
     ]
    }
   ],
   "source": [
    "#14. Create a Python class hierarchy for a restaurant system, using composition to represent menus, dishes,\n",
    "#and ingredients.\n",
    "\n",
    "class Menus:\n",
    "    def __init__(self,dish_name,price):\n",
    "        self.dish_name=dish_name\n",
    "        self.price=price\n",
    "    def __str__(self):\n",
    "        return f'Menu: {self.dish_name} (Price: {self.price})'\n",
    "class Dishes:\n",
    "    def __init__(self,dish_name,ingredients):\n",
    "        self.dish_name=dish_name\n",
    "        self.ingredients=ingredients\n",
    "    def __str__(self):\n",
    "        return f'Dish: {self.dish_name} (Ingredients: {\", \".join(self.ingredients)})'\n",
    "class Ingredients:\n",
    "    def __init__(self,ingredients):\n",
    "        self.ingredients=ingredients\n",
    "    def __str__(self):\n",
    "        return f'Ingredients:{self.ingredients}'\n",
    "class RestaurantSystem:\n",
    "    def __init__(self,menus,dishes):\n",
    "        self.menus=menus\n",
    "        self.dishes=dishes\n",
    "    def __str__(self):\n",
    "        return f'Restaurant System:\\n' \\\n",
    "               f'Menus: {\", \".join(str(menu) for menu in self.menus)}\\n' \\\n",
    "               f'Dishes: {\", \".join(str(dish) for dish in self.dishes)}'\n",
    "menu1=Menus('vegetarian curry', 120)\n",
    "menu2=Menus('vegetarian pizza', 150)\n",
    "dish1=Dishes('vegetarian curry', ['vegetables', 'curry sauce', 'rice'])\n",
    "dish2=Dishes('vegetarian pizza', ['pizza dough', 'tomato sauce', 'mushrooms', 'bell peppers'])\n",
    "restaurant=RestaurantSystem([menu1, menu2], [dish1, dish2])\n",
    "print(restaurant)"
   ]
  },
  {
   "cell_type": "raw",
   "id": "a21568c9-5c87-4844-955e-90dcf67dc1d9",
   "metadata": {},
   "source": [
    "15. Explain how composition enhances code maintainability and modularity in Python programs.\n",
    "\n",
    "*composition enhances code maintainability and modularity in Python programs in several ways:-\n",
    " -composition promotes code reuse by allowing you to create small, reusable components that can be \n",
    "  composed together to build more complex functionality\n",
    " -composition allows us to encapsulate complex behavior within individual objects. Each component can\n",
    "  handle its responsibilities independently, leading to smaller, more focused classes. \n",
    " -composition allows us to encapsulate complex behavior within individual objects. Each component can\n",
    "  handle its responsibilities independently, leading to smaller, more focused classes. "
   ]
  },
  {
   "cell_type": "code",
   "execution_count": 93,
   "id": "04e2d74f-8090-4064-85b4-1e4cba153107",
   "metadata": {},
   "outputs": [
    {
     "name": "stdout",
     "output_type": "stream",
     "text": [
      "Character: hero\n",
      "Weapons:\n",
      "Weapon: sword (Type: melee, Power: 10, Price: 50)\n",
      "Weapon: bow (Type: ranged, Power: 8, Price: 40)\n",
      "Armour:\n",
      "Armour: helmet (Type: head, Power: 5, Price: 30)\n",
      "Armour: vest (Type: body, Power: 10, Price: 60)\n",
      "Inventory:\n",
      "medkit\n"
     ]
    }
   ],
   "source": [
    "#16. Create a Python class for a computer game character, using composition to represent attributes like\n",
    "#weapons, armor, and inventory.\n",
    "\n",
    "class Weapons:\n",
    "    def __init__(self,weapon_name,weapon_type,weapon_power,weapon_price):\n",
    "        self.weapon_name=weapon_name\n",
    "        self.weapon_type=weapon_type\n",
    "        self.weapon_power=weapon_power\n",
    "        self.weapon_price=weapon_price\n",
    "    def __str__(self):\n",
    "        return f'Weapon: {self.weapon_name} (Type: {self.weapon_type}, Power: {self.weapon_power}, Price: {self.weapon_price})'\n",
    "class Armour:\n",
    "    def __init__(self,armour_name,armour_type,armour_power,armour_price):\n",
    "        self.armour_name=armour_name\n",
    "        self.armour_type=armour_type\n",
    "        self.armour_power=armour_power\n",
    "        self.armour_price=armour_price\n",
    "    def __str__(self):\n",
    "        return f'Armour: {self.armour_name} (Type: {self.armour_type}, Power: {self.armour_power}, Price: {self.armour_price})'\n",
    "class Inventory:\n",
    "    def __init__(self,items=None):\n",
    "        if items is None:\n",
    "            items=[]\n",
    "        self.items=items\n",
    "    def add_item(self,item):\n",
    "        self.items.append(item)\n",
    "    def __str__(self):\n",
    "        return '\\n'.join(str(item) for item in self.items)\n",
    "class Character:\n",
    "    def __init__(self,name,weapons=None,armour=None,inventory=None):\n",
    "        self.name=name\n",
    "        self.weapons=weapons or []\n",
    "        self.armour=armour or []\n",
    "        self.inventory=inventory or Inventory()\n",
    "    def __str__(self):\n",
    "        return f'Character: {self.name}\\n' \\\n",
    "               f'Weapons:\\n{self._format_items(self.weapons)}\\n' \\\n",
    "               f'Armour:\\n{self._format_items(self.armour)}\\n' \\\n",
    "               f'Inventory:\\n{self.inventory}'\n",
    "    def _format_items(self,items):\n",
    "        return '\\n'.join(str(item) for item in items)\n",
    "weapon1=Weapons('sword', 'melee', 10, 50)\n",
    "weapon2=Weapons('bow', 'ranged', 8, 40)\n",
    "armour1=Armour('helmet', 'head', 5, 30)\n",
    "armour2=Armour('vest', 'body', 10, 60)\n",
    "inventory=Inventory(['medkit'])\n",
    "character=Character('hero', [weapon1, weapon2], [armour1, armour2], inventory)\n",
    "print(character)"
   ]
  },
  {
   "cell_type": "raw",
   "id": "7e49d7dd-b0dd-4bf6-a7ec-212f08019e6a",
   "metadata": {},
   "source": [
    "17. Describe the concept of \"aggregation\" in composition and how it differs from simple composition.\n",
    "\n",
    "*aggregation is a specific form of composition where objects are associated with each other, but the\n",
    " relationship is less tightly coupled compared to simple composition.\n",
    " \n",
    " -in simple composition, one class (the composite) contains another class (the component), and the component \n",
    "  cannot exist without the composite. This means that the component's lifecycle is tightly bound to the composite,\n",
    "  and typically the composite manages the creation and destruction of the component.\n",
    " \n",
    " -aggregation represents a relationship where one class (the aggregator or container) contains another class \n",
    "  (the aggregate or contained object), but the aggregate can exist independently of the container. \n",
    "  \n",
    " -in simple composition, the lifecycle of the component is dependent on the composite. However, in aggregation, \n",
    "  the lifecycle of the contained object is independent of the container.\n",
    "  \n",
    " -in simple composition, the composite owns the component, meaning that the component is created, managed, and destroyed by the composite. \n",
    "  In aggregation, the container may use or reference the aggregate, but it does not necessarily own it."
   ]
  },
  {
   "cell_type": "code",
   "execution_count": 94,
   "id": "064e49d2-3037-4580-adf8-47ae8d5e6478",
   "metadata": {},
   "outputs": [
    {
     "name": "stdout",
     "output_type": "stream",
     "text": [
      "House Dimensions: 1000 sq.ft.\n",
      "Rooms:\n",
      "Room Dimensions: 10x12\n",
      "Room Name: Living Room\n",
      "Furniture: sofa (1), Table (1)\n",
      "Appliances: fridge (1), oven (1)\n"
     ]
    }
   ],
   "source": [
    "#18. Create a Python class for a house, using composition to represent rooms, furniture, and appliances.\n",
    "\n",
    "class Room:\n",
    "    def __init__(self,room_dimensions,room_name,furniture_available=None,appliances_available=None):\n",
    "        self.room_dimensions=room_dimensions\n",
    "        self.room_name=room_name\n",
    "        self.furniture_available=furniture_available or []\n",
    "        self.appliances_available=appliances_available or []\n",
    "    def __str__(self):\n",
    "        furniture_str = \", \".join(f'{furniture.furniture_name} ({furniture.furniture_count})' for furniture in self.furniture_available)\n",
    "        appliances_str = \", \".join(f'{appliance.appliances_name} ({appliance.appliances_count})' for appliance in self.appliances_available)\n",
    "        return f'Room Dimensions: {self.room_dimensions}\\n' \\\n",
    "               f'Room Name: {self.room_name}\\n' \\\n",
    "               f'Furniture: {furniture_str}\\n' \\\n",
    "               f'Appliances: {appliances_str}'\n",
    "class Furniture:\n",
    "    def __init__(self,furniture_name,furniture_count):\n",
    "        self.furniture_name=furniture_name\n",
    "        self.furniture_count=furniture_count\n",
    "class Appliances:\n",
    "    def __init__(self,appliances_name,appliances_count):\n",
    "        self.appliances_name=appliances_name\n",
    "        self.appliances_count=appliances_count\n",
    "class House:\n",
    "    def __init__(self,house_dimensions,rooms=None):\n",
    "        self.house_dimensions=house_dimensions\n",
    "        self.rooms=rooms or []\n",
    "    def __str__(self):\n",
    "        rooms_str = \"\\n\".join(str(room) for room in self.rooms)\n",
    "        return f'House Dimensions: {self.house_dimensions}\\n' \\\n",
    "               f'Rooms:\\n' \\\n",
    "               f'{rooms_str}'\n",
    "furniture1=Furniture('sofa', 1)\n",
    "furniture2=Furniture('Table', 1)\n",
    "appliances1=Appliances('fridge', 1)\n",
    "appliances2=Appliances('oven', 1)\n",
    "room1=Room('10x12', 'Living Room',[furniture1, furniture2], [appliances1, appliances2])\n",
    "house=House('1000 sq.ft.',[room1])\n",
    "print(house)"
   ]
  },
  {
   "cell_type": "raw",
   "id": "c35cf8b4-5e4d-432f-b490-c3c3b4e5b08f",
   "metadata": {},
   "source": [
    "19. How can you achieve flexibility in composed objects by allowing them to be replaced or modified\n",
    "dynamically at runtime?\n",
    "\n",
    "*achieving flexibility in composed objects by allowing them to be replaced or modified dynamically at\n",
    "  runtime can be accomplished through various techniques:-\n",
    " -implement dependency injection to inject dependencies into composed objects at runtime. This allows us to replace \n",
    "  or modify the dependencies without altering the class implementation.\n",
    " -use the factory pattern to create composed objects. Factories encapsulate the object creation process,\n",
    "  allowing us to change the type of objects being created dynamically. \n",
    " -the abstract factory pattern provides an interface for creating families of related or dependent objects without \n",
    "  specifying their concrete classes. "
   ]
  },
  {
   "cell_type": "code",
   "execution_count": 95,
   "id": "954bbf04-a012-44a9-987c-c9143e74cca9",
   "metadata": {},
   "outputs": [
    {
     "name": "stdout",
     "output_type": "stream",
     "text": [
      "User: ankit\n",
      "User: jatin\n"
     ]
    }
   ],
   "source": [
    "#20. Create a Python class for a social media application, using composition to represent users, posts, and\n",
    "#comments.\n",
    "\n",
    "class User:\n",
    "    def __init__(self,username):\n",
    "        self.username=username\n",
    "        self.posts=[]\n",
    "    def add_post(self,post):\n",
    "        self.posts.append(post)\n",
    "    def __str__(self):\n",
    "        return f'User: {self.username}'\n",
    "class Post:\n",
    "    def __init__(self,content):\n",
    "        self.content=content\n",
    "        self.comments=[]\n",
    "    def add_comment(self,comment):\n",
    "        self.comments.append(comment)\n",
    "    def __str__(self):\n",
    "        return f'Post: {self.content}'\n",
    "class Comment:\n",
    "    def __init__(self,text):\n",
    "        self.text=text\n",
    "    def __str__(self):\n",
    "        return f'Comment: {self.text}'\n",
    "user1=User('ankit')\n",
    "user2=User('jatin')\n",
    "post1=Post('hello, world')\n",
    "post2=Post('this is a sample post')\n",
    "comment1=Comment('good post')\n",
    "comment2=Comment('great')\n",
    "post1.add_comment(comment1)\n",
    "post2.add_comment(comment2)\n",
    "user1.add_post(post1)\n",
    "user2.add_post(post2)\n",
    "print(user1)\n",
    "print(user2)"
   ]
  }
 ],
 "metadata": {
  "kernelspec": {
   "display_name": "Python 3 (ipykernel)",
   "language": "python",
   "name": "python3"
  },
  "language_info": {
   "codemirror_mode": {
    "name": "ipython",
    "version": 3
   },
   "file_extension": ".py",
   "mimetype": "text/x-python",
   "name": "python",
   "nbconvert_exporter": "python",
   "pygments_lexer": "ipython3",
   "version": "3.10.8"
  }
 },
 "nbformat": 4,
 "nbformat_minor": 5
}
