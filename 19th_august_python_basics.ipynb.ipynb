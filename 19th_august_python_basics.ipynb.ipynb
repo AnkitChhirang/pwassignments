{
 "cells": [
  {
   "cell_type": "code",
   "execution_count": 1,
   "id": "4c392ed6-22ac-4f30-99ab-3737b1e471d5",
   "metadata": {},
   "outputs": [],
   "source": [
    "#Python Basics Assignment01"
   ]
  },
  {
   "cell_type": "code",
   "execution_count": 2,
   "id": "6344cf2c-5796-44f7-b21c-2a6169b29281",
   "metadata": {},
   "outputs": [],
   "source": [
    "#1. Declare two variables 'x' and 'y', and assign them integer values. Swap the values of these variables wihtout using\n",
    "#any temporary variables.\n",
    "a=5\n",
    "b=6"
   ]
  },
  {
   "cell_type": "code",
   "execution_count": 3,
   "id": "82f3bb19-3d6c-4eef-8f9e-efd8873d6da2",
   "metadata": {},
   "outputs": [],
   "source": [
    "a=a+b\n",
    "b=a-b\n",
    "a=a-b"
   ]
  },
  {
   "cell_type": "code",
   "execution_count": 4,
   "id": "68adde3f-2959-4805-b801-27db48bca9eb",
   "metadata": {},
   "outputs": [
    {
     "data": {
      "text/plain": [
       "(6, 5)"
      ]
     },
     "execution_count": 4,
     "metadata": {},
     "output_type": "execute_result"
    }
   ],
   "source": [
    "a,b"
   ]
  },
  {
   "cell_type": "code",
   "execution_count": 5,
   "id": "15c30f0c-dc07-4bee-8652-04ca972d85f5",
   "metadata": {},
   "outputs": [
    {
     "name": "stdin",
     "output_type": "stream",
     "text": [
      "enter the length of rectangle: 23\n",
      "enter the width of rectangle: 13\n"
     ]
    },
    {
     "name": "stdout",
     "output_type": "stream",
     "text": [
      "total area of rectangle is 299\n"
     ]
    }
   ],
   "source": [
    "#2. create a program that calculates the area of rectangle. Take the length and width as inputs\n",
    "#from the user and store them in varibales,Ccalculate and diaplay the area\n",
    "length=int(input('enter the length of rectangle:'))\n",
    "width=int(input('enter the width of rectangle:'))\n",
    "area=length*width\n",
    "print('total area of rectangle is',area)"
   ]
  },
  {
   "cell_type": "code",
   "execution_count": 6,
   "id": "9d5ccfb7-a497-4248-ab5a-a00f57a8ae09",
   "metadata": {},
   "outputs": [
    {
     "name": "stdin",
     "output_type": "stream",
     "text": [
      "enter the temperature in celsius: 32\n"
     ]
    },
    {
     "name": "stdout",
     "output_type": "stream",
     "text": [
      "temperature in fahrenheit will be 89.6\n"
     ]
    }
   ],
   "source": [
    "#3. write a python program that converts temperature from celsius to fahrenheit. Take the temperature\n",
    "#in celsius as input,store it in a varibale,convert it into fahrenheit,and display the result.\n",
    "celsius=int(input('enter the temperature in celsius:'))\n",
    "fahrenheit=celsius*9/5+32\n",
    "print('temperature in fahrenheit will be',fahrenheit)"
   ]
  },
  {
   "cell_type": "code",
   "execution_count": 7,
   "id": "92729316-d630-4dbd-8ebf-db8845a02c82",
   "metadata": {},
   "outputs": [],
   "source": [
    "#topic: String based questions"
   ]
  },
  {
   "cell_type": "code",
   "execution_count": 8,
   "id": "b13c1028-b251-4626-97f1-6fa8c09ee286",
   "metadata": {},
   "outputs": [
    {
     "name": "stdin",
     "output_type": "stream",
     "text": [
      "enter a string: myyy\n"
     ]
    },
    {
     "name": "stdout",
     "output_type": "stream",
     "text": [
      "length of the string is 4\n"
     ]
    }
   ],
   "source": [
    "#1. write a python progranm that takes a string as input and prints the length of the string.\n",
    "input_string=str(input('enter a string:'))\n",
    "length_of_string=len(input_string)\n",
    "print('length of the string is',length_of_string)"
   ]
  },
  {
   "cell_type": "code",
   "execution_count": 9,
   "id": "c7622f6f-0c5d-4f1c-9b86-63257ddb5bee",
   "metadata": {},
   "outputs": [
    {
     "name": "stdin",
     "output_type": "stream",
     "text": [
      "enter the sentence: aeiou\n"
     ]
    },
    {
     "name": "stdout",
     "output_type": "stream",
     "text": [
      "number of vowels in string is 5\n"
     ]
    }
   ],
   "source": [
    "#2. create a program that takes a sentence from the user and counts the number of vowels (a,e,i,o,u)\n",
    "#in the string.\n",
    "enter_string=input('enter the sentence:')\n",
    "no_space_in_string=enter_string.lower()\n",
    "vowels='aeiou'\n",
    "count=0\n",
    "for i in enter_string:\n",
    "    if i in vowels:\n",
    "        count=count+1\n",
    "print('number of vowels in string is',count)"
   ]
  },
  {
   "cell_type": "code",
   "execution_count": 10,
   "id": "f4f3d279-f9fe-4c93-8ac6-c9cd693dfbf7",
   "metadata": {},
   "outputs": [
    {
     "name": "stdin",
     "output_type": "stream",
     "text": [
      "enter a string: qwert\n"
     ]
    },
    {
     "name": "stdout",
     "output_type": "stream",
     "text": [
      "string in reverse will be: trewq\n"
     ]
    }
   ],
   "source": [
    "#3. Given a string reverse the order of characters using string slicing and print the reversed order\n",
    "#of string\n",
    "give_string=str(input('enter a string:'))\n",
    "reversed_string=give_string[::-1]\n",
    "print('string in reverse will be:',reversed_string)"
   ]
  },
  {
   "cell_type": "code",
   "execution_count": 11,
   "id": "932281fd-ed0b-4ab8-bb2b-4e3977419bf8",
   "metadata": {},
   "outputs": [
    {
     "name": "stdin",
     "output_type": "stream",
     "text": [
      "enter the string: racecar\n"
     ]
    },
    {
     "name": "stdout",
     "output_type": "stream",
     "text": [
      "this string is palindrome\n"
     ]
    }
   ],
   "source": [
    "#4. write a program that takes a string as input and checks if its a palindrome\n",
    "strng1=str(input('enter the string:'))\n",
    "no_space_strng=strng1.replace(' ','')\n",
    "no_cap_strng=no_space_strng.lower()\n",
    "if no_cap_strng==no_cap_strng[::-1]:\n",
    "    print('this string is palindrome')\n",
    "else:\n",
    "    print('this string is not palindrome')\n"
   ]
  },
  {
   "cell_type": "code",
   "execution_count": 12,
   "id": "93607da0-3f46-4633-b5d9-cf5cb1dc70c8",
   "metadata": {},
   "outputs": [
    {
     "name": "stdin",
     "output_type": "stream",
     "text": [
      "enter a string: myname\n"
     ]
    },
    {
     "name": "stdout",
     "output_type": "stream",
     "text": [
      "string without spaces: myname\n"
     ]
    }
   ],
   "source": [
    "#5. create a program that takes a string as input and removes all the spaces from it. Print the \n",
    "#modifies string without spaces\n",
    "take_string=str(input('enter a string:'))\n",
    "no_space_string=take_string.replace(' ','')\n",
    "print('string without spaces:',no_space_string)"
   ]
  }
 ],
 "metadata": {
  "kernelspec": {
   "display_name": "Python 3 (ipykernel)",
   "language": "python",
   "name": "python3"
  },
  "language_info": {
   "codemirror_mode": {
    "name": "ipython",
    "version": 3
   },
   "file_extension": ".py",
   "mimetype": "text/x-python",
   "name": "python",
   "nbconvert_exporter": "python",
   "pygments_lexer": "ipython3",
   "version": "3.10.8"
  }
 },
 "nbformat": 4,
 "nbformat_minor": 5
}
