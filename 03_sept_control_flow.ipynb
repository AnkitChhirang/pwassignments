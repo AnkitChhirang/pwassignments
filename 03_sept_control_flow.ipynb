{
 "cells": [
  {
   "cell_type": "markdown",
   "id": "2c50a7e7-f275-40e1-992d-45a528ac999f",
   "metadata": {},
   "source": [
    "Control Flow Assignment Questions"
   ]
  },
  {
   "cell_type": "code",
   "execution_count": 20,
   "id": "9af59570-deba-4d90-97fd-1655ade500f7",
   "metadata": {},
   "outputs": [
    {
     "name": "stdin",
     "output_type": "stream",
     "text": [
      "enter a number: 3\n"
     ]
    },
    {
     "data": {
      "text/plain": [
       "'positive number'"
      ]
     },
     "execution_count": 20,
     "metadata": {},
     "output_type": "execute_result"
    }
   ],
   "source": [
    "#Basic If-Else Statements:\n",
    "#1. Write a Python program to check if a given number is positive or negative.\n",
    "def nega_num(n):\n",
    "    if n<0:\n",
    "        return 'negative number'\n",
    "    else:\n",
    "        return 'positive number'\n",
    "nega_num(int(input('enter a number:')))"
   ]
  },
  {
   "cell_type": "code",
   "execution_count": 22,
   "id": "09fea463-6981-46ec-a798-10687e890fca",
   "metadata": {},
   "outputs": [
    {
     "name": "stdin",
     "output_type": "stream",
     "text": [
      "enter your age 19\n"
     ]
    },
    {
     "data": {
      "text/plain": [
       "'eligible to vote'"
      ]
     },
     "execution_count": 22,
     "metadata": {},
     "output_type": "execute_result"
    }
   ],
   "source": [
    "#2. Create a program that determines if a person is eligible to vote based on their age.\n",
    "def vote_age(n):\n",
    "    if n<18:\n",
    "        return 'not eligible to vote'\n",
    "    else:\n",
    "        return 'eligible to vote'\n",
    "vote_age(int(input('enter your age')))"
   ]
  },
  {
   "cell_type": "code",
   "execution_count": 1,
   "id": "8eee5f69-82d0-453b-8d89-073908f9045f",
   "metadata": {},
   "outputs": [
    {
     "name": "stdin",
     "output_type": "stream",
     "text": [
      "enter the first number 4\n",
      "enter the second number 2\n"
     ]
    },
    {
     "name": "stdout",
     "output_type": "stream",
     "text": [
      "the maximum number is: 4\n"
     ]
    }
   ],
   "source": [
    "#3. Develop a program to find the maximum of two numbers using if-else statements.\n",
    "def two_num(a,b):\n",
    "    if a<b:\n",
    "        return b\n",
    "    else:\n",
    "        return a\n",
    "num3=int(input('enter the first number'))\n",
    "num3_2=int(input('enter the second number'))\n",
    "maximumnum=two_num(num3,num3_2)\n",
    "print('the maximum number is:',maximumnum)"
   ]
  },
  {
   "cell_type": "code",
   "execution_count": 46,
   "id": "799f7152-a9c5-4d9d-b210-f55eade00d6c",
   "metadata": {},
   "outputs": [
    {
     "name": "stdin",
     "output_type": "stream",
     "text": [
      "enter the year in digit format 2024\n"
     ]
    },
    {
     "name": "stdout",
     "output_type": "stream",
     "text": [
      "entered year is: a leap year\n"
     ]
    }
   ],
   "source": [
    "#4. Write a Python script to classify a given year as a leap year or not.\n",
    "def is_leap(n):\n",
    "    if n%4==0:\n",
    "        return 'a leap year'\n",
    "    else:\n",
    "        return 'not a leap year'\n",
    "year=int(input('enter the year in digit format'))\n",
    "leap_year=is_leap(year)\n",
    "print('entered year is:',leap_year)"
   ]
  },
  {
   "cell_type": "code",
   "execution_count": 2,
   "id": "45061ed5-01e7-4361-b0d4-a8bd141eb1af",
   "metadata": {},
   "outputs": [
    {
     "name": "stdin",
     "output_type": "stream",
     "text": [
      "enter a character f\n"
     ]
    },
    {
     "name": "stdout",
     "output_type": "stream",
     "text": [
      "f , character is consonant\n"
     ]
    }
   ],
   "source": [
    "#5. Create a program that checks whether a character is a vowel or a consonant.\n",
    "def is_vowel(char):\n",
    "    vowel='aeiouAEIOU'\n",
    "    consonant='bcdfghjklmnpqrstvwxyzBCDFGHJKLMNPQRSTVWXYZ'\n",
    "    if char in vowel:\n",
    "            return 'character is vowel'\n",
    "    else:\n",
    "            return 'character is consonant'\n",
    "character=str(input('enter a character'))\n",
    "isvowel=is_vowel(character)\n",
    "print(character,',',isvowel)"
   ]
  },
  {
   "cell_type": "code",
   "execution_count": 29,
   "id": "df6cd96a-4a1b-4648-843c-652eae22ef96",
   "metadata": {},
   "outputs": [
    {
     "name": "stdin",
     "output_type": "stream",
     "text": [
      "enter a number: 2\n"
     ]
    },
    {
     "name": "stdout",
     "output_type": "stream",
     "text": [
      "even number\n"
     ]
    }
   ],
   "source": [
    "#6. Implement a program to determine whether a given number is even or odd.\n",
    "num6=int(input('enter a number:'))\n",
    "if num6%2==0:\n",
    "    print('even number')\n",
    "else:\n",
    "    print('odd number')"
   ]
  },
  {
   "cell_type": "code",
   "execution_count": 38,
   "id": "bea03e5b-968f-4c9c-bdc3-fd790ddc75da",
   "metadata": {},
   "outputs": [
    {
     "name": "stdin",
     "output_type": "stream",
     "text": [
      "enter a number: -2\n"
     ]
    },
    {
     "name": "stdout",
     "output_type": "stream",
     "text": [
      "the absolute value is: 2\n"
     ]
    }
   ],
   "source": [
    "#7. Write a Python function to calculate the absolute value of a number without using the `abs()` function.\n",
    "def abs_value(n):\n",
    "    if n<0:\n",
    "        return -n\n",
    "    else:\n",
    "        return n\n",
    "num7=int(input('enter a number:'))\n",
    "absvalue=abs_value(num7)\n",
    "print('the absolute value is:',absvalue)"
   ]
  },
  {
   "cell_type": "code",
   "execution_count": 1,
   "id": "2e16f225-130e-41ab-9468-e41ce517c92a",
   "metadata": {},
   "outputs": [
    {
     "name": "stdin",
     "output_type": "stream",
     "text": [
      "enter first number: 3\n",
      "enter second number: 4\n",
      "enter third number: 65757\n"
     ]
    },
    {
     "name": "stdout",
     "output_type": "stream",
     "text": [
      "largest number is: 65757\n"
     ]
    }
   ],
   "source": [
    "#8. Develop a program that determines the largest of three given numbers using if-else statements.\n",
    "num8=int(input('enter first number:'))\n",
    "num8_2=int(input('enter second number:'))\n",
    "num8_3=int(input('enter third number:'))\n",
    "if num8>=num8_2 and num8>=num8_3:\n",
    "    print('largest number is:',num8)\n",
    "elif num8_2>=num8 and num8_2>=num8_3:\n",
    "    print('largest number is:',num8_2)\n",
    "else:\n",
    "    print('largest number is:',num8_3)"
   ]
  },
  {
   "cell_type": "code",
   "execution_count": 8,
   "id": "e46bdfa9-d2cb-4921-ae16-92ddb2624fc1",
   "metadata": {},
   "outputs": [
    {
     "name": "stdin",
     "output_type": "stream",
     "text": [
      "enter a string raceacar\n"
     ]
    },
    {
     "name": "stdout",
     "output_type": "stream",
     "text": [
      "no, this string is not palindrome\n"
     ]
    }
   ],
   "source": [
    "#9. Create a program that checks if a given string is a palindrome.\n",
    "string9=str(input('enter a string'))\n",
    "if string9.lower()==string9.lower()[::-1]:\n",
    "    print('yes, this string is palindrome')\n",
    "else:\n",
    "    print('no, this string is not palindrome')\n",
    "        "
   ]
  },
  {
   "cell_type": "code",
   "execution_count": 66,
   "id": "ab3014d4-825a-4fa6-bab2-d450362cb063",
   "metadata": {},
   "outputs": [
    {
     "name": "stdin",
     "output_type": "stream",
     "text": [
      "enter your score 1-100: 1\n"
     ]
    },
    {
     "name": "stdout",
     "output_type": "stream",
     "text": [
      "Fail\n"
     ]
    }
   ],
   "source": [
    "#10. Write a Python program to calculate the grade based on a student's score.\n",
    "grade10=int(input('enter your score 1-100:'))\n",
    "if grade10>=90:\n",
    "    print('your grade is A+')\n",
    "elif grade10>=85:\n",
    "    print('your grade is A')\n",
    "elif grade10>=75:\n",
    "    print('your grade is B')\n",
    "elif grade10>=65:\n",
    "    print('your grade is C')\n",
    "elif grade10>=55:\n",
    "    print('your grade is D')\n",
    "elif grade10>=45:\n",
    "    print('your grade is F')\n",
    "else:\n",
    "    print('Fail')"
   ]
  },
  {
   "cell_type": "markdown",
   "id": "46147f47-fa19-4a7d-8767-ed585afcafde",
   "metadata": {},
   "source": [
    "Nested If-Else Statements:"
   ]
  },
  {
   "cell_type": "code",
   "execution_count": 17,
   "id": "c33e9b9e-d8aa-47e2-8637-2225b32d2ef1",
   "metadata": {},
   "outputs": [
    {
     "name": "stdin",
     "output_type": "stream",
     "text": [
      "enter first number: 5\n",
      "enter second number: 4\n",
      "enter third number: 6\n"
     ]
    },
    {
     "name": "stdout",
     "output_type": "stream",
     "text": [
      "largest number is: 6\n"
     ]
    }
   ],
   "source": [
    "#11. Write a program to find the largest among three numbers using nested if-else statements.\n",
    "num11=int(input('enter first number:'))\n",
    "num11_2=int(input('enter second number:'))\n",
    "num11_3=int(input('enter third number:'))\n",
    "if num11>=num11_2 and num11>=num11_3:\n",
    "    print('largest number is:',num11)\n",
    "    if num11_2>num11 and num11_2>=num11_3:\n",
    "         print('largest number is:',num11_2)\n",
    "else:\n",
    "     print('largest number is:',num11_3)"
   ]
  },
  {
   "cell_type": "code",
   "execution_count": 11,
   "id": "8158fb0d-fba9-456d-85ca-7d64c84d40e2",
   "metadata": {},
   "outputs": [
    {
     "name": "stdin",
     "output_type": "stream",
     "text": [
      "enter first side: 2\n",
      "enter second side: 2\n",
      "enter third side: 3\n"
     ]
    },
    {
     "name": "stdout",
     "output_type": "stream",
     "text": [
      "isosceles triangel\n"
     ]
    }
   ],
   "source": [
    "#12. Implement a program to determine if a triangle is equilateral, isosceles, or scalene.\n",
    "side1=int(input('enter first side:'))\n",
    "side2=int(input('enter second side:'))\n",
    "side3=int(input('enter third side:'))\n",
    "if side1==side2==side3:\n",
    "    print('equilaterial triangel')\n",
    "else:\n",
    "    if side1==side2 or side1==side3 or side2==side3:\n",
    "        print('isosceles triangel')\n",
    "    else:\n",
    "        print('scalene triangle')"
   ]
  },
  {
   "cell_type": "code",
   "execution_count": 13,
   "id": "9413defe-f97a-4eb1-a84c-a96d46c84655",
   "metadata": {},
   "outputs": [
    {
     "name": "stdin",
     "output_type": "stream",
     "text": [
      "enter year in digit: 2023\n"
     ]
    },
    {
     "name": "stdout",
     "output_type": "stream",
     "text": [
      "2023 is not leap year.\n",
      "2023 is not a century year.\n"
     ]
    }
   ],
   "source": [
    "#13. Develop a program that checks if a year is a leap year and also if it is a century year.\n",
    "year13=int(input('enter year in digit:'))\n",
    "if year13%2==0:\n",
    "    if year13%100==0:\n",
    "        if year13%400==0:\n",
    "            print(year13,'is a leap year.')\n",
    "        else:\n",
    "             print(year13,'is not leap year.')\n",
    "    else:\n",
    "        print(year13,'is a leap year.')\n",
    "else:\n",
    "    print(year13,'is not leap year.')\n",
    "    \n",
    "if year13%100==0:\n",
    "    print(year13,'is a century year.')\n",
    "else:\n",
    "    print(year13,'is not a century year.')"
   ]
  },
  {
   "cell_type": "code",
   "execution_count": 29,
   "id": "70701738-af7f-4109-bed0-b3b7d4b399ee",
   "metadata": {},
   "outputs": [
    {
     "name": "stdin",
     "output_type": "stream",
     "text": [
      "enter a number: 2\n"
     ]
    },
    {
     "name": "stdout",
     "output_type": "stream",
     "text": [
      "number is positive\n"
     ]
    }
   ],
   "source": [
    "#14. Write a Python script to determine if a number is positive, negative, or zero.\n",
    "num14=int(input('enter a number:'))\n",
    "if num14>0:\n",
    "     print('number is positive')\n",
    "else:\n",
    "    if num14==0:\n",
    "        print('number is zero')\n",
    "    else:\n",
    "        print('negative number')"
   ]
  },
  {
   "cell_type": "code",
   "execution_count": 39,
   "id": "644984f1-da9e-4a71-96d7-620398644e47",
   "metadata": {},
   "outputs": [
    {
     "name": "stdin",
     "output_type": "stream",
     "text": [
      "enter a number: 13\n"
     ]
    },
    {
     "name": "stdout",
     "output_type": "stream",
     "text": [
      "yes, a teenager\n"
     ]
    }
   ],
   "source": [
    "#15. Create a program to check if a person is a teenager (between 13 and 19 years old).\n",
    "age15=int(input('enter a number:'))\n",
    "if age15>=13 and age15<=19:\n",
    "    print('yes, a teenager')\n",
    "else:\n",
    "    if age15>=20:\n",
    "            print('no, not a teenager')"
   ]
  },
  {
   "cell_type": "code",
   "execution_count": 52,
   "id": "bd572a6d-d1c4-4103-8392-62e53da8276c",
   "metadata": {},
   "outputs": [
    {
     "name": "stdin",
     "output_type": "stream",
     "text": [
      "enter a number: 2\n"
     ]
    },
    {
     "name": "stdout",
     "output_type": "stream",
     "text": [
      "acute angle\n"
     ]
    }
   ],
   "source": [
    "#16. Develop a program that determines the type of angle based on its measure (acute, obtuse, or right).\n",
    "angle16=int(input('enter a number:'))\n",
    "if angle16==90:\n",
    "    print('right angle')\n",
    "if angle16<90:\n",
    "    print('acute angle')\n",
    "if angle16>90 and angle16<180:\n",
    "    print('obtuse angle')\n",
    "else:\n",
    "    if angle16==0 or angle16>=180:\n",
    "        print('not acute,right or obtuse')"
   ]
  },
  {
   "cell_type": "code",
   "execution_count": 67,
   "id": "dbce5904-cb01-4d1f-88cc-5c10304f208e",
   "metadata": {},
   "outputs": [
    {
     "name": "stdin",
     "output_type": "stream",
     "text": [
      "enter first side: 1\n",
      "enter second side: -3\n",
      "enter third side: 2\n"
     ]
    },
    {
     "name": "stdout",
     "output_type": "stream",
     "text": [
      "2 real roots:\n",
      "root 1: 2.0\n",
      "root 2: 1.0\n"
     ]
    }
   ],
   "source": [
    "#17. Write a Python program to calculate the roots of a quadratic equation.\n",
    "import math\n",
    "qua17=int(input('enter first coefficient:'))\n",
    "qua17_2=int(input('enter second coefficient:'))\n",
    "qua17_3=int(input('enter third coefficient:'))\n",
    "discriminant=qua17_2**2-4*qua17*qua17_3\n",
    "if discriminant>0:\n",
    "    root1=(-qua17_2+math.sqrt(discriminant))/(2*qua17)\n",
    "    root2=(-qua17_2-math.sqrt(discriminant))/(2*qua17)\n",
    "    print('2 real roots:')\n",
    "    print('root 1:',root1)\n",
    "    print('root 2:',root2)\n",
    "else:\n",
    "    if discriminant==0:\n",
    "        root1=-qua17_2/(2*a)\n",
    "        print('one real root:')\n",
    "        print('root:',root1)\n",
    "    else:\n",
    "        real_sec=-qua17_2/(2*qua17)\n",
    "        root1=-qua17_2/(2*qua17)\n",
    "        specu_sec=math.sqrt(abs(discriminant))/(2*qua17)\n",
    "        print('complex roots:')\n",
    "        print('root 1:',real_sec,'+',specu_sec,'i')\n",
    "        print('root 2:',real_sec,'-',specu_sec,'i')"
   ]
  },
  {
   "cell_type": "code",
   "execution_count": 77,
   "id": "e02f647f-01b2-4d94-9b5a-700924c5c28d",
   "metadata": {},
   "outputs": [
    {
     "name": "stdin",
     "output_type": "stream",
     "text": [
      "enter the number of day of week 0-7: 1\n"
     ]
    },
    {
     "name": "stdout",
     "output_type": "stream",
     "text": [
      "monday\n"
     ]
    }
   ],
   "source": [
    "#18. Implement a program to determine the day of the week based on a user-provided number (1 for Monday, 2\n",
    "#for Tuesday, etc.).\n",
    "daydigit=int(input('enter the number of day of week 0-7:'))\n",
    "if daydigit==1:\n",
    "    print('monday')\n",
    "if daydigit==2:\n",
    "    print('tuesday')\n",
    "if daydigit==3:\n",
    "    print('wednesday')\n",
    "if daydigit==4:\n",
    "    print('thursday')\n",
    "if daydigit==5:\n",
    "    print('friday')\n",
    "if daydigit==6:\n",
    "    print('saturday')\n",
    "else:\n",
    "    if daydigit==7:\n",
    "        print('sunday')"
   ]
  },
  {
   "cell_type": "code",
   "execution_count": 48,
   "id": "b9ee8b41-a6d6-4967-9a07-ddafa435cf3b",
   "metadata": {},
   "outputs": [
    {
     "name": "stdin",
     "output_type": "stream",
     "text": [
      "enter year in digit: 2400\n"
     ]
    },
    {
     "name": "stdout",
     "output_type": "stream",
     "text": [
      "2400 is a leap year and evenly divisible by 400.\n"
     ]
    }
   ],
   "source": [
    "#19. Create a program that determines if a year is a leap year and also if it is evenly divisible by 400.\n",
    "year19=int(input('enter year in digit:'))\n",
    "if year19%4==0:\n",
    "    if year19%100==0:\n",
    "        if year19%400==0:\n",
    "            print(year19,'is a leap year and evenly divisible by 400.')\n",
    "        else:\n",
    "            print(year19,'is not a leap year')\n",
    "    else:\n",
    "        print(year19,'is a leap year')\n",
    "else:\n",
    "    print(year19,'is not leap year')"
   ]
  },
  {
   "cell_type": "code",
   "execution_count": 11,
   "id": "4dc01d0e-4d78-499b-abad-650828bdce20",
   "metadata": {},
   "outputs": [
    {
     "name": "stdin",
     "output_type": "stream",
     "text": [
      "enter digit: 22\n"
     ]
    },
    {
     "name": "stdout",
     "output_type": "stream",
     "text": [
      "22 is not a prime number.\n"
     ]
    }
   ],
   "source": [
    "#20. Develop a program that checks if a given number is prime or not using nested if-else statements.\n",
    "num20=int(input('enter digit:'))\n",
    "if num20<2:\n",
    "    print(num20,'is not a prime number.')\n",
    "else:\n",
    "    prime20=True\n",
    "    for i in range(2,int(num20**0.5)+1):\n",
    "        if num20%1==0:\n",
    "            prime20=False\n",
    "            break\n",
    "    \n",
    "    if prime20:\n",
    "        print(num20,'is a prime number.')\n",
    "    else:\n",
    "        print(num20,'is not a prime number.')"
   ]
  },
  {
   "cell_type": "markdown",
   "id": "4b529be0-77b8-4256-90d9-86d725e4958d",
   "metadata": {},
   "source": [
    "Elif Statements:"
   ]
  },
  {
   "cell_type": "code",
   "execution_count": 67,
   "id": "a9477ad0-c9ba-40b4-b555-f59f0640523b",
   "metadata": {},
   "outputs": [
    {
     "name": "stdin",
     "output_type": "stream",
     "text": [
      "enter your score 1-100: 66\n"
     ]
    },
    {
     "name": "stdout",
     "output_type": "stream",
     "text": [
      "your grade is C\n"
     ]
    }
   ],
   "source": [
    "#21. Write a Python program to assign grades based on different ranges of scores using elif statements.\n",
    "grade21=int(input('enter your score 1-100:'))\n",
    "if grade21>=90:\n",
    "    print('your grade is A+')\n",
    "elif grade21>=85:\n",
    "    print('your grade is A')\n",
    "elif grade21>=75:\n",
    "    print('your grade is B')\n",
    "elif grade21>=65:\n",
    "    print('your grade is C')\n",
    "elif grade21>=55:\n",
    "    print('your grade is D')\n",
    "elif grade21>=45:\n",
    "    print('your grade is F')\n",
    "else:\n",
    "    print('Fail')"
   ]
  },
  {
   "cell_type": "code",
   "execution_count": 80,
   "id": "8d8f1c75-76e4-4047-a6c9-5730c8ee8b3f",
   "metadata": {},
   "outputs": [
    {
     "name": "stdin",
     "output_type": "stream",
     "text": [
      "enter first angle: 45\n",
      "enter second angle: 45\n",
      "enter third angle: 90\n"
     ]
    },
    {
     "name": "stdout",
     "output_type": "stream",
     "text": [
      "isosceles triangle\n"
     ]
    }
   ],
   "source": [
    "#22. Implement a program to determine the type of a triangle based on its angles.\n",
    "angle22=int(input('enter first angle:'))\n",
    "angle22_2=int(input('enter second angle:'))\n",
    "angle22_3=int(input('enter third angle:'))\n",
    "if angle22+angle22_2+angle22_3==180:\n",
    "    if angle22==angle22_2==angle22_3:\n",
    "        print('equilateral triangle')\n",
    "    elif angle22==angle22_2 or angle22==angle22_3 or angle22_2==angle22_3:\n",
    "        print('isosceles triangle')\n",
    "    else:\n",
    "        print('scalene triangle')\n",
    "else:\n",
    "        print('not a triangle.')"
   ]
  },
  {
   "cell_type": "code",
   "execution_count": 11,
   "id": "27542b64-3992-4629-a846-008e6939c328",
   "metadata": {},
   "outputs": [
    {
     "name": "stdin",
     "output_type": "stream",
     "text": [
      "enter your weight in kilograms: 80\n",
      "enter your height in meters: 2\n"
     ]
    },
    {
     "name": "stdout",
     "output_type": "stream",
     "text": [
      "you are normal weight category.\n"
     ]
    }
   ],
   "source": [
    "#23. Develop a program to categorize a given person's BMI into underweight, normal, overweight, or obese using\n",
    "#elif statements.\n",
    "weight=float(input('enter your weight in kilograms:'))\n",
    "height=float(input('enter your height in meters:'))\n",
    "bmi=weight/(height**2)\n",
    "if bmi<18.5:\n",
    "    category='underweight'\n",
    "elif 18.5<=bmi<24.9:\n",
    "    category='normal weight'\n",
    "elif 25.0<=bmi<29.9:\n",
    "    category='overweight'\n",
    "else:\n",
    "    category='obese'\n",
    "print('you are',category,'category.')"
   ]
  },
  {
   "cell_type": "code",
   "execution_count": 106,
   "id": "29215a41-7ad8-4a32-82e0-35c0d2d29d6f",
   "metadata": {},
   "outputs": [
    {
     "name": "stdin",
     "output_type": "stream",
     "text": [
      "enter a number: 3\n"
     ]
    },
    {
     "name": "stdout",
     "output_type": "stream",
     "text": [
      "number is positive\n"
     ]
    }
   ],
   "source": [
    "#24. Create a program that determines whether a given number is positive, negative, or zero using elif\n",
    "#statements.\n",
    "num24=int(input('enter a number:'))\n",
    "if num24>0:\n",
    "     print('number is positive')\n",
    "elif num24==0:\n",
    "        print('number is zero')\n",
    "else:\n",
    "    print('negative number')"
   ]
  },
  {
   "cell_type": "code",
   "execution_count": 124,
   "id": "d614d590-8233-4e6a-a191-7cd8f4e67478",
   "metadata": {},
   "outputs": [
    {
     "name": "stdin",
     "output_type": "stream",
     "text": [
      "enter a character @!\n"
     ]
    },
    {
     "name": "stdout",
     "output_type": "stream",
     "text": [
      "@! is special\n"
     ]
    }
   ],
   "source": [
    "#25. Write a Python script to determine the type of a character (uppercase, lowercase, or special) using elif\n",
    "#statements.\n",
    "strng25=(input('enter a character'))\n",
    "if strng25.isupper():\n",
    "    print(strng25,'is uppercase')\n",
    "elif strng25.islower():\n",
    "    print(strng25,'is lowercase')\n",
    "else:\n",
    "    print(strng25,'is special')"
   ]
  },
  {
   "cell_type": "code",
   "execution_count": 134,
   "id": "12ce94f7-ee2c-4c88-a21b-59a50233f572",
   "metadata": {},
   "outputs": [
    {
     "name": "stdin",
     "output_type": "stream",
     "text": [
      "enter the payment amount. 7450\n"
     ]
    },
    {
     "name": "stdout",
     "output_type": "stream",
     "text": [
      "recieved a 10.0% discount.\n",
      "discounted price is:Rs6705.00\n"
     ]
    }
   ],
   "source": [
    "#26. Implement a program to calculate the discounted price based on different purchase amounts using elif\n",
    "#statements.\n",
    "pay_amount=float(input('enter the payment amount.'))\n",
    "discounted=0\n",
    "if pay_amount>=7450:\n",
    "    discounted=0.1\n",
    "elif pay_amount>=3725:\n",
    "    discounted=0.05\n",
    "discounted_pay=pay_amount*(1-discounted)\n",
    "if discounted>0:\n",
    "    print(f\"recieved a {discounted*100}% discount.\")\n",
    "    print(f\"discounted price is:Rs{discounted_pay:.2f}\")\n",
    "else:\n",
    "    print(f\"no discount applicable. your total:Rs{pay_amount:.2f}\")"
   ]
  },
  {
   "cell_type": "code",
   "execution_count": 138,
   "id": "911e9944-c5d3-4391-a69a-db2ec7f10422",
   "metadata": {},
   "outputs": [
    {
     "name": "stdin",
     "output_type": "stream",
     "text": [
      "Total units: 100\n"
     ]
    },
    {
     "name": "stdout",
     "output_type": "stream",
     "text": [
      "Total electricity bill is:Rs1200.00\n"
     ]
    }
   ],
   "source": [
    "#27. Develop a program to calculate the electricity bill based on different consumption slabs using elif\n",
    "#statements.\n",
    "unit=int(input('Total units:'))\n",
    "electricity_bill=0\n",
    "electricity_rate=0\n",
    "if unit<=49:\n",
    "         electricity_rate=10.00\n",
    "         electricity_bill=unit*electricity_rate\n",
    "elif unit<=149:\n",
    "         electricity_rate=12.00\n",
    "         electricity_bill=unit*electricity_rate\n",
    "elif unit<=249:\n",
    "         electricity_rate=14.\n",
    "         electricity_bill=unit*electricity_rate\n",
    "else:\n",
    "    electricity_rate=16.00\n",
    "    electricity_bill=unit*electricity_rate\n",
    "print(f\"Total electricity bill is:Rs{electricity_bill:.2f}\")"
   ]
  },
  {
   "cell_type": "code",
   "execution_count": 2,
   "id": "2ea68200-a8f9-4d22-a897-c10c18f1a851",
   "metadata": {},
   "outputs": [
    {
     "name": "stdin",
     "output_type": "stream",
     "text": [
      "enter the angle1: 45\n",
      "enter the angle2: 45\n",
      "enter the angle3: 90\n",
      "enter the angle4: 90\n",
      "enter the side1: 56\n",
      "enter the side2: 67\n",
      "enter the side3: 45\n",
      "enter the side4: 34\n"
     ]
    },
    {
     "name": "stdout",
     "output_type": "stream",
     "text": [
      "general quadilateral\n"
     ]
    }
   ],
   "source": [
    "#28. Create a program to determine the type of quadrilateral based on its angles and sides using elif\n",
    "#statements.\n",
    "angle1=float(input('enter the angle1:'))\n",
    "angle2=float(input('enter the angle2:'))\n",
    "angle3=float(input('enter the angle3:'))\n",
    "angle4=float(input('enter the angle4:'))\n",
    "\n",
    "side1=float(input('enter the side1:'))\n",
    "side2=float(input('enter the side2:'))\n",
    "side3=float(input('enter the side3:'))\n",
    "side4=float(input('enter the side4:'))\n",
    "if angle1==angle2==angle3==angle4==90:\n",
    "    if side1==side2==side3==side4:\n",
    "        print('square')\n",
    "    elif side1==side2 and side3==side4:\n",
    "        print('rectangle')\n",
    "    else:\n",
    "        print('quadilateral with right angle not square or rectangle')\n",
    "elif side1==side2 and side3==side4:\n",
    "    print('parallelogram')\n",
    "elif side1==side2 or side2==side3 or side3==side4:\n",
    "    print('trapezoid')\n",
    "else:\n",
    "    print('general quadilateral')"
   ]
  },
  {
   "cell_type": "code",
   "execution_count": 22,
   "id": "adf9afab-9a6b-497a-bec2-ce68cb9b049d",
   "metadata": {},
   "outputs": [
    {
     "name": "stdin",
     "output_type": "stream",
     "text": [
      "enter month name: december\n"
     ]
    },
    {
     "name": "stdout",
     "output_type": "stream",
     "text": [
      "winter\n"
     ]
    }
   ],
   "source": [
    "#29. Write a Python script to determine the season based on a user-provided month using elif statements.\n",
    "month=input('enter month name:').lower()\n",
    "if month in['december','january','february']:\n",
    "    print('winter')\n",
    "elif month in['march','april','may',]:\n",
    "    print('spring')\n",
    "elif month in['june','july','august']:\n",
    "    print('summer')\n",
    "elif month in['september','october','november']:\n",
    "    print('autumn')\n",
    "else:\n",
    "    print('invalid input')"
   ]
  },
  {
   "cell_type": "code",
   "execution_count": 27,
   "id": "95b65918-52fc-4b07-a47c-c51e7a6ce565",
   "metadata": {},
   "outputs": [
    {
     "name": "stdin",
     "output_type": "stream",
     "text": [
      "enter a year: 2023\n",
      "enter a month: october\n"
     ]
    },
    {
     "name": "stdout",
     "output_type": "stream",
     "text": [
      "2023 is a common year.\n",
      "October has 31 days.\n"
     ]
    }
   ],
   "source": [
    "#30. Implement a program to determine the type of a year (leap or common) and month (30 or 31 days) using\n",
    "#elif statements.\n",
    "year30=int(input('enter a year:'))\n",
    "month30=input('enter a month:').lower()\n",
    "if(year30%4==0 and year30%100!=0) or (year30%400==0):\n",
    "    year_type='leap year'\n",
    "else:\n",
    "    year_type='common year'\n",
    "if month30 in['january','march','may','july','august','october','december']:\n",
    "    days=31\n",
    "elif month30 in['february','april','june','september','november']:\n",
    "    days=30\n",
    "elif month30=='february':\n",
    "    if year_type=='leap year':\n",
    "        days=29\n",
    "    else:\n",
    "        days:28\n",
    "else:\n",
    "    days='invalid input'\n",
    "print(f\"{year30} is a {year_type}.\")\n",
    "if days=='invalid month':\n",
    "    print('invalid month input')\n",
    "else:print(f\"{month30.capitalize()} has {days} days.\")\n",
    "    "
   ]
  },
  {
   "cell_type": "markdown",
   "id": "952c2cc2-c5d0-41b3-bba5-874213a11345",
   "metadata": {},
   "source": [
    "Basic Level:"
   ]
  },
  {
   "cell_type": "code",
   "execution_count": 2,
   "id": "6d1a9d27-8a97-4e04-a634-0b2ccbe28b4e",
   "metadata": {},
   "outputs": [
    {
     "name": "stdin",
     "output_type": "stream",
     "text": [
      "enter a number: 22\n"
     ]
    },
    {
     "data": {
      "text/plain": [
       "'positive number'"
      ]
     },
     "execution_count": 2,
     "metadata": {},
     "output_type": "execute_result"
    }
   ],
   "source": [
    "#1. Write a Python program that checks if a given number is positive, negative, or zero.\n",
    "def nega_num(n):\n",
    "    if n<0:\n",
    "        return 'negative number'\n",
    "    else:\n",
    "        return 'positive number'\n",
    "nega_num(int(input('enter a number:')))"
   ]
  },
  {
   "cell_type": "code",
   "execution_count": 3,
   "id": "7dd25986-f888-4ce1-a5ae-cf4dabb6b077",
   "metadata": {},
   "outputs": [
    {
     "name": "stdin",
     "output_type": "stream",
     "text": [
      "enter your age 22\n"
     ]
    },
    {
     "data": {
      "text/plain": [
       "'eligible to vote'"
      ]
     },
     "execution_count": 3,
     "metadata": {},
     "output_type": "execute_result"
    }
   ],
   "source": [
    "#2. Create a program that determines if a person is eligible to vote based on their age.\n",
    "def vote_age(n):\n",
    "    if n<18:\n",
    "        return 'not eligible to vote'\n",
    "    else:\n",
    "        return 'eligible to vote'\n",
    "vote_age(int(input('enter your age')))"
   ]
  },
  {
   "cell_type": "code",
   "execution_count": 21,
   "id": "0e163167-9610-463a-b6f9-15fb1399a54a",
   "metadata": {},
   "outputs": [
    {
     "name": "stdin",
     "output_type": "stream",
     "text": [
      "enter the first number 2\n",
      "enter the second number 22\n"
     ]
    },
    {
     "name": "stdout",
     "output_type": "stream",
     "text": [
      "the maximum number is: 22\n"
     ]
    }
   ],
   "source": [
    "#3. Write a program to find the maximum of two given numbers using conditional statements.\n",
    "def two_num(a,b):\n",
    "    if a<b:\n",
    "        return b\n",
    "    else:\n",
    "        return a\n",
    "num3=int(input('enter the first number'))\n",
    "num3_2=int(input('enter the second number'))\n",
    "maximumnum1=two_num(num3,num3_2)\n",
    "print('the maximum number is:',maximumnum1)"
   ]
  },
  {
   "cell_type": "code",
   "execution_count": 5,
   "id": "6cf3586a-d011-4f06-bf62-938a7ffe54a6",
   "metadata": {},
   "outputs": [
    {
     "name": "stdin",
     "output_type": "stream",
     "text": [
      "enter your score 1-100: 55\n"
     ]
    },
    {
     "name": "stdout",
     "output_type": "stream",
     "text": [
      "your grade is D\n"
     ]
    }
   ],
   "source": [
    "#4. Develop a program that calculates the grade of a student based on their exam score.\n",
    "grade4=int(input('enter your score 1-100:'))\n",
    "if grade4>=90:\n",
    "    print('your grade is A+')\n",
    "elif grade4>=85:\n",
    "    print('your grade is A')\n",
    "elif grade4>=75:\n",
    "    print('your grade is B')\n",
    "elif grade4>=65:\n",
    "    print('your grade is C')\n",
    "elif grade4>=55:\n",
    "    print('your grade is D')\n",
    "elif grade4>=45:\n",
    "    print('your grade is F')\n",
    "else:\n",
    "    print('Fail')"
   ]
  },
  {
   "cell_type": "code",
   "execution_count": 7,
   "id": "dad609ea-e200-4b5f-82c0-528fdb1e0cfc",
   "metadata": {},
   "outputs": [
    {
     "name": "stdin",
     "output_type": "stream",
     "text": [
      "enter the year in digit format 2023\n"
     ]
    },
    {
     "name": "stdout",
     "output_type": "stream",
     "text": [
      "entered year is not a leap year\n"
     ]
    }
   ],
   "source": [
    "#5. Create a program that checks if a year is a leap year or not.\n",
    "def is_leap(n):\n",
    "    if n%4==0:\n",
    "        return 'a leap year'\n",
    "    else:\n",
    "        return 'not a leap year'\n",
    "year=int(input('enter the year in digit format'))\n",
    "leap_year=is_leap(year)\n",
    "print('entered year is',leap_year)"
   ]
  },
  {
   "cell_type": "code",
   "execution_count": 8,
   "id": "8497b5db-af90-4950-93ea-3f1a468de6de",
   "metadata": {},
   "outputs": [
    {
     "name": "stdin",
     "output_type": "stream",
     "text": [
      "enter first side: 4\n",
      "enter second side: 5\n",
      "enter third side: 5\n"
     ]
    },
    {
     "name": "stdout",
     "output_type": "stream",
     "text": [
      "isosceles triangel\n"
     ]
    }
   ],
   "source": [
    "#6. Write a program to classify a triangle based on its sides' lengths.\n",
    "side6_1=int(input('enter first side:'))\n",
    "side6_2=int(input('enter second side:'))\n",
    "side6_3=int(input('enter third side:'))\n",
    "if side6_1==side6_2==side6_3:\n",
    "    print('equilaterial triangel')\n",
    "else:\n",
    "    if side6_1==side6_2 or side6_1==side6_3 or side6_2==side6_3:\n",
    "        print('isosceles triangel')\n",
    "    else:\n",
    "        print('scalene triangle')"
   ]
  },
  {
   "cell_type": "code",
   "execution_count": 15,
   "id": "826a8951-5974-4d4d-bca2-f780ebd85448",
   "metadata": {},
   "outputs": [
    {
     "name": "stdin",
     "output_type": "stream",
     "text": [
      "enter first number: 2\n",
      "enter second number: 3\n",
      "enter third number: 4\n"
     ]
    },
    {
     "name": "stdout",
     "output_type": "stream",
     "text": [
      "largest number is: 4\n"
     ]
    }
   ],
   "source": [
    "#7. Build a program that determines the largest of three given numbers.\n",
    "num7_1=int(input('enter first number:'))\n",
    "num7_2=int(input('enter second number:'))\n",
    "num7_3=int(input('enter third number:'))\n",
    "if num7_1>=num7_2 and num7_1>=num7_3:\n",
    "    print('largest number is:',num7_1)\n",
    "    if num7_2>num7_1 and num7_2>=num7_3:\n",
    "         print('largest number is:',num7_2)\n",
    "else:\n",
    "     print('largest number is:',num7_3)"
   ]
  },
  {
   "cell_type": "code",
   "execution_count": 13,
   "id": "ba1a77f0-3898-4550-8f1a-bd4888cb9890",
   "metadata": {},
   "outputs": [
    {
     "name": "stdin",
     "output_type": "stream",
     "text": [
      "enter a character w\n"
     ]
    },
    {
     "name": "stdout",
     "output_type": "stream",
     "text": [
      "w , character is consonant\n"
     ]
    }
   ],
   "source": [
    "#8. Develop a program that checks whether a character is a vowel or a consonant.\n",
    "def is_vowel1(char):\n",
    "    vowel1='aeiouAEIOU'\n",
    "    consonant1='bcdfghjklmnpqrstvwxyzBCDFGHJKLMNPQRSTVWXYZ'\n",
    "    if char in vowel1:\n",
    "            return 'character is vowel'\n",
    "    else:\n",
    "            return 'character is consonant'\n",
    "character1=str(input('enter a character'))\n",
    "isvowel1=is_vowel1(character1)\n",
    "print(character1,',',isvowel1)"
   ]
  },
  {
   "cell_type": "code",
   "execution_count": 19,
   "id": "4dd17046-1310-44e1-9a82-16aa18f567b7",
   "metadata": {},
   "outputs": [
    {
     "name": "stdin",
     "output_type": "stream",
     "text": [
      "enter the payment amount. 12223\n"
     ]
    },
    {
     "name": "stdout",
     "output_type": "stream",
     "text": [
      "recieved a 10.0% discount.\n",
      "discounted price is:Rs11000.70\n"
     ]
    }
   ],
   "source": [
    "#9. Create a program to calculate the total cost of a shopping cart based on discounts.\n",
    "pay_amount1=float(input('enter the payment amount.'))\n",
    "discounted1=0\n",
    "if pay_amount1>=7450:\n",
    "    discounted1=0.1\n",
    "elif pay_amount1>=3725:\n",
    "    discounted1=0.05\n",
    "discounted_pay1=pay_amount1*(1-discounted1)\n",
    "if discounted1>0:\n",
    "    print(f\"recieved a {discounted1*100}% discount.\")\n",
    "    print(f\"discounted price is:Rs{discounted_pay1:.2f}\")\n",
    "else:\n",
    "    print(f\"no discount applicable. your total:Rs{pay_amount1:.2f}\")"
   ]
  },
  {
   "cell_type": "code",
   "execution_count": 25,
   "id": "f159cad5-f7be-4c4a-a4c7-fad097e39492",
   "metadata": {},
   "outputs": [
    {
     "name": "stdin",
     "output_type": "stream",
     "text": [
      "enter a number: 2\n"
     ]
    },
    {
     "name": "stdout",
     "output_type": "stream",
     "text": [
      "even number\n"
     ]
    }
   ],
   "source": [
    "#10. Write a program that checks if a given number is even or odd.\n",
    "num10odd=int(input('enter a number:'))\n",
    "if num10odd%2==0:\n",
    "    print('even number')\n",
    "else:\n",
    "    print('odd number')"
   ]
  },
  {
   "cell_type": "markdown",
   "id": "f5fe0793-78eb-4e49-be2c-01e9de518c18",
   "metadata": {},
   "source": [
    "Intermediate Level:"
   ]
  },
  {
   "cell_type": "code",
   "execution_count": 8,
   "id": "1e0c7fca-b1fa-4bd0-88a5-9f5b67a4683d",
   "metadata": {},
   "outputs": [
    {
     "name": "stdin",
     "output_type": "stream",
     "text": [
      "enter first coefficient: 1\n",
      "enter second coefficient: -3\n",
      "enter third coefficient: 2\n"
     ]
    },
    {
     "name": "stdout",
     "output_type": "stream",
     "text": [
      "root1: 2.0\n",
      "root2: 1.0\n"
     ]
    }
   ],
   "source": [
    "# 11. Write a program that calculates the roots of a quadratic equation .\n",
    "import math\n",
    "a=int(input('enter first coefficient:'))\n",
    "b=int(input('enter second coefficient:'))\n",
    "c=int(input('enter third coefficient:'))\n",
    "discriminant1=b**2-4*a*c\n",
    "if discriminant1>0:\n",
    "    root1=(-b+math.sqrt(discriminant1))/(2*a)\n",
    "    root2=(-b-math.sqrt(discriminant1))/(2*a)\n",
    "    print('root1:',root1)\n",
    "    print('root2:',root2)\n",
    "elif discriminant1==0:\n",
    "    root=-b/(2*a)\n",
    "    print('root:',root)\n",
    "else:\n",
    "    realpart=-b/(2*a)\n",
    "    imaginarypart=math.sqrt(-discriminant1)/(2*a)\n",
    "    print('root1:',complex(realpart, imaginarypart))\n",
    "    print('root2:',complex(realpart,-imaginarypart))"
   ]
  },
  {
   "cell_type": "code",
   "execution_count": 2,
   "id": "806f6a4f-672f-42cc-9c4b-af194b78b413",
   "metadata": {},
   "outputs": [
    {
     "name": "stdin",
     "output_type": "stream",
     "text": [
      "enter the number of day of week 0-7: 3\n"
     ]
    },
    {
     "name": "stdout",
     "output_type": "stream",
     "text": [
      "wednesday\n"
     ]
    }
   ],
   "source": [
    "#12. Create a program that determines the day of the week based on the day number (1-7).\n",
    "daynum=int(input('enter the number of day of week 0-7:'))\n",
    "if daynum==1:\n",
    "    print('monday')\n",
    "if daynum==2:\n",
    "    print('tuesday')\n",
    "if daynum==3:\n",
    "    print('wednesday')\n",
    "if daynum==4:\n",
    "    print('thursday')\n",
    "if daynum==5:\n",
    "    print('friday')\n",
    "if daynum==6:\n",
    "    print('saturday')\n",
    "else:\n",
    "    if daynum==7:\n",
    "        print('sunday')"
   ]
  },
  {
   "cell_type": "code",
   "execution_count": 17,
   "id": "24831753-4f5a-4a90-875e-02690a784d43",
   "metadata": {},
   "outputs": [
    {
     "name": "stdin",
     "output_type": "stream",
     "text": [
      "Enter a number:  10\n"
     ]
    },
    {
     "name": "stdout",
     "output_type": "stream",
     "text": [
      "The factorial of 10 is 3628800\n"
     ]
    }
   ],
   "source": [
    "#13. Develop a program that calculates the factorial of a given number using recursion.\n",
    "def factorial(n):\n",
    "    if n == 0 or n == 1:\n",
    "        return 1\n",
    "    else:\n",
    "        return n*factorial(n - 1)\n",
    "number113 =int(input(\"Enter a number: \"))\n",
    "result =factorial(number113)\n",
    "print(\"The factorial of\", number113, \"is\", result)"
   ]
  },
  {
   "cell_type": "code",
   "execution_count": 7,
   "id": "ca103ed9-9755-4877-8223-9b72c8a52c92",
   "metadata": {},
   "outputs": [
    {
     "name": "stdin",
     "output_type": "stream",
     "text": [
      "enter first number: 3\n",
      "enter second number: 1\n",
      "enter third number: 2\n"
     ]
    },
    {
     "name": "stdout",
     "output_type": "stream",
     "text": [
      "largest number is: 3\n"
     ]
    }
   ],
   "source": [
    "#14. Write a program to find the largest among three numbers without using the `max()` function.\n",
    "digit14_1=int(input('enter first number:'))\n",
    "digit14_2=int(input('enter second number:'))\n",
    "digit14_3=int(input('enter third number:'))\n",
    "if digit14_1>=digit14_2 and digit14_1>=digit14_3:\n",
    "    print('largest number is:',digit14_1)\n",
    "elif digit14_2>=digit14_1 and digit14_2>=digit14_3:\n",
    "    print('largest number is:',digit14_2)\n",
    "else:\n",
    "    print('largest number is:',digit14_3)"
   ]
  },
  {
   "cell_type": "code",
   "execution_count": 33,
   "id": "64a99a84-790c-4208-b4a6-c11911686b0c",
   "metadata": {},
   "outputs": [
    {
     "name": "stdout",
     "output_type": "stream",
     "text": [
      "insert your credit/debit card\n"
     ]
    },
    {
     "name": "stdin",
     "output_type": "stream",
     "text": [
      "enter 1 for savings account or 2 for current account 1\n"
     ]
    },
    {
     "name": "stdout",
     "output_type": "stream",
     "text": [
      "1\n"
     ]
    },
    {
     "name": "stdin",
     "output_type": "stream",
     "text": [
      "enter cash amount (500-10000) 2222\n",
      "enter card pin 24\n"
     ]
    },
    {
     "name": "stdout",
     "output_type": "stream",
     "text": [
      "thanks for using our service!, collect your cash and don't forget to collect your card\n"
     ]
    }
   ],
   "source": [
    "#15. Create a program that simulates a basic ATM transaction menu.\n",
    "print('insert your credit/debit card')\n",
    "select=int(input('enter 1 for savings account or 2 for current account'))\n",
    "if select<0 and select>2:\n",
    "    print('please select from provided value')\n",
    "print(select)\n",
    "if select>0 and select<=2:\n",
    "    amount=int(input('enter cash amount (500-10000)'))\n",
    "if amount<0:\n",
    "    print('invalid input, please enter valid amount')\n",
    "elif amount>=10000:\n",
    "    print('entered amount exceeds our capacity limit, please enter lower amount')\n",
    "elif amount<500:\n",
    "    print('entered value is invalid, please select from provided range')\n",
    "else:\n",
    "    if amount<=10000:\n",
    "        pin=int(input('enter card pin'))\n",
    "        print(\"thanks for using our service!, collect your cash and don't forget to collect your card\")"
   ]
  },
  {
   "cell_type": "code",
   "execution_count": 34,
   "id": "3eac72b0-e3c9-4fc0-be8b-e9cebefeb843",
   "metadata": {},
   "outputs": [
    {
     "name": "stdin",
     "output_type": "stream",
     "text": [
      "enter a string racecar\n"
     ]
    },
    {
     "name": "stdout",
     "output_type": "stream",
     "text": [
      "yes, this string is palindrome.\n"
     ]
    }
   ],
   "source": [
    "#16. Build a program that checks if a given string is a palindrome or not.\n",
    "string16=str(input('enter a string'))\n",
    "if string16.lower()==string16.lower()[::-1]:\n",
    "    print('yes, this string is palindrome.')\n",
    "else:\n",
    "    print('no, this string is not palindrome.')"
   ]
  },
  {
   "cell_type": "code",
   "execution_count": 37,
   "id": "db80e146-09cf-4041-8016-695638251167",
   "metadata": {},
   "outputs": [
    {
     "name": "stdout",
     "output_type": "stream",
     "text": [
      "average is: 4.333333333333333\n"
     ]
    }
   ],
   "source": [
    "#17. Write a program that calculates the average of a list of numbers, excluding the smallest and largest values.\n",
    "numbers177=[1,2,3,4,5,6,6,78]\n",
    "if len(numbers177)<3:\n",
    "    print('list should have atleast 3 or more elements in it')\n",
    "else:\n",
    "    sorted177=sorted(numbers177)\n",
    "    filtered177=sorted177[1:-1]\n",
    "    average177=sum(filtered177)/len(filtered177)\n",
    "    print('average is:',average177)"
   ]
  },
  {
   "cell_type": "code",
   "execution_count": 55,
   "id": "aa8df088-8aaa-4051-bef4-1e088440f8d1",
   "metadata": {},
   "outputs": [
    {
     "name": "stdin",
     "output_type": "stream",
     "text": [
      "enter temperature in celsius 2\n"
     ]
    },
    {
     "name": "stdout",
     "output_type": "stream",
     "text": [
      "temperature in fahrenheit is: 35.6\n"
     ]
    }
   ],
   "source": [
    "#18. Develop a program that converts a given temperature from Celsius to Fahrenheit.\n",
    "tempcelsius=int(input('enter temperature in celsius'))\n",
    "if tempcelsius>0:\n",
    "    tempfahrenheit=tempcelsius*9/5+32\n",
    "    print('temperature in fahrenheit is:',tempfahrenheit)\n",
    "else:\n",
    "     print('invalid input')"
   ]
  },
  {
   "cell_type": "code",
   "execution_count": 3,
   "id": "9415a7e3-f483-482b-899b-4b757dfd69ff",
   "metadata": {},
   "outputs": [
    {
     "name": "stdout",
     "output_type": "stream",
     "text": [
      "options:\n",
      "1. addition\n",
      "2. sutraction\n",
      "3. multiplication\n",
      "4. division\n",
      "5.quit\n"
     ]
    },
    {
     "name": "stdin",
     "output_type": "stream",
     "text": [
      "enter your selection(1/2/3/4/5): 4\n",
      "enter the first number: 2\n",
      "enter the second number: 3\n"
     ]
    },
    {
     "name": "stdout",
     "output_type": "stream",
     "text": [
      "result:0.6666666666666666\n"
     ]
    }
   ],
   "source": [
    "#19. Create a program that simulates a basic calculator for addition, subtraction, multiplication, and division.\n",
    "while True:\n",
    "    print('options:')\n",
    "    print('1. addition')\n",
    "    print('2. sutraction')\n",
    "    print('3. multiplication')\n",
    "    print('4. division')\n",
    "    print('5.quit')\n",
    "    userinput=input('enter your selection(1/2/3/4/5):')\n",
    "    if userinput=='5':\n",
    "        break\n",
    "    if userinput in('1','2','3','4'):\n",
    "        numer19=float(input('enter the first number:'))\n",
    "        numer19_2=float(input('enter the second number:'))\n",
    "        if userinput=='1':\n",
    "            result=numer19+numer19_2\n",
    "        elif userinput=='3':\n",
    "            result=numer19*numer19_2\n",
    "        elif userinput=='2':\n",
    "            result=numer19-numer19_2\n",
    "        elif userinput=='4':\n",
    "            if numer19_2==0:\n",
    "                print('cannot be divided by zero')\n",
    "                continue\n",
    "            result=numer19/numer19_2\n",
    "        print('result:'+str(result))\n",
    "        break\n",
    "    else:\n",
    "        print('invalid input')"
   ]
  },
  {
   "cell_type": "code",
   "execution_count": 19,
   "id": "cfb306ac-52e1-4f2c-8ec5-10cdeb24529d",
   "metadata": {},
   "outputs": [
    {
     "name": "stdin",
     "output_type": "stream",
     "text": [
      "Enter the coefficient of x^3: 23\n",
      "Enter the coefficient of x^2: 23\n",
      "Enter the coefficient of x: 23\n",
      "Enter the constant term: -6\n"
     ]
    },
    {
     "name": "stdout",
     "output_type": "stream",
     "text": [
      "The roots are: (0.6176193745691241+0.23626736575868812j)\n"
     ]
    }
   ],
   "source": [
    "#20. Write a program that determines the roots of a cubic equation using the Cardano formula.\n",
    "from math import sqrt, cos, acos\n",
    "def cardano_formula(a, b, c, d):\n",
    "    p=(3*a*c-b**2)/(3*a**2)\n",
    "    q=(2*b**3-9*a*b*c+27*a**2*d)/(27*a**3)\n",
    "    discriminant=(q/2)**2+(p/3)**3\n",
    "    if discriminant == 0:\n",
    "        root =(-q/2)**(1/3)\n",
    "        real_root=-b/(3*a)-root\n",
    "        return [real_root]\n",
    "    elif discriminant>0:\n",
    "        s=(-q/2+sqrt(discriminant))**(1/3)\n",
    "        t=(-q/2-sqrt(discriminant))**(1/3)\n",
    "        root_1=s+t-b/(3*a)\n",
    "        return [root_1]\n",
    "    else:\n",
    "        angle = acos(-(q/2) / sqrt((-p/3) ** 3))\n",
    "        root_1=2*sqrt(-p/3)*cos(angle/3) - b/(3 * a)\n",
    "        root_2=2*sqrt(-p/3)*cos((angle+2*pi)/3)-b/(3*a)\n",
    "        root_3=2*sqrt(-p/3)*cos((angle-2*pi)/3)-b/(3*a)\n",
    "        return [root_1, root_2, root_3]\n",
    "a =float(input(\"Enter the coefficient of x^3:\"))\n",
    "b =float(input(\"Enter the coefficient of x^2:\"))\n",
    "c =float(input(\"Enter the coefficient of x:\"))\n",
    "d =float(input(\"Enter the constant term:\"))\n",
    "roots = cardano_formula(a,b,c,d)\n",
    "print(\"The roots are:\", ', '.join(str(root) for root in roots))"
   ]
  },
  {
   "cell_type": "markdown",
   "id": "054ba540-3a43-45b3-b3ce-021090e7336f",
   "metadata": {},
   "source": [
    "Advanced Level:"
   ]
  },
  {
   "cell_type": "code",
   "execution_count": 31,
   "id": "648293aa-109b-4c63-a46f-43c9c586d19b",
   "metadata": {},
   "outputs": [
    {
     "name": "stdin",
     "output_type": "stream",
     "text": [
      "Enter your annual income:  9872\n"
     ]
    },
    {
     "name": "stdout",
     "output_type": "stream",
     "text": [
      "Your income tax is: 987.2\n"
     ]
    }
   ],
   "source": [
    "#21. Create a program that calculates the income tax based on the user's income and tax brackets.\n",
    "def calculate_tax(income, brackets):\n",
    "    tax = 0\n",
    "    remaining_income = income\n",
    "    for i in range(len(brackets)):\n",
    "        if remaining_income <= 0:\n",
    "            break\n",
    "        bracket = brackets[i]\n",
    "        if remaining_income <= bracket['upper_limit']:\n",
    "            tax += remaining_income * bracket['rate']\n",
    "            break\n",
    "        else:\n",
    "            taxable_amount = bracket['upper_limit'] - bracket['lower_limit']\n",
    "            tax += taxable_amount * bracket['rate']\n",
    "            remaining_income -= taxable_amount\n",
    "    return tax\n",
    "income = float(input(\"Enter your annual income: \"))\n",
    "brackets = [\n",
    "    {'lower_limit': 0, 'upper_limit': 9875, 'rate': 0.10},\n",
    "    {'lower_limit': 9876, 'upper_limit': 40125, 'rate': 0.12},\n",
    "    {'lower_limit': 40126, 'upper_limit': 85525, 'rate': 0.22},\n",
    "    {'lower_limit': 85526, 'upper_limit': 163300, 'rate': 0.24},\n",
    "    {'lower_limit': 163301, 'upper_limit': 207350, 'rate': 0.32},\n",
    "    {'lower_limit': 207351, 'upper_limit': 518400, 'rate': 0.35},\n",
    "    {'lower_limit': 518401, 'upper_limit': float('inf'), 'rate': 0.37}\n",
    "]\n",
    "tax = calculate_tax(income, brackets)\n",
    "print(\"Your income tax is:\", tax)"
   ]
  },
  {
   "cell_type": "code",
   "execution_count": 8,
   "id": "c957e31b-7b7c-4a86-9bca-edf1f0566cf4",
   "metadata": {},
   "outputs": [
    {
     "name": "stdin",
     "output_type": "stream",
     "text": [
      "choose one:rock, paper, scissor (or quit to end): quit\n"
     ]
    },
    {
     "name": "stdout",
     "output_type": "stream",
     "text": [
      "afraid to loose? haha\n"
     ]
    }
   ],
   "source": [
    "#22. Write a program that simulates a rock-paper-scissors game against the computer.\n",
    "import random\n",
    "while True:\n",
    "    usersel=input('choose one:rock, paper, scissor (or quit to end):').lower()\n",
    "    if usersel=='quit':\n",
    "        print('afraid to loose? haha')\n",
    "        break\n",
    "    computersel=random.choice(['rock','paper','scissor'])\n",
    "    if usersel in['rock','paper','scissor']:\n",
    "        if usersel==computersel:\n",
    "            print('its a tie!, computer chose:',{computersel})\n",
    "        elif(\n",
    "            (usersel=='rock' and computersel=='scissor')or\n",
    "            (usersel=='paper' and computersel=='rock')or\n",
    "            (usersel=='scissor' and computersel=='paper')\n",
    "        ):\n",
    "            print('you won!, computer chose:',{computersel})\n",
    "            break\n",
    "        else:\n",
    "            print('computer won!, computer chose:',{computersel})\n",
    "            break\n",
    "                \n",
    "    else:\n",
    "        print('invalid choice')\n",
    "        break\n",
    "#note for testing team pw:'game will not break untill one side wins! :)'"
   ]
  },
  {
   "cell_type": "code",
   "execution_count": 26,
   "id": "113dfa15-ce34-4eb1-b5a4-cd42532483a6",
   "metadata": {},
   "outputs": [
    {
     "name": "stdin",
     "output_type": "stream",
     "text": [
      "enter the password length: 8\n"
     ]
    },
    {
     "name": "stdout",
     "output_type": "stream",
     "text": [
      "generated password: D!ZMA~O1\n"
     ]
    }
   ],
   "source": [
    "#23. Develop a program that generates a random password based on user preferences (length, complexity).\n",
    "import string\n",
    "import random\n",
    "def generate_a_pass(length):\n",
    "    characters=string.ascii_letters+string.digits+string.punctuation\n",
    "    password=''.join(random.choice(characters)for _ in range(length))\n",
    "    return password \n",
    "length=int(input('enter the password length:'))\n",
    "password=generate_a_pass(length)\n",
    "print('generated password:',password)"
   ]
  },
  {
   "cell_type": "code",
   "execution_count": 6,
   "id": "9c932e77-483f-4db0-9c56-7a1c1f639623",
   "metadata": {},
   "outputs": [
    {
     "name": "stdout",
     "output_type": "stream",
     "text": [
      "Welcome to the Adventure Game!\n",
      "You wake up in a mysterious room with two doors.\n"
     ]
    },
    {
     "name": "stdin",
     "output_type": "stream",
     "text": [
      "Do you want to go through the left door or the right door? (left/right):  left\n"
     ]
    },
    {
     "name": "stdout",
     "output_type": "stream",
     "text": [
      "You enter a dark forest.\n",
      "As you walk deeper, you spot a shiny object on the ground.\n"
     ]
    },
    {
     "name": "stdin",
     "output_type": "stream",
     "text": [
      "Do you want to pick up the shiny object? (yes/no):  yes\n"
     ]
    },
    {
     "name": "stdout",
     "output_type": "stream",
     "text": [
      "Congratulations! You found the key of a treasure chest!\n"
     ]
    }
   ],
   "source": [
    "#24. Create a program that implements a simple text-based adventure game with branching scenarios.\n",
    "def start_game():\n",
    "    print(\"Welcome to the Adventure Game!\")\n",
    "    print(\"You wake up in a mysterious room with two doors.\")\n",
    "    choice=input(\"Do you want to go through the left door or the right door? (left/right): \")\n",
    "    if choice.lower()==\"left\":\n",
    "        print(\"You enter a dark forest.\")\n",
    "        print(\"As you walk deeper, you spot a shiny object on the ground.\")\n",
    "        treasure_choice=input(\"Do you want to pick up the shiny object? (yes/no): \")\n",
    "        if treasure_choice.lower()==\"yes\":\n",
    "            print(\"Congratulations! You found the key of a treasure chest!\")\n",
    "        else:\n",
    "            print(\"You continue your journey.\")\n",
    "    elif choice.lower()==\"right\":\n",
    "        print(\"You enter a room filled with puzzles.\")\n",
    "        answer=input(\"Solve the riddle: 'I speak without a mouth, and hear without ears. I have no body, but I come alive with wind.' (enter your answer): \")\n",
    "        if answer.lower()==\"echo\":\n",
    "            print(\"Congratulations! You solved the riddle!\")\n",
    "        else:\n",
    "            print(\"Incorrect answer. You're trapped forever.\")\n",
    "    else:\n",
    "        print(\"Invalid choice. Please try again.\")\n",
    "start_game()"
   ]
  },
  {
   "cell_type": "code",
   "execution_count": 8,
   "id": "6b0f3610-3108-41c8-8080-a53b06816037",
   "metadata": {},
   "outputs": [
    {
     "name": "stdin",
     "output_type": "stream",
     "text": [
      "Enter the coefficient of x: 2\n",
      "Enter the constant term: -3\n"
     ]
    },
    {
     "name": "stdout",
     "output_type": "stream",
     "text": [
      "The solution to the equation is x = 1.5.\n"
     ]
    }
   ],
   "source": [
    "#25. Build a program that solves a linear equation for x, considering different cases.\n",
    "def solve_linear_equation(a, b):\n",
    "    if a==0 and b==0:\n",
    "        print(\"The equation is an identity. It is true for all real values of x.\")\n",
    "    elif a==0 and b!=0:\n",
    "        print(\"The equation is inconsistent. There is no solution.\")\n",
    "    elif a!=0 and b==0:\n",
    "        print(\"The solution to the equation is x = 0.\")\n",
    "    else:\n",
    "        x=-b/a\n",
    "        print(f\"The solution to the equation is x = {x}.\")\n",
    "a=float(input(\"Enter the coefficient of x:\"))\n",
    "b=float(input(\"Enter the constant term:\"))\n",
    "solve_linear_equation(a, b)"
   ]
  },
  {
   "cell_type": "code",
   "execution_count": 8,
   "id": "8ecf2264-8e11-4c54-ba6a-30172c755ab5",
   "metadata": {},
   "outputs": [
    {
     "name": "stdout",
     "output_type": "stream",
     "text": [
      "Question 1: What is the capital of India?\n",
      "Options:\n",
      "1. Delhi\n",
      "2. Kashmir\n",
      "3. Mumbai\n"
     ]
    },
    {
     "name": "stdin",
     "output_type": "stream",
     "text": [
      "Enter the option number(1,2,3,etc.): 2\n"
     ]
    },
    {
     "name": "stdout",
     "output_type": "stream",
     "text": [
      "Wrong answer!\n",
      "\n",
      "Question 2: Which animal is known as man's best friend?\n",
      "Options:\n",
      "1. Lion\n",
      "2. Dog\n",
      "3. Snake\n"
     ]
    },
    {
     "name": "stdin",
     "output_type": "stream",
     "text": [
      "Enter the option number(1,2,3,etc.): 3\n"
     ]
    },
    {
     "name": "stdout",
     "output_type": "stream",
     "text": [
      "Wrong answer!\n",
      "\n",
      "Question 3: Who am I?\n",
      "Options:\n",
      "1. Spirit Soul\n",
      "2. Gross Material Body\n",
      "3. Mind\n"
     ]
    },
    {
     "name": "stdin",
     "output_type": "stream",
     "text": [
      "Enter the option number(1,2,3,etc.): 1\n"
     ]
    },
    {
     "name": "stdout",
     "output_type": "stream",
     "text": [
      "Correct answer!\n",
      "\n",
      "Quiz completed! You scored 1/3.\n"
     ]
    }
   ],
   "source": [
    "#26. Write a program that simulates a basic quiz game with multiple-choice questions and scoring.\n",
    "score = 0\n",
    "print(\"Question 1: What is the capital of India?\")\n",
    "print(\"Options:\")\n",
    "print(\"1. Delhi\")\n",
    "print(\"2. Kashmir\")\n",
    "print(\"3. Mumbai\")\n",
    "user_answer=int(input(\"Enter the option number(1,2,3,etc.):\"))\n",
    "if user_answer==1:\n",
    "    score+=1\n",
    "    print(\"Correct answer!\")\n",
    "else:\n",
    "    print(\"Wrong answer!\")\n",
    "print()\n",
    "print(\"Question 2: Which animal is known as man's best friend?\")\n",
    "print(\"Options:\")\n",
    "print(\"1. Lion\")\n",
    "print(\"2. Dog\")\n",
    "print(\"3. Snake\")\n",
    "user_answer=int(input(\"Enter the option number(1,2,3,etc.):\"))\n",
    "if user_answer==2:\n",
    "    score+=1\n",
    "    print(\"Correct answer!\")\n",
    "else:\n",
    "    print(\"Wrong answer!\")\n",
    "print()\n",
    "print(\"Question 3: Who am I?\")\n",
    "print(\"Options:\")\n",
    "print(\"1. Spirit Soul\")\n",
    "print(\"2. Gross Material Body\")\n",
    "print(\"3. Mind\")\n",
    "user_answer=int(input(\"Enter the option number(1,2,3,etc.):\"))\n",
    "if user_answer==1:\n",
    "    score+=1\n",
    "    print(\"Correct answer!\")\n",
    "else:\n",
    "    print(\"Wrong answer!\")\n",
    "print()\n",
    "print(f\"Quiz completed! You scored {score}/3.\")"
   ]
  },
  {
   "cell_type": "code",
   "execution_count": 3,
   "id": "528c036c-6cb4-4353-a2ff-f29677b734b4",
   "metadata": {},
   "outputs": [
    {
     "name": "stdin",
     "output_type": "stream",
     "text": [
      "enter year in digit: 2023\n"
     ]
    },
    {
     "name": "stdout",
     "output_type": "stream",
     "text": [
      "2023 is not a prime number.\n"
     ]
    }
   ],
   "source": [
    "#27. Develop a program that determines whether a given year is a prime number or not.\n",
    "num277=int(input('enter year in digit:'))\n",
    "if num277<2:\n",
    "    print(num277,'is not a prime number.')\n",
    "else:\n",
    "    prime277=True\n",
    "    for i in range(2,int(num277**0.5)+1):\n",
    "        if num277%1==0:\n",
    "            prime277=False\n",
    "            break\n",
    "    \n",
    "    if prime277:\n",
    "        print(num277,'is a prime number.')\n",
    "    else:\n",
    "        print(num277,'is not a prime number.')"
   ]
  },
  {
   "cell_type": "code",
   "execution_count": 5,
   "id": "f2697fad-5108-4349-b3a3-c7e2b0eed3cd",
   "metadata": {},
   "outputs": [
    {
     "name": "stdin",
     "output_type": "stream",
     "text": [
      "Enter the first number: 2\n",
      "Enter the second number: 1\n",
      "Enter the third number: 3\n"
     ]
    },
    {
     "name": "stdout",
     "output_type": "stream",
     "text": [
      "Numbers in ascending order:  1 2 3\n"
     ]
    }
   ],
   "source": [
    "#28. Create a program that sorts three numbers in ascending order using conditional statements.\n",
    "# Function to sort three numbers in ascending order\n",
    "def sort_numbers(a,b,c):\n",
    "    if a<=b and a<=c:\n",
    "        smallest=a\n",
    "        if b<=c:\n",
    "            middle=b\n",
    "            largest=c\n",
    "        else:\n",
    "            middle=c\n",
    "            largest=b\n",
    "    elif b<=a and b<=c:\n",
    "        smallest=b\n",
    "        if a<=c:\n",
    "            middle=a\n",
    "            largest=c\n",
    "        else:\n",
    "            middle=c\n",
    "            largest=a\n",
    "    else:\n",
    "        smallest=c\n",
    "        if a<=b:\n",
    "            middle=a\n",
    "            largest=b\n",
    "        else:\n",
    "            middle=b\n",
    "            largest=a\n",
    "    return smallest, middle, largest\n",
    "num1=int(input(\"Enter the first number:\"))\n",
    "num2=int(input(\"Enter the second number:\"))\n",
    "num3=int(input(\"Enter the third number:\"))\n",
    "sorted_numbers = sort_numbers(num1, num2, num3)\n",
    "print(\"Numbers in ascending order: \", sorted_numbers[0], sorted_numbers[1], sorted_numbers[2])"
   ]
  },
  {
   "cell_type": "code",
   "execution_count": 10,
   "id": "60b3c688-5612-4311-a20e-f5156922479a",
   "metadata": {},
   "outputs": [
    {
     "name": "stdin",
     "output_type": "stream",
     "text": [
      "Enter the coefficient of x^4: 12\n",
      "Enter the coefficient of x^3: 13\n",
      "Enter the coefficient of x^2: 14\n",
      "Enter the coefficient of x: -3\n",
      "Enter the constant term: 22\n"
     ]
    },
    {
     "name": "stdout",
     "output_type": "stream",
     "text": [
      "Roots of the quartic equation:\n",
      "Root1:(-0.9995991379015305+1.0688353790118343j)\n",
      "Root2:(-0.9995991379015305-1.0688353790118343j)\n",
      "Root3:(0.45793247123486336+0.8039605888278916j)\n",
      "Root4:(0.45793247123486336-0.8039605888278916j)\n"
     ]
    }
   ],
   "source": [
    "#29. Build a program that determines the roots of a quartic equation using numerical methods.\n",
    "import numpy as np\n",
    "a299=float(input(\"Enter the coefficient of x^4:\"))\n",
    "b299=float(input(\"Enter the coefficient of x^3:\"))\n",
    "c299=float(input(\"Enter the coefficient of x^2:\"))\n",
    "d299=float(input(\"Enter the coefficient of x:\"))\n",
    "e299=float(input(\"Enter the constant term:\"))\n",
    "coefficients299=[a299,b299,c299,d299,e299]\n",
    "roots=np.roots(coefficients299)\n",
    "print(\"Roots of the quartic equation:\")\n",
    "for i, root in enumerate(roots):\n",
    "    print(f\"Root{i+1}:{root}\")"
   ]
  },
  {
   "cell_type": "code",
   "execution_count": 10,
   "id": "783052ac-482f-442a-b885-dafd60e39961",
   "metadata": {},
   "outputs": [
    {
     "name": "stdin",
     "output_type": "stream",
     "text": [
      "enter your weight in kilograms: 80\n",
      "enter your height in meters: 1\n"
     ]
    },
    {
     "name": "stdout",
     "output_type": "stream",
     "text": [
      "you should exercise more and eat less fat content food\n",
      "you are obese category.\n"
     ]
    }
   ],
   "source": [
    "#30. Write a program that calculates the BMI (Body Mass Index) and provides health recommendations based\n",
    "#on the user's input.\n",
    "weight30=float(input('enter your weight in kilograms:'))\n",
    "height30=float(input('enter your height in meters:'))\n",
    "bmi30=weight30/(height30**2)\n",
    "if bmi30<18.5:\n",
    "    category30='underweight'\n",
    "    print('you should add more carbs in your diet')\n",
    "elif 18.5<=bmi30<24.9:\n",
    "    category30='normal weight'\n",
    "    print('you are fit and well')\n",
    "elif 25.0<=bmi30<29.9:\n",
    "    category30='overweight'\n",
    "    print('you should exercise more and eat less fat content food')\n",
    "else:\n",
    "    category30='obese'\n",
    "    print('you should exercise more and eat less fat content food')\n",
    "print('you are',category30,'category.')"
   ]
  },
  {
   "cell_type": "markdown",
   "id": "90e6243f-98aa-4921-bd14-9eb094309e49",
   "metadata": {},
   "source": [
    "Challenge Level:"
   ]
  },
  {
   "cell_type": "code",
   "execution_count": 17,
   "id": "f16e630d-368a-4e0f-9a2f-f5f3f44a4d3e",
   "metadata": {},
   "outputs": [
    {
     "name": "stdin",
     "output_type": "stream",
     "text": [
      "Enter a password: awsdfSAf@124312@14\n"
     ]
    },
    {
     "name": "stdout",
     "output_type": "stream",
     "text": [
      "Password is valid.\n"
     ]
    }
   ],
   "source": [
    "#31. Create a program that validates a password based on complexity rules (length, characters, etc.).\n",
    "# Password Complexity Rules:\n",
    "# -1. minimum length: 8 characters\n",
    "# -2. at least one uppercase letter\n",
    "# -3. at least one lowercase letter\n",
    "# -4. at least one digit\n",
    "# -5. at least one special character (e.g., !, @, #, $, %, ^, &, *)\n",
    "def validate_password(password):\n",
    "    if len(password)<8:\n",
    "        return False\n",
    "    if not any(char.isupper() for char in password):\n",
    "        return False\n",
    "    if not any(char.islower() for char in password):\n",
    "        return False\n",
    "    if not any(char.isdigit() for char in password):\n",
    "        return False\n",
    "    special_characters=\"!@#$%^&*\"\n",
    "    if not any(char in special_characters for char in password):\n",
    "        return False\n",
    "    return True\n",
    "password=input(\"Enter a password:\")\n",
    "is_valid=validate_password(password)\n",
    "if is_valid:\n",
    "    print(\"Password is valid.\")\n",
    "else:\n",
    "    print(\"Password is not valid. Please make sure it meets the complexity requirements.\")"
   ]
  },
  {
   "cell_type": "code",
   "execution_count": 19,
   "id": "1217d518-8c2e-4d6c-9d92-08ff2b7450a4",
   "metadata": {},
   "outputs": [
    {
     "name": "stdin",
     "output_type": "stream",
     "text": [
      "Enter the number of rows:  2\n",
      "Enter the number of columns:  3\n"
     ]
    },
    {
     "name": "stdout",
     "output_type": "stream",
     "text": [
      "Enter the elements of the first matrix:\n"
     ]
    },
    {
     "name": "stdin",
     "output_type": "stream",
     "text": [
      "Enter element [0][0]: 1\n",
      "Enter element [0][1]: 2\n",
      "Enter element [0][2]: 3\n",
      "Enter element [1][0]: 4\n",
      "Enter element [1][1]: 5\n",
      "Enter element [1][2]: 6\n"
     ]
    },
    {
     "name": "stdout",
     "output_type": "stream",
     "text": [
      "Enter the elements of the second matrix:\n"
     ]
    },
    {
     "name": "stdin",
     "output_type": "stream",
     "text": [
      "Enter element [0][0]: 7\n",
      "Enter element [0][1]: 8\n",
      "Enter element [0][2]: 9\n",
      "Enter element [1][0]: 10\n",
      "Enter element [1][1]: 11\n",
      "Enter element [1][2]: 12\n"
     ]
    },
    {
     "name": "stdout",
     "output_type": "stream",
     "text": [
      "Matrix Addition Result:\n",
      "[8.0, 10.0, 12.0]\n",
      "[14.0, 16.0, 18.0]\n",
      "Matrix Subtraction Result:\n",
      "[-6.0, -6.0, -6.0]\n",
      "[-6.0, -6.0, -6.0]\n"
     ]
    }
   ],
   "source": [
    "#32. Develop a program that performs matrix addition and subtraction based on user input.\n",
    "rows=int(input(\"Enter the number of rows: \"))\n",
    "cols=int(input(\"Enter the number of columns: \"))\n",
    "print(\"Enter the elements of the first matrix:\")\n",
    "matrix1=[]\n",
    "for i in range(rows):\n",
    "    row=[]\n",
    "    for j in range(cols):\n",
    "        element=float(input(f\"Enter element [{i}][{j}]:\"))\n",
    "        row.append(element)\n",
    "    matrix1.append(row)\n",
    "print(\"Enter the elements of the second matrix:\")\n",
    "matrix2=[]\n",
    "for i in range(rows):\n",
    "    row=[]\n",
    "    for j in range(cols):\n",
    "        element=float(input(f\"Enter element [{i}][{j}]:\"))\n",
    "        row.append(element)\n",
    "    matrix2.append(row)\n",
    "addition_result=[]\n",
    "for i in range(rows):\n",
    "    row=[]\n",
    "    for j in range(cols):\n",
    "        element=matrix1[i][j]+matrix2[i][j]\n",
    "        row.append(element)\n",
    "    addition_result.append(row)\n",
    "subtraction_result=[]\n",
    "for i in range(rows):\n",
    "    row=[]\n",
    "    for j in range(cols):\n",
    "        element=matrix1[i][j]-matrix2[i][j]\n",
    "        row.append(element)\n",
    "    subtraction_result.append(row)\n",
    "print(\"Matrix Addition Result:\")\n",
    "for row in addition_result:\n",
    "    print(row)\n",
    "print(\"Matrix Subtraction Result:\")\n",
    "for row in subtraction_result:\n",
    "    print(row)"
   ]
  },
  {
   "cell_type": "code",
   "execution_count": 20,
   "id": "523f781d-1a92-4b39-b65f-1aed6e8cf31b",
   "metadata": {},
   "outputs": [
    {
     "name": "stdin",
     "output_type": "stream",
     "text": [
      "Enter the first number: 56\n",
      "Enter the second number: 56\n"
     ]
    },
    {
     "name": "stdout",
     "output_type": "stream",
     "text": [
      "The Greatest Common Divisor (GCD) of 56 and 56 is 56\n"
     ]
    }
   ],
   "source": [
    "#33. Write a program that calculates the greatest common divisor (GCD) of two numbers using the Euclidean\n",
    "#algorithm.\n",
    "def gcd(a, b):\n",
    "    if b>a:\n",
    "        a,b=b,a\n",
    "    while b!=0:\n",
    "        remainder=a%b\n",
    "        a=b\n",
    "        b=remainder\n",
    "    return a\n",
    "num1=int(input(\"Enter the first number:\"))\n",
    "num2=int(input(\"Enter the second number:\"))\n",
    "gcd=gcd(num1,num2)\n",
    "print(\"The Greatest Common Divisor (GCD) of\", num1, \"and\", num2, \"is\", gcd)"
   ]
  },
  {
   "cell_type": "code",
   "execution_count": 22,
   "id": "9ef54359-970a-4177-a099-01da04f758cf",
   "metadata": {},
   "outputs": [
    {
     "name": "stdin",
     "output_type": "stream",
     "text": [
      "Enter the number of rows for the first matrix: 2\n",
      "Enter the number of columns for the first matrix: 3\n",
      "Enter the number of rows for the second matrix: 3\n",
      "Enter the number of columns for the second matrix: 2\n"
     ]
    },
    {
     "name": "stdout",
     "output_type": "stream",
     "text": [
      "Enter the elements of the first matrix:\n"
     ]
    },
    {
     "name": "stdin",
     "output_type": "stream",
     "text": [
      "Enter element [0][0]: 1\n",
      "Enter element [0][1]: 2\n",
      "Enter element [0][2]: 3\n",
      "Enter element [1][0]: 4\n",
      "Enter element [1][1]: 5\n",
      "Enter element [1][2]: 6\n"
     ]
    },
    {
     "name": "stdout",
     "output_type": "stream",
     "text": [
      "Enter the elements of the second matrix:\n"
     ]
    },
    {
     "name": "stdin",
     "output_type": "stream",
     "text": [
      "Enter element [0][0]: 7\n",
      "Enter element [0][1]: 8\n",
      "Enter element [1][0]: 9\n",
      "Enter element [1][1]: 10\n",
      "Enter element [2][0]: 11\n",
      "Enter element [2][1]: 12\n"
     ]
    },
    {
     "name": "stdout",
     "output_type": "stream",
     "text": [
      "Matrix Multiplication Result:\n",
      "[58.0, 64.0]\n",
      "[139.0, 154.0]\n"
     ]
    }
   ],
   "source": [
    "#34. Build a program that performs matrix multiplication using nested loops and conditional statements.\n",
    "rows1=int(input(\"Enter the number of rows for the first matrix:\"))\n",
    "cols1=int(input(\"Enter the number of columns for the first matrix:\"))\n",
    "rows2=int(input(\"Enter the number of rows for the second matrix:\"))\n",
    "cols2=int(input(\"Enter the number of columns for the second matrix:\"))\n",
    "print(\"Enter the elements of the first matrix:\")\n",
    "matrix1=[]\n",
    "for i in range(rows1):\n",
    "    row=[]\n",
    "    for j in range(cols1):\n",
    "        element=float(input(f\"Enter element [{i}][{j}]:\"))\n",
    "        row.append(element)\n",
    "    matrix1.append(row)\n",
    "print(\"Enter the elements of the second matrix:\")\n",
    "matrix2=[]\n",
    "for i in range(rows2):\n",
    "    row=[]\n",
    "    for j in range(cols2):\n",
    "        element=float(input(f\"Enter element [{i}][{j}]:\"))\n",
    "        row.append(element)\n",
    "    matrix2.append(row)\n",
    "multiplication_result=[[sum(a*b for a,b in zip(row_matrix1,col_matrix2))for col_matrix2 in zip(*matrix2)]for row_matrix1 in matrix1]\n",
    "if cols1!=rows2:\n",
    "    print(\"Matrix multiplication is not possible. Invalid dimensions.\")\n",
    "else:\n",
    "    print(\"Matrix Multiplication Result:\")\n",
    "    for row in multiplication_result:\n",
    "        print(row)"
   ]
  },
  {
   "cell_type": "code",
   "execution_count": 27,
   "id": "4561783d-d54d-4c42-acd4-38329df6ef20",
   "metadata": {},
   "outputs": [
    {
     "name": "stdout",
     "output_type": "stream",
     "text": [
      "- | - | -\n",
      "---------\n",
      "- | - | -\n",
      "---------\n",
      "- | - | -\n",
      "---------\n",
      "It's O's turn.\n",
      "- | - | -\n",
      "---------\n",
      "- | - | O\n",
      "---------\n",
      "- | - | -\n",
      "---------\n",
      "It's X's turn.\n"
     ]
    },
    {
     "name": "stdin",
     "output_type": "stream",
     "text": [
      "Enter your move (row column): 0 2\n"
     ]
    },
    {
     "name": "stdout",
     "output_type": "stream",
     "text": [
      "- | - | X\n",
      "---------\n",
      "- | - | O\n",
      "---------\n",
      "- | - | -\n",
      "---------\n",
      "It's O's turn.\n",
      "- | - | X\n",
      "---------\n",
      "- | O | O\n",
      "---------\n",
      "- | - | -\n",
      "---------\n",
      "It's X's turn.\n"
     ]
    },
    {
     "name": "stdin",
     "output_type": "stream",
     "text": [
      "Enter your move (row column): 1 1\n"
     ]
    },
    {
     "name": "stdout",
     "output_type": "stream",
     "text": [
      "- | - | X\n",
      "---------\n",
      "- | O | O\n",
      "---------\n",
      "- | - | -\n",
      "---------\n",
      "It's O's turn.\n",
      "- | - | X\n",
      "---------\n",
      "- | O | O\n",
      "---------\n",
      "- | O | -\n",
      "---------\n",
      "It's X's turn.\n"
     ]
    },
    {
     "name": "stdin",
     "output_type": "stream",
     "text": [
      "Enter your move (row column): 0 1\n"
     ]
    },
    {
     "name": "stdout",
     "output_type": "stream",
     "text": [
      "- | X | X\n",
      "---------\n",
      "- | O | O\n",
      "---------\n",
      "- | O | -\n",
      "---------\n",
      "It's O's turn.\n",
      "- | X | X\n",
      "---------\n",
      "- | O | O\n",
      "---------\n",
      "O | O | -\n",
      "---------\n",
      "It's X's turn.\n"
     ]
    },
    {
     "name": "stdin",
     "output_type": "stream",
     "text": [
      "Enter your move (row column): 0 0\n"
     ]
    },
    {
     "name": "stdout",
     "output_type": "stream",
     "text": [
      "X | X | X\n",
      "---------\n",
      "- | O | O\n",
      "---------\n",
      "O | O | -\n",
      "---------\n",
      "Player X wins!\n"
     ]
    }
   ],
   "source": [
    "#35. Create a program that simulates a basic text-based tic-tac-toe game against the computer.\n",
    "import random\n",
    "def print_board(board):\n",
    "    for row in board:\n",
    "        print(\" | \".join(row))\n",
    "        print(\"---------\")\n",
    "def check_win(board,player):\n",
    "    for row in board:\n",
    "        if all(cell==player for cell in row):\n",
    "            return True\n",
    "    for col in range(3):\n",
    "        if all(board[row][col]==player for row in range(3)):\n",
    "            return True\n",
    "    if board[0][0]==board[1][1]==board[2][2]==player:\n",
    "        return True\n",
    "    if board[0][2]==board[1][1]==board[2][0]==player:\n",
    "        return True\n",
    "    return False\n",
    "def make_move(board,row,col,player):\n",
    "    if board[row][col]==\"-\":\n",
    "        board[row][col]=player\n",
    "def play_tic_tac_toe():\n",
    "    board=[[\"-\"for _ in range(3)]for _ in range(3)]\n",
    "    players=[\"X\",\"O\"]\n",
    "    current_player=random.choice(players)\n",
    "    while True:\n",
    "        print_board(board)\n",
    "        print(f\"It's {current_player}'s turn.\")\n",
    "        if current_player==\"X\":\n",
    "            move=input(\"Enter your move (row column):\")\n",
    "            row,col=map(int,move.split())\n",
    "            make_move(board,row,col,current_player)\n",
    "        else:\n",
    "            empty_cells=[(row, col)for row in range(3)for col in range(3)if board[row][col]==\"-\"]\n",
    "            row, col=random.choice(empty_cells)\n",
    "            make_move(board,row,col,current_player)\n",
    "        if check_win(board, current_player):\n",
    "            print_board(board)\n",
    "            print(f\"Player {current_player} wins!\")\n",
    "            break\n",
    "        if all(cell!=\"-\"for row in board for cell in row):\n",
    "            print_board(board)\n",
    "            print(\"It's a tie!\")\n",
    "            break\n",
    "        current_player=players[(players.index(current_player)+1)%2]\n",
    "play_tic_tac_toe()"
   ]
  },
  {
   "cell_type": "code",
   "execution_count": 28,
   "id": "568a1165-c228-499a-965a-b3dd9b2f5a56",
   "metadata": {},
   "outputs": [
    {
     "name": "stdin",
     "output_type": "stream",
     "text": [
      "Enter the number of Fibonacci terms:  23\n"
     ]
    },
    {
     "name": "stdout",
     "output_type": "stream",
     "text": [
      "Fibonacci sequence up to term 23:\n",
      "[0, 1, 1, 2, 3, 5, 8, 13, 21, 34, 55, 89, 144, 233, 377, 610, 987, 1597, 2584, 4181, 6765, 10946, 17711]\n"
     ]
    }
   ],
   "source": [
    "#36. Write a program that generates Fibonacci numbers up to a specified term using iterative methods.\n",
    "def gen_fibo(n):\n",
    "    fibonacci=[0,1]\n",
    "    for i in range(2,n):\n",
    "        fibonacci.append(fibonacci[i-1]+fibonacci[i-2])\n",
    "    return fibonacci\n",
    "term=int(input(\"Enter the number of Fibonacci terms: \"))\n",
    "fibonacci_sequence=gen_fibo(term)\n",
    "print(f\"Fibonacci sequence up to term {term}:\")\n",
    "print(fibonacci_sequence)"
   ]
  },
  {
   "cell_type": "code",
   "execution_count": 6,
   "id": "db7745bd-9957-4589-a8af-7e3d56b45d49",
   "metadata": {},
   "outputs": [
    {
     "name": "stdin",
     "output_type": "stream",
     "text": [
      "Enter the term number: 12\n"
     ]
    },
    {
     "name": "stdout",
     "output_type": "stream",
     "text": [
      "The Fibonacci number at term 12is:144\n"
     ]
    }
   ],
   "source": [
    "#37. Develop a program that calculates the nth term of the Fibonacci sequence using memoization.\n",
    "fibonacci_cache={}\n",
    "def calculate_fibonacci(n):\n",
    "    if n in fibonacci_cache:\n",
    "        return fibonacci_cache[n]\n",
    "    if n<=1:\n",
    "        fibonacci_cache[n]=n\n",
    "        return n\n",
    "    fibonacci_cache[n]=calculate_fibonacci(n-1)+calculate_fibonacci(n-2)\n",
    "    return fibonacci_cache[n]\n",
    "term=int(input(\"Enter the term number:\"))\n",
    "fibonacci_number=calculate_fibonacci(term)\n",
    "print(f\"The Fibonacci number at term {term}is:{fibonacci_number}\")"
   ]
  },
  {
   "cell_type": "code",
   "execution_count": 1,
   "id": "22196711-aac2-448a-9024-c57726e63e71",
   "metadata": {},
   "outputs": [
    {
     "name": "stdin",
     "output_type": "stream",
     "text": [
      "Enter the month (1-12): 10\n",
      "Enter the year: 2023\n"
     ]
    },
    {
     "name": "stdout",
     "output_type": "stream",
     "text": [
      "October 2023\n",
      "Mo Tu We Th Fr Sa Su\n",
      "                   1 \n",
      " 2  3  4  5  6  7  8 \n",
      " 9 10 11 12 13 14 15 \n",
      "16 17 18 19 20 21 22 \n",
      "23 24 25 26 27 28 29 \n",
      "30 31                \n"
     ]
    }
   ],
   "source": [
    "#38. Create a program that generates a calendar for a given month and year using conditional statements.\n",
    "import calendar\n",
    "month=int(input(\"Enter the month (1-12):\"))\n",
    "year=int(input(\"Enter the year:\"))\n",
    "print(calendar.month_name[month],year)\n",
    "print(\"Mo Tu We Th Fr Sa Su\")\n",
    "cal=calendar.monthcalendar(year,month)\n",
    "for week in cal:\n",
    "    for day in week:\n",
    "        print(f\"{day:2}\" if day != 0 else \"  \", end=\" \")\n",
    "    print()"
   ]
  },
  {
   "cell_type": "code",
   "execution_count": 2,
   "id": "1d604383-5972-4869-a61d-d9e8bc2c2d55",
   "metadata": {},
   "outputs": [
    {
     "name": "stdin",
     "output_type": "stream",
     "text": [
      "Do you want to play a game of Blackjack? Type 'y' or 'n': y\n"
     ]
    },
    {
     "name": "stdout",
     "output_type": "stream",
     "text": [
      "Your cards: [9, 11], current score: 20\n",
      "Computer's first card: 5\n"
     ]
    },
    {
     "name": "stdin",
     "output_type": "stream",
     "text": [
      "Type 'y' to get another card, or 'n' to pass:  y\n"
     ]
    },
    {
     "name": "stdout",
     "output_type": "stream",
     "text": [
      "Your cards: [9, 8, 1], current score: 28\n",
      "Computer's first card: 5\n",
      "Your final hand: [9, 8, 1], final score: 28\n",
      "Computer's final hand: [5, 8, 7], final score: 20\n",
      "You went over. You lose!\n"
     ]
    },
    {
     "name": "stdin",
     "output_type": "stream",
     "text": [
      "Do you want to play a game of Blackjack? Type 'y' or 'n': n\n"
     ]
    }
   ],
   "source": [
    "#39. Build a program that simulates a basic text-based blackjack game against the computer.\n",
    "import random\n",
    "def deal_card():\n",
    "    \"\"\"Returns a random card from the deck.\"\"\"\n",
    "    cards = [11,2,3,4,5,6,7,8,9,10,10,10,10]\n",
    "    return random.choice(cards)\n",
    "def calculate_score(cards):\n",
    "    \"\"\"Takes a list of cards and returns the score calculated from the cards.\"\"\"\n",
    "    score=sum(cards)\n",
    "    if score==21 and len(cards)==2:\n",
    "        return 0\n",
    "    if 11 in cards and score>21:\n",
    "        cards.remove(11)\n",
    "        cards.append(1)\n",
    "    return score\n",
    "def play_game():\n",
    "    \"\"\"Plays a game of Blackjack.\"\"\"\n",
    "    user_cards=[deal_card(), deal_card()]\n",
    "    computer_cards=[deal_card(), deal_card()]\n",
    "    is_game_over=False\n",
    "    while not is_game_over:\n",
    "        user_score=calculate_score(user_cards)\n",
    "        computer_score=calculate_score(computer_cards)\n",
    "        print(f\"Your cards: {user_cards}, current score: {user_score}\")\n",
    "        print(f\"Computer's first card: {computer_cards[0]}\")\n",
    "        if user_score==0 or computer_score==0 or user_score>21:\n",
    "            is_game_over=True\n",
    "        else:\n",
    "            should_continue=input(\"Type 'y' to get another card, or 'n' to pass: \")\n",
    "            if should_continue==\"y\":\n",
    "                user_cards.append(deal_card())\n",
    "            else:\n",
    "                is_game_over=True\n",
    "    while computer_score!=0 and computer_score<17:\n",
    "        computer_cards.append(deal_card())\n",
    "        computer_score=calculate_score(computer_cards)\n",
    "\n",
    "    print(f\"Your final hand: {user_cards}, final score: {user_score}\")\n",
    "    print(f\"Computer's final hand: {computer_cards}, final score: {computer_score}\")\n",
    "    if user_score>21:\n",
    "        print(\"You went over. You lose!\")\n",
    "    elif computer_score>21:\n",
    "        print(\"Computer went over. You win!\")\n",
    "    elif user_score>computer_score:\n",
    "        print(\"You win!\")\n",
    "    elif user_score<computer_score:\n",
    "        print(\"You lose!\")\n",
    "    else:\n",
    "        print(\"It's a draw!\")\n",
    "while input(\"Do you want to play a game of Blackjack? Type 'y' or 'n':\")==\"y\":\n",
    "    play_game()"
   ]
  },
  {
   "cell_type": "code",
   "execution_count": 2,
   "id": "95895292-13e6-4e9a-9e04-2127a04872e1",
   "metadata": {},
   "outputs": [
    {
     "name": "stdin",
     "output_type": "stream",
     "text": [
      "enter a number: 100\n"
     ]
    },
    {
     "name": "stdout",
     "output_type": "stream",
     "text": [
      "The prime factors of 100 are: [2, 2, 5, 5]\n"
     ]
    }
   ],
   "source": [
    "#40. Write a program that generates the prime factors of a given number using trial division.\n",
    "def trial_division(n):\n",
    "    factors=[]\n",
    "    divisor=2\n",
    "    while divisor<=n:\n",
    "        if n%divisor==0:\n",
    "            factors.append(divisor)\n",
    "            n//=divisor\n",
    "        else:\n",
    "            divisor+=1\n",
    "    return factors\n",
    "number=int(input('enter a number:'))\n",
    "prime_factors=trial_division(number)\n",
    "print(f\"The prime factors of {number} are: {prime_factors}\")"
   ]
  }
 ],
 "metadata": {
  "kernelspec": {
   "display_name": "Python 3 (ipykernel)",
   "language": "python",
   "name": "python3"
  },
  "language_info": {
   "codemirror_mode": {
    "name": "ipython",
    "version": 3
   },
   "file_extension": ".py",
   "mimetype": "text/x-python",
   "name": "python",
   "nbconvert_exporter": "python",
   "pygments_lexer": "ipython3",
   "version": "3.10.8"
  }
 },
 "nbformat": 4,
 "nbformat_minor": 5
}
