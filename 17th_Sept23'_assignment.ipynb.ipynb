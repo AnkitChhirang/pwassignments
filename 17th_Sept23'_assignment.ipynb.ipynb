{
 "cells": [
  {
   "cell_type": "markdown",
   "id": "688e5106-a6f3-4f6e-81d8-462c3184e2e8",
   "metadata": {},
   "source": [
    "For Loop:"
   ]
  },
  {
   "cell_type": "code",
   "execution_count": 1,
   "id": "3853ecfa-8ee4-425b-9559-d75674d7bb91",
   "metadata": {},
   "outputs": [
    {
     "name": "stdout",
     "output_type": "stream",
     "text": [
      "0\n",
      "1\n",
      "2\n",
      "3\n",
      "4\n",
      "5\n",
      "6\n",
      "7\n",
      "8\n",
      "9\n",
      "10\n"
     ]
    }
   ],
   "source": [
    "#1.Write a Python program to print numbers from 1 to 10 using a for loop.\n",
    "for i in range(0,11):\n",
    "    print(i)"
   ]
  },
  {
   "cell_type": "raw",
   "id": "491b23c4-30e8-4b66-b79b-ffdc9d90f1f2",
   "metadata": {},
   "source": [
    "#2.Explain the difference between a for loop and a while loop in Python.\n",
    "\n",
    "For loop;-\n",
    "for loop is used when we know the number of times we need to repeat a set of instructions, for loop\n",
    "will execute a certain block of code provided untill each item in the value is processed.\n",
    "\n",
    "While loop:-\n",
    "while loop on the other side is used when we dont know the number of times we need to repeat a set of instructions,\n",
    "while loop will continue to process untill the condition provided in the code block will become false."
   ]
  },
  {
   "cell_type": "code",
   "execution_count": 12,
   "id": "e001b149-3c8e-4e19-b135-a19bb9444379",
   "metadata": {},
   "outputs": [
    {
     "name": "stdout",
     "output_type": "stream",
     "text": [
      "5050\n"
     ]
    }
   ],
   "source": [
    "#3.Write a Python program to calculate the sum of all numbers from 1 to 100 using a for loop.\n",
    "sum=0\n",
    "for num in range(1,101):\n",
    "    sum+=num\n",
    "print(sum)"
   ]
  },
  {
   "cell_type": "code",
   "execution_count": 35,
   "id": "7490e041-b9ba-4a1c-9aec-9f1c755fd14b",
   "metadata": {},
   "outputs": [
    {
     "name": "stdout",
     "output_type": "stream",
     "text": [
      "1\n",
      "2\n",
      "3\n",
      "four\n",
      "5.5\n",
      "True\n"
     ]
    }
   ],
   "source": [
    "#4.How do you iterate through a list using a for loop in Python?\n",
    "#first define a list\n",
    "my_list = [1, 2, 3, \"four\", 5.5, True]\n",
    "#second using for loop define contents of list as 'char' which will iterate through every value\n",
    "for char in my_list:\n",
    "    #print by writing 'char' in brackets because it will iterate through every value\n",
    "    print(char)\n"
   ]
  },
  {
   "cell_type": "code",
   "execution_count": 17,
   "id": "ecd08779-1bc6-4003-948e-ea192c9ee824",
   "metadata": {},
   "outputs": [
    {
     "name": "stdout",
     "output_type": "stream",
     "text": [
      "259200\n"
     ]
    }
   ],
   "source": [
    "#5.Write a Python program to find the product of all elements in a list using a for loop.\n",
    "l2=[1,2,3,4,5,5,3,3,4,12]\n",
    "product=1\n",
    "for num in l2:\n",
    "    product*=num\n",
    "print(product)"
   ]
  },
  {
   "cell_type": "code",
   "execution_count": 20,
   "id": "a9d96ce5-1d9a-4a61-827d-c65bf7167fd7",
   "metadata": {},
   "outputs": [
    {
     "name": "stdout",
     "output_type": "stream",
     "text": [
      "2\n",
      "4\n",
      "6\n",
      "8\n",
      "10\n",
      "12\n",
      "14\n",
      "16\n",
      "18\n",
      "20\n"
     ]
    }
   ],
   "source": [
    "#6.Create a Python program that prints all even numbers from 1 to 20 using a for loop.\n",
    "for num in range(1,21):\n",
    "    if num%2==0:\n",
    "        print(num)"
   ]
  },
  {
   "cell_type": "code",
   "execution_count": 24,
   "id": "90356c8e-f6dd-48cf-aabb-0890d2ab5079",
   "metadata": {},
   "outputs": [
    {
     "name": "stdin",
     "output_type": "stream",
     "text": [
      "Enter a number: 4\n"
     ]
    },
    {
     "name": "stdout",
     "output_type": "stream",
     "text": [
      "24\n"
     ]
    }
   ],
   "source": [
    "#7.Write a Python program that calculates the factorial of a number using a for loop.\n",
    "num=int(input(\"Enter a number:\"))\n",
    "factorial=1\n",
    "if num<0:\n",
    "    print(\"Factorial is not defined for negative numbers.\")\n",
    "elif num==0:\n",
    "    print(\"The factorial of 0 is 1.\")\n",
    "else:\n",
    "    for i in range(1,num+1):\n",
    "        factorial*=i\n",
    "    print(factorial)"
   ]
  },
  {
   "cell_type": "code",
   "execution_count": 37,
   "id": "81d5b142-fa45-4358-a435-3fd8250d7625",
   "metadata": {},
   "outputs": [
    {
     "name": "stdout",
     "output_type": "stream",
     "text": [
      "ankit\n",
      "classs\n"
     ]
    }
   ],
   "source": [
    "#8.How can you iterate through the characters of a string using a for loop in Python?\n",
    "#take a string for example\n",
    "strng='ankit','classs'\n",
    "#second using for loop define contents of list as 'char' which will iterate through every value\n",
    "for char in strng:\n",
    "    #print by writing 'char' in brackets because it will iterate through every value\n",
    "    print(char)"
   ]
  },
  {
   "cell_type": "code",
   "execution_count": 3,
   "id": "3f5b32d3-7cc9-4365-9f68-fe2aab51ef71",
   "metadata": {},
   "outputs": [
    {
     "name": "stdout",
     "output_type": "stream",
     "text": [
      "12\n"
     ]
    }
   ],
   "source": [
    "#9.Write a Python program to find the largest number in a list using a for loop.\n",
    "l2=[1,2,3,4,5,5,3,3,4,12]\n",
    "largest=l2[0]\n",
    "for num in l2:\n",
    "    if num>largest:\n",
    "        largest=num\n",
    "print(largest)"
   ]
  },
  {
   "cell_type": "code",
   "execution_count": 5,
   "id": "7343e16a-a530-41ab-be88-56a77db14c1b",
   "metadata": {},
   "outputs": [
    {
     "name": "stdin",
     "output_type": "stream",
     "text": [
      "Enter the limit for the Fibonacci sequence: 44\n"
     ]
    },
    {
     "name": "stdout",
     "output_type": "stream",
     "text": [
      "The Fibonacci sequence up to the limit is: [0, 1, 1, 2, 3, 5, 8, 13, 21, 34]\n"
     ]
    }
   ],
   "source": [
    "#10.Create a Python program that prints the Fibonacci sequence up to a specified limit using a for loop.\n",
    "limit=int(input(\"Enter the limit for the Fibonacci sequence:\"))\n",
    "fibo_seq=[0,1]\n",
    "for i in range(2,limit):\n",
    "    next_num=fibo_seq[i-1]+fibo_seq[i-2]\n",
    "    if next_num<=limit:\n",
    "        fibo_seq.append(next_num)\n",
    "    else:\n",
    "        break\n",
    "print(\"The Fibonacci sequence up to the limit is:\", fibo_seq)"
   ]
  },
  {
   "cell_type": "code",
   "execution_count": 8,
   "id": "ca7309e3-0622-4ca8-ab13-3ee1c4e17342",
   "metadata": {},
   "outputs": [
    {
     "name": "stdout",
     "output_type": "stream",
     "text": [
      "number of vowels in this string is: 2\n"
     ]
    }
   ],
   "source": [
    "#11.Write a Python program to count the number of vowels in a given string using a for loop.\n",
    "strng1='ankit'\n",
    "vowel='aeiou'\n",
    "count=0\n",
    "for char in strng1:\n",
    "    if char in vowel:\n",
    "        count+=1\n",
    "print('number of vowels in this string is:',count)"
   ]
  },
  {
   "cell_type": "code",
   "execution_count": 22,
   "id": "c5754866-4953-4c93-a8d5-f25de769cfa6",
   "metadata": {},
   "outputs": [
    {
     "name": "stdin",
     "output_type": "stream",
     "text": [
      "enter a number 3\n"
     ]
    },
    {
     "name": "stdout",
     "output_type": "stream",
     "text": [
      "3 x 1 = 3\n",
      "3 x 2 = 6\n",
      "3 x 3 = 9\n",
      "3 x 4 = 12\n",
      "3 x 5 = 15\n",
      "3 x 6 = 18\n",
      "3 x 7 = 21\n",
      "3 x 8 = 24\n",
      "3 x 9 = 27\n",
      "3 x 10 = 30\n"
     ]
    }
   ],
   "source": [
    "#12.Create a Python program that generates a multiplication table for a given number using a for loop.\n",
    "num=int(input('enter a number'))\n",
    "for i in range(1,11):\n",
    "    product=num*i\n",
    "    print(num, \"x\", i, \"=\", product)"
   ]
  },
  {
   "cell_type": "code",
   "execution_count": 30,
   "id": "62c935a5-8706-4b95-87e3-7ece33754615",
   "metadata": {},
   "outputs": [
    {
     "name": "stdout",
     "output_type": "stream",
     "text": [
      "[34, 21, 13, 8, 5, 3, 2, 1, 1, 0]\n"
     ]
    }
   ],
   "source": [
    "#13.Write a Python program to reverse a list using a for loop.\n",
    "l3=[0,1,1,2,3,5,8,13,21,34]\n",
    "revlst=[]\n",
    "for char in l3:\n",
    "    revlst=l3[::-1]\n",
    "print(revlst)"
   ]
  },
  {
   "cell_type": "code",
   "execution_count": 11,
   "id": "4b7e6802-b7fe-4639-ac54-465f62f4686e",
   "metadata": {},
   "outputs": [
    {
     "name": "stdout",
     "output_type": "stream",
     "text": [
      "[1, 2, 3, 5]\n"
     ]
    }
   ],
   "source": [
    "#14.Write a Python program to find the common elements between two lists using a for loop.\n",
    "l14=[0,1,2,3,5,8,13,21,34]\n",
    "l14_2=[1,2,4,5,3,4,12]\n",
    "commonele=[]\n",
    "for element in l14:\n",
    "    if element in l14_2:\n",
    "        commonele.append(element)\n",
    "print(commonele)"
   ]
  },
  {
   "cell_type": "code",
   "execution_count": 13,
   "id": "54a9b4e0-c38c-43a4-af29-c0259107601d",
   "metadata": {},
   "outputs": [
    {
     "name": "stdout",
     "output_type": "stream",
     "text": [
      "name ankit\n",
      "age 20\n",
      "city jaipur\n"
     ]
    }
   ],
   "source": [
    "#15.Explain how to use a for loop to iterate through the keys and values of a dictionary in Python.\n",
    "#take a dictionary for practise\n",
    "mydict15={'name':'ankit','age':20,'city':'jaipur'}\n",
    "#using for loop, we use key and value characters to callout key and value from the example dictionary and using items function\n",
    "#which targets contents of a dictionary\n",
    "for key,value in mydict15.items():\n",
    "    #using print function we print key and value\n",
    "    print(key,value)"
   ]
  },
  {
   "cell_type": "code",
   "execution_count": 20,
   "id": "c466aad9-ca14-4171-8692-69301e0e23e3",
   "metadata": {},
   "outputs": [
    {
     "name": "stdin",
     "output_type": "stream",
     "text": [
      "enter a number 66\n",
      "enter second number 55\n"
     ]
    },
    {
     "name": "stdout",
     "output_type": "stream",
     "text": [
      "the gcd of 66 and 55 is: 11\n"
     ]
    }
   ],
   "source": [
    "#16.Write a Python program to find the GCD (Greatest Common Divisor) of two numbers using a for loop.\n",
    "def calculate_gcd(num16,num16_2):\n",
    "    min_num=min(num16,num16_2)\n",
    "    gcd=1\n",
    "    for i in range(1,min_num+1):\n",
    "        if num16%i==0 and num16_2%i==0:\n",
    "            gcd=i\n",
    "    return gcd\n",
    "num16=int(input('enter a number'))\n",
    "num16_2=int(input('enter second number'))\n",
    "result=calculate_gcd(num16,num16_2)\n",
    "print(\"the gcd of\",num16,\"and\",num16_2,\"is:\",result)"
   ]
  },
  {
   "cell_type": "code",
   "execution_count": 3,
   "id": "042c47e7-4edd-49ae-9c07-69963cf01f65",
   "metadata": {},
   "outputs": [
    {
     "name": "stdin",
     "output_type": "stream",
     "text": [
      "enter a string racecar\n"
     ]
    },
    {
     "name": "stdout",
     "output_type": "stream",
     "text": [
      "yes, this string is palindrome\n"
     ]
    }
   ],
   "source": [
    "#17.Create a Python program that checks if a string is a palindrome using a for loop.\n",
    "strng17=str(input('enter a string'))\n",
    "strng17=strng17.replace(' ','').lower()\n",
    "is_palindrome=True\n",
    "for i in range(len(strng17)//2):\n",
    "    if strng17[i]!=strng17[-1-i]:\n",
    "        if_palindrome=False\n",
    "        break\n",
    "if is_palindrome:\n",
    "    print('yes, this string is palindrome')\n",
    "else:\n",
    "    print('no, this string is not palindrome')"
   ]
  },
  {
   "cell_type": "code",
   "execution_count": 5,
   "id": "357fe6ca-96ec-43d7-a0dc-b8e48161dd82",
   "metadata": {},
   "outputs": [
    {
     "name": "stdout",
     "output_type": "stream",
     "text": [
      "without duplicates: [0, 1, 2, 3, 5, 8, 34, 13, 21]\n"
     ]
    }
   ],
   "source": [
    "#18.Write a Python program to remove duplicates from a list using a for loop.\n",
    "l18=[0,1,2,3,5,8,34,34,3,13,21,34]\n",
    "l18_2=[]\n",
    "for element in l18:\n",
    "    if element not in l18_2:\n",
    "        l18_2.append(element)\n",
    "print('without duplicates:',l18_2)"
   ]
  },
  {
   "cell_type": "code",
   "execution_count": 10,
   "id": "ac857771-2095-444f-92cb-2e8026e7a042",
   "metadata": {},
   "outputs": [
    {
     "name": "stdin",
     "output_type": "stream",
     "text": [
      "enter a string ankit\n"
     ]
    },
    {
     "name": "stdout",
     "output_type": "stream",
     "text": [
      "total words in this string: 5\n"
     ]
    }
   ],
   "source": [
    "#19.Create a Python program that counts the number of words in a sentence using a for loop.\n",
    "strng19=str(input('enter a string'))\n",
    "count=0\n",
    "for i in strng19:\n",
    "    count+=1\n",
    "print('total words in this string:',count)"
   ]
  },
  {
   "cell_type": "code",
   "execution_count": 23,
   "id": "2670127c-a0f8-439b-bfb7-d22cf3564e54",
   "metadata": {},
   "outputs": [
    {
     "name": "stdout",
     "output_type": "stream",
     "text": [
      "625\n"
     ]
    }
   ],
   "source": [
    "#20.Write a Python program to find the sum of all odd numbers from 1 to 50 using a for loop.\n",
    "l19=[]\n",
    "for num in range(1,51):\n",
    "    if num%2!=0:\n",
    "        l19.append(num)\n",
    "print(sum(l19))"
   ]
  },
  {
   "cell_type": "code",
   "execution_count": 54,
   "id": "62bca68c-3edb-448a-a1dd-2c123470441f",
   "metadata": {},
   "outputs": [
    {
     "name": "stdin",
     "output_type": "stream",
     "text": [
      "enter year in digit: 2024\n"
     ]
    },
    {
     "name": "stdout",
     "output_type": "stream",
     "text": [
      "2024 is a leap year\n"
     ]
    }
   ],
   "source": [
    "#21.Write a Python program that checks if a given year is a leap year using a for loop.\n",
    "year20=int(input('enter year in digit:'))\n",
    "is_leap=False\n",
    "for _ in range(1):\n",
    "    if year20%4==0:\n",
    "        if year20%100==0:\n",
    "            if year20%400==0:\n",
    "                is_leap=True\n",
    "        else:\n",
    "            is_leap=True\n",
    "if is_leap:\n",
    "    print(year20,'is a leap year')\n",
    "else:\n",
    "    print(year20,'is not a leap year')"
   ]
  },
  {
   "cell_type": "code",
   "execution_count": 75,
   "id": "f0604899-b963-4cd3-92c5-830f1caa47c8",
   "metadata": {},
   "outputs": [
    {
     "name": "stdin",
     "output_type": "stream",
     "text": [
      "enter a number 3\n"
     ]
    },
    {
     "name": "stdout",
     "output_type": "stream",
     "text": [
      "approximate square root of 3.0 is:, 1.7320508075688772\n"
     ]
    }
   ],
   "source": [
    "#22.Create a Python program that calculates the square root of a number using a for loop.\n",
    "number=float(input('enter a number'))\n",
    "guess=number\n",
    "iterations=10\n",
    "for _ in range(iterations):\n",
    "    guess=0.5*(guess+number/guess)\n",
    "print(f'approximate square root of {number} is:, {guess}')"
   ]
  },
  {
   "cell_type": "code",
   "execution_count": 78,
   "id": "47d515ef-b818-46e3-808f-cb62d8bc7f4e",
   "metadata": {},
   "outputs": [
    {
     "name": "stdin",
     "output_type": "stream",
     "text": [
      "enter first number 4\n",
      "enter second number 6\n"
     ]
    },
    {
     "name": "stdout",
     "output_type": "stream",
     "text": [
      "lcm of 4 and 6 is 12\n"
     ]
    }
   ],
   "source": [
    "#23.Write a Python program to find the LCM (Least Common Multiple) of two numbers using a for loop.\n",
    "def cal_lcm(num1,num2):\n",
    "    max_num=max(num1,num2)\n",
    "    for i in range(max_num,num1*num2+1):\n",
    "        if i%num1==0 and i%num2==0:\n",
    "            lcm=i\n",
    "            break\n",
    "    return lcm\n",
    "num1=int(input('enter first number'))\n",
    "num2=int(input('enter second number'))\n",
    "lcm=cal_lcm(num1,num2)\n",
    "print(f'lcm of {num1} and {num2} is {lcm}')"
   ]
  },
  {
   "cell_type": "markdown",
   "id": "033ff8d3-ae54-47df-9084-fb71e2b49078",
   "metadata": {},
   "source": [
    "If else:"
   ]
  },
  {
   "cell_type": "code",
   "execution_count": 5,
   "id": "d7ef6db3-f4cf-4a12-9385-9a2b66c92bce",
   "metadata": {},
   "outputs": [
    {
     "name": "stdin",
     "output_type": "stream",
     "text": [
      "enter a number: 0\n"
     ]
    },
    {
     "data": {
      "text/plain": [
       "'zero'"
      ]
     },
     "execution_count": 5,
     "metadata": {},
     "output_type": "execute_result"
    }
   ],
   "source": [
    "#1.Write a Python program to check if a number is positive, negative, or zero using an if-else statement.\n",
    "def nega_num(n):\n",
    "    if n<0:\n",
    "        return 'negative number'\n",
    "    elif n==0:\n",
    "        return 'zero'\n",
    "    else:\n",
    "        return 'positive number'\n",
    "nega_num(int(input('enter a number:')))"
   ]
  },
  {
   "cell_type": "code",
   "execution_count": 6,
   "id": "e5e5dbdc-49f0-4f26-bc44-4eef1b3b57f4",
   "metadata": {},
   "outputs": [
    {
     "name": "stdin",
     "output_type": "stream",
     "text": [
      "enter a number: 2\n"
     ]
    },
    {
     "name": "stdout",
     "output_type": "stream",
     "text": [
      "even number\n"
     ]
    }
   ],
   "source": [
    "#2.Create a Python program that checks if a given number is even or odd using an if-else statement.\n",
    "num6=int(input('enter a number:'))\n",
    "if num6%2==0:\n",
    "    print('even number')\n",
    "else:\n",
    "    print('odd number')"
   ]
  },
  {
   "cell_type": "code",
   "execution_count": 7,
   "id": "d255b40e-8a45-4d1c-9f65-5a972fb649dc",
   "metadata": {},
   "outputs": [
    {
     "name": "stdin",
     "output_type": "stream",
     "text": [
      "enter first number: 3\n",
      "enter second number: 2\n",
      "enter third number: 1\n"
     ]
    },
    {
     "name": "stdout",
     "output_type": "stream",
     "text": [
      "largest number is: 3\n"
     ]
    }
   ],
   "source": [
    "#3.How can you use nested if-else statements in Python, and provide an example?\n",
    "#we can use if-else nested statements in python by using if and else statements, In nested if-else statements\n",
    "#we nest if staments and else should be used in the last and one time, when we have multiple type of situation under situation\n",
    "#we use nested if-else statement.\n",
    "#for example I have given a situation where we have to take three numbers and then compare them to find the largest among them\n",
    "#so in this type of situation we use nested if-else statements.\n",
    "num11=int(input('enter first number:'))\n",
    "num11_2=int(input('enter second number:'))\n",
    "num11_3=int(input('enter third number:'))\n",
    "if num11>=num11_2 and num11>=num11_3:\n",
    "    print('largest number is:',num11)\n",
    "    if num11_2>num11 and num11_2>=num11_3:\n",
    "         print('largest number is:',num11_2)\n",
    "else:\n",
    "     print('largest number is:',num11_3)"
   ]
  },
  {
   "cell_type": "code",
   "execution_count": 8,
   "id": "52ff0db5-4dd5-483b-a091-6fff6409e672",
   "metadata": {},
   "outputs": [
    {
     "name": "stdin",
     "output_type": "stream",
     "text": [
      "enter first number: 2\n",
      "enter second number: 3\n",
      "enter third number: 1\n"
     ]
    },
    {
     "name": "stdout",
     "output_type": "stream",
     "text": [
      "largest number is: 1\n"
     ]
    }
   ],
   "source": [
    "#4.Write a Python program to determine the largest of three numbers using if-else.\n",
    "num4=int(input('enter first number:'))\n",
    "num4_2=int(input('enter second number:'))\n",
    "num4_3=int(input('enter third number:'))\n",
    "if num4>=num4_2 and num4>=num4_3:\n",
    "    print('largest number is:',num4)\n",
    "    if num4_2>num4 and num4_2>=num4_3:\n",
    "         print('largest number is:',num4_2)\n",
    "else:\n",
    "     print('largest number is:',num4_3)"
   ]
  },
  {
   "cell_type": "code",
   "execution_count": 12,
   "id": "95853356-13fe-4bd2-aab2-484145fa3725",
   "metadata": {},
   "outputs": [
    {
     "name": "stdin",
     "output_type": "stream",
     "text": [
      "enter a number: 6\n"
     ]
    },
    {
     "name": "stdout",
     "output_type": "stream",
     "text": [
      "the absolute value of 6.0 is 6.0\n"
     ]
    }
   ],
   "source": [
    "#5.Write a Python program that calculates the absolute value of a number using if-else.\n",
    "num5=float(input('enter a number:'))\n",
    "if num5<0:\n",
    "    abs_value=-num5\n",
    "else:\n",
    "    abs_value=num5\n",
    "print(f'the absolute value of {num5} is {abs_value}')"
   ]
  },
  {
   "cell_type": "code",
   "execution_count": 14,
   "id": "ddc26832-cc19-492f-904e-3024b0d27563",
   "metadata": {},
   "outputs": [
    {
     "name": "stdin",
     "output_type": "stream",
     "text": [
      "enter a character f\n"
     ]
    },
    {
     "name": "stdout",
     "output_type": "stream",
     "text": [
      "f , character is consonant\n"
     ]
    }
   ],
   "source": [
    "#6.Create a Python program that checks if a given character is a vowel or consonant using if-else.\n",
    "def is_vowel(char):\n",
    "    vowel='aeiouAEIOU'\n",
    "    consonant='bcdfghjklmnpqrstvwxyzBCDFGHJKLMNPQRSTVWXYZ'\n",
    "    if char in vowel:\n",
    "            return 'character is vowel'\n",
    "    else:\n",
    "            return 'character is consonant'\n",
    "character=str(input('enter a character'))\n",
    "isvowel=is_vowel(character)\n",
    "print(character,',',isvowel)"
   ]
  },
  {
   "cell_type": "code",
   "execution_count": 15,
   "id": "b95e5ed8-8a84-4cec-969e-86fad53bccae",
   "metadata": {},
   "outputs": [
    {
     "name": "stdin",
     "output_type": "stream",
     "text": [
      "enter your age 20\n"
     ]
    },
    {
     "data": {
      "text/plain": [
       "'eligible to vote'"
      ]
     },
     "execution_count": 15,
     "metadata": {},
     "output_type": "execute_result"
    }
   ],
   "source": [
    "#7.Write a Python program to determine if a user is eligible to vote based on their age using if-else.\n",
    "def vote_age(n):\n",
    "    if n<18:\n",
    "        return 'not eligible to vote'\n",
    "    else:\n",
    "        return 'eligible to vote'\n",
    "vote_age(int(input('enter your age')))"
   ]
  },
  {
   "cell_type": "code",
   "execution_count": 18,
   "id": "bd824661-aaa5-43b0-b306-76b36d208f9f",
   "metadata": {},
   "outputs": [
    {
     "name": "stdin",
     "output_type": "stream",
     "text": [
      "enter the payment amount. 34432\n"
     ]
    },
    {
     "name": "stdout",
     "output_type": "stream",
     "text": [
      "recieved a 10.0% discount.\n",
      "discounted price is:Rs30988.80\n"
     ]
    }
   ],
   "source": [
    "#8.Create a Python program that calculates the discount amount based on the purchase amount using if-else.\n",
    "purchase_amount=float(input('enter the payment amount.'))\n",
    "discounted=0\n",
    "if purchase_amount>=7450:\n",
    "    discounted=0.1\n",
    "elif purchase_amount>=3725:\n",
    "    discounted=0.05\n",
    "discounted_pay=purchase_amount*(1-discounted)\n",
    "if discounted>0:\n",
    "    print(f\"recieved a {discounted*100}% discount.\")\n",
    "    print(f\"discounted price is:Rs{discounted_pay:.2f}\")\n",
    "else:\n",
    "    print(f\"no discount applicable. your total:Rs{purchase_amount:.2f}\")"
   ]
  },
  {
   "cell_type": "code",
   "execution_count": 23,
   "id": "8341dce6-1d98-40b0-8f1d-0f30ca0492fb",
   "metadata": {},
   "outputs": [
    {
     "name": "stdin",
     "output_type": "stream",
     "text": [
      "enter a number 6\n"
     ]
    },
    {
     "name": "stdout",
     "output_type": "stream",
     "text": [
      "yes, the number is within a specified range\n"
     ]
    }
   ],
   "source": [
    "#9.Write a Python program to check if a number is within a specified range using if-else.\n",
    "int9=int(input('enter a number'))\n",
    "if int9>5 and int9<10:\n",
    "    print('yes, the number is within a specified range')\n",
    "else:\n",
    "    print('no, the number is not within a specified range')"
   ]
  },
  {
   "cell_type": "code",
   "execution_count": 25,
   "id": "bc423fe6-b549-4642-bcfa-fb67103069a2",
   "metadata": {},
   "outputs": [
    {
     "name": "stdin",
     "output_type": "stream",
     "text": [
      "enter your score 1-100: 78\n"
     ]
    },
    {
     "name": "stdout",
     "output_type": "stream",
     "text": [
      "your grade is B\n"
     ]
    }
   ],
   "source": [
    "#10.Create a Python program that determines the grade of a student based on their score using if-else.\n",
    "grade10=int(input('enter your score 1-100:'))\n",
    "if grade10>=90:\n",
    "    print('your grade is A+')\n",
    "elif grade10>=85:\n",
    "    print('your grade is A')\n",
    "elif grade10>=75:\n",
    "    print('your grade is B')\n",
    "elif grade10>=65:\n",
    "    print('your grade is C')\n",
    "elif grade10>=55:\n",
    "    print('your grade is D')\n",
    "elif grade10>=45:\n",
    "    print('your grade is F')\n",
    "else:\n",
    "    print('Fail')"
   ]
  },
  {
   "cell_type": "code",
   "execution_count": 29,
   "id": "94858add-3119-456c-9d58-42d3d073e22b",
   "metadata": {},
   "outputs": [
    {
     "name": "stdin",
     "output_type": "stream",
     "text": [
      "enter a string: \n"
     ]
    },
    {
     "name": "stdout",
     "output_type": "stream",
     "text": [
      "string is empty\n"
     ]
    }
   ],
   "source": [
    "#11.Write a Python program to check if a string is empty or not using if-else.\n",
    "userstrng=input('enter a string:')\n",
    "if not userstrng:\n",
    "    print('string is empty')\n",
    "else:\n",
    "    print('string is not empty')"
   ]
  },
  {
   "cell_type": "code",
   "execution_count": 30,
   "id": "03217a9f-a152-473a-961f-eb781dfe3663",
   "metadata": {},
   "outputs": [
    {
     "name": "stdin",
     "output_type": "stream",
     "text": [
      "enter first side: 23\n",
      "enter second side: 34\n",
      "enter third side: 23\n"
     ]
    },
    {
     "name": "stdout",
     "output_type": "stream",
     "text": [
      "isosceles triangel\n"
     ]
    }
   ],
   "source": [
    "#12.Create a Python program that identifies the type of a triangle (e.g., equilateral, isosceles, or scalene) based on input values using if-else.\n",
    "side1=int(input('enter first side:'))\n",
    "side2=int(input('enter second side:'))\n",
    "side3=int(input('enter third side:'))\n",
    "if side1==side2==side3:\n",
    "    print('equilaterial triangel')\n",
    "else:\n",
    "    if side1==side2 or side1==side3 or side2==side3:\n",
    "        print('isosceles triangel')\n",
    "    else:\n",
    "        print('scalene triangle')"
   ]
  },
  {
   "cell_type": "code",
   "execution_count": 32,
   "id": "80c15c62-70b8-444f-8d27-25afd471aa96",
   "metadata": {},
   "outputs": [
    {
     "name": "stdin",
     "output_type": "stream",
     "text": [
      "enter the number of day of week 0-7: 7\n"
     ]
    },
    {
     "name": "stdout",
     "output_type": "stream",
     "text": [
      "sunday\n"
     ]
    }
   ],
   "source": [
    "#13.Write a Python program to determine the day of the week based on a user-provided number using if-else.\n",
    "daydigit=int(input('enter the number of day of week 0-7:'))\n",
    "if daydigit==1:\n",
    "    print('monday')\n",
    "if daydigit==2:\n",
    "    print('tuesday')\n",
    "if daydigit==3:\n",
    "    print('wednesday')\n",
    "if daydigit==4:\n",
    "    print('thursday')\n",
    "if daydigit==5:\n",
    "    print('friday')\n",
    "if daydigit==6:\n",
    "    print('saturday')\n",
    "else:\n",
    "    if daydigit==7:\n",
    "        print('sunday')"
   ]
  },
  {
   "cell_type": "code",
   "execution_count": 5,
   "id": "ecad78a2-d3c8-4db2-9e89-dcdd8c2dc962",
   "metadata": {},
   "outputs": [
    {
     "name": "stdin",
     "output_type": "stream",
     "text": [
      "enter a year: 2026\n"
     ]
    },
    {
     "name": "stdout",
     "output_type": "stream",
     "text": [
      "no, not a leap year\n"
     ]
    }
   ],
   "source": [
    "#14.Create a Python program that checks if a given year is a leap year using both if-else and a function.\n",
    "def is_leap(year):\n",
    "    if(year%4==0 and year%100!=0)or(year%400==0):\n",
    "        return True\n",
    "    else:\n",
    "        return False\n",
    "year=int(input('enter a year:'))\n",
    "if is_leap(year):\n",
    "    print('yes, this is a leap year')\n",
    "else:\n",
    "    print('no, not a leap year')"
   ]
  },
  {
   "cell_type": "code",
   "execution_count": 6,
   "id": "39f265f7-6d55-4e50-802a-8b8257c776cf",
   "metadata": {},
   "outputs": [],
   "source": [
    "#15.How do you use the \"assert\" statement in Python to add debugging checks within if-else blocks?\n",
    "#you can use assert in python like the given example:-\n",
    "x=4\n",
    "if x>0:\n",
    "    assert x <10 #in this line the variable x should be less than 10 if not assert will raise 'assertion error'\n",
    "else:\n",
    "    assert x >=0\n",
    "#in the given example if the condition is false then assert will raise error 'assertion error'\n",
    "#and point out where the error is so that you can correct it/or to help you find bugs in your code, or to debug/test it."
   ]
  },
  {
   "cell_type": "code",
   "execution_count": 11,
   "id": "d298a64f-ef27-421d-a5f8-2ca616824d6d",
   "metadata": {},
   "outputs": [
    {
     "name": "stdin",
     "output_type": "stream",
     "text": [
      "enter your age 20\n"
     ]
    },
    {
     "name": "stdout",
     "output_type": "stream",
     "text": [
      "no, you are not eligible for a senior citizen discount\n"
     ]
    }
   ],
   "source": [
    "#16.Create a Python program that determines the eligibility of a person for a senior citizen \n",
    "#discount based on age using if-else.\n",
    "enterage=int(input('enter your age'))\n",
    "if enterage>=60:\n",
    "    print('yes, you are eligible for a senior citizen discount')\n",
    "else:\n",
    "    print('no, you are not eligible for a senior citizen discount')"
   ]
  },
  {
   "cell_type": "code",
   "execution_count": 14,
   "id": "ba70d770-2a37-4dff-a6f5-2927ec3df4b9",
   "metadata": {},
   "outputs": [
    {
     "name": "stdin",
     "output_type": "stream",
     "text": [
      "enter a character W\n"
     ]
    },
    {
     "name": "stdout",
     "output_type": "stream",
     "text": [
      "W is uppercase\n"
     ]
    }
   ],
   "source": [
    "#17.Write a Python program to categorize a given character as uppercase, lowercase, or neither using if-else.\n",
    "strng17=(input('enter a character'))\n",
    "if strng17.isupper():\n",
    "    print(strng17,'is uppercase')\n",
    "elif strng17.islower():\n",
    "    print(strng17,'is lowercase')\n",
    "else:\n",
    "    print(strng17,'is neither')"
   ]
  },
  {
   "cell_type": "code",
   "execution_count": 16,
   "id": "cc5b64ff-8cf4-4490-a4bf-e8f8fa00e2de",
   "metadata": {},
   "outputs": [
    {
     "name": "stdin",
     "output_type": "stream",
     "text": [
      "enter first coefficient: 1\n",
      "enter second coefficient: -4\n",
      "enter third coefficient: 2\n"
     ]
    },
    {
     "name": "stdout",
     "output_type": "stream",
     "text": [
      "root1: 3.414213562373095\n",
      "root2: 0.5857864376269049\n"
     ]
    }
   ],
   "source": [
    "#18.Write a Python program to determine the roots of a quadratic equation using if-else.\n",
    "import math\n",
    "a=int(input('enter first coefficient:'))\n",
    "b=int(input('enter second coefficient:'))\n",
    "c=int(input('enter third coefficient:'))\n",
    "discriminant1=b**2-4*a*c\n",
    "if discriminant1>0:\n",
    "    root1=(-b+math.sqrt(discriminant1))/(2*a)\n",
    "    root2=(-b-math.sqrt(discriminant1))/(2*a)\n",
    "    print('root1:',root1)\n",
    "    print('root2:',root2)\n",
    "elif discriminant1==0:\n",
    "    root=-b/(2*a)\n",
    "    print('root:',root)\n",
    "else:\n",
    "    realpart=-b/(2*a)\n",
    "    imaginarypart=math.sqrt(-discriminant1)/(2*a)\n",
    "    print('root1:',complex(realpart, imaginarypart))\n",
    "    print('root2:',complex(realpart,-imaginarypart))"
   ]
  },
  {
   "cell_type": "code",
   "execution_count": 21,
   "id": "ffed5357-b879-4e48-99cb-d4eba9b793e4",
   "metadata": {},
   "outputs": [
    {
     "name": "stdin",
     "output_type": "stream",
     "text": [
      "enter year in digit: 2000\n"
     ]
    },
    {
     "name": "stdout",
     "output_type": "stream",
     "text": [
      "2000 is a century year.\n"
     ]
    }
   ],
   "source": [
    "#19.Create a Python program that checks if a given year is a century year or not using if-else.\n",
    "year19=int(input('enter year in digit:'))\n",
    "if year19%100==0:\n",
    "    print(year19,'is a century year.')\n",
    "else:\n",
    "    print(year19,'is not a century year.')"
   ]
  },
  {
   "cell_type": "code",
   "execution_count": 24,
   "id": "90fc6bb6-bdbe-4279-8f3c-712155d458f8",
   "metadata": {},
   "outputs": [
    {
     "name": "stdin",
     "output_type": "stream",
     "text": [
      "enter a number: 4\n"
     ]
    },
    {
     "name": "stdout",
     "output_type": "stream",
     "text": [
      "4 is a perfect square\n"
     ]
    }
   ],
   "source": [
    "#20.Write a Python program to determine if a given number is a perfect square using if-else.\n",
    "import math\n",
    "number=int(input('enter a number:'))\n",
    "if number>0:\n",
    "    square_root=math.sqrt(number)\n",
    "    if square_root.is_integer():\n",
    "        print(f'{number} is a perfect square')\n",
    "    else:\n",
    "        print(f'{number} is not a perfect square')\n",
    "else:\n",
    "    print('enter a positive number')"
   ]
  },
  {
   "cell_type": "code",
   "execution_count": 36,
   "id": "abe3732d-bf9d-4e3b-8dc3-ab5bac83f4b4",
   "metadata": {},
   "outputs": [
    {
     "name": "stdout",
     "output_type": "stream",
     "text": [
      "1\n",
      "2\n",
      "3\n",
      "4\n",
      "found 5\n"
     ]
    }
   ],
   "source": [
    "#21.Explain the purpose of the \"continue\" and \"break\" statements within if-else loops.\n",
    "#to control the flow of the program we use 'continue' and 'break' statements\n",
    "#the 'continue' statement skip the current iteration of a loop and move to the next iteration.\n",
    "#to skip certain conditions within a loop but continue looping.\n",
    "\n",
    "#example:-\n",
    "for number in range(0,11):\n",
    "    if number%2==0:\n",
    "        continue\n",
    "        print(number)\n",
    "        \n",
    "#'break' statement is used to exit a loop without meeting its condition\n",
    "#if you want to meet a certain condition and then you want to break the loop you can use 'break' statement.\n",
    "\n",
    "#example:-\n",
    "for number1 in range(1,10):\n",
    "    if number1==5:\n",
    "        print('found 5')\n",
    "        break\n",
    "    print(number1)"
   ]
  },
  {
   "cell_type": "code",
   "execution_count": 39,
   "id": "a97e5e86-927b-4435-8b7f-c3e96dc1a6e6",
   "metadata": {},
   "outputs": [
    {
     "name": "stdin",
     "output_type": "stream",
     "text": [
      "enter your weight in kilograms: 80\n",
      "enter your height in meters: 2\n"
     ]
    },
    {
     "name": "stdout",
     "output_type": "stream",
     "text": [
      "your bmi is:- 20.0\n"
     ]
    }
   ],
   "source": [
    "#22.Create a Python program that calculates the BMI (Body Mass Index) \n",
    "#of a person based on their weight and height using if-else.\n",
    "weight=float(input('enter your weight in kilograms:'))\n",
    "height=float(input('enter your height in meters:'))\n",
    "bmi=weight/(height**2)\n",
    "print('your bmi is:-',bmi )"
   ]
  },
  {
   "cell_type": "code",
   "execution_count": 43,
   "id": "50461505-c8ff-4794-80cb-b9270c3a366c",
   "metadata": {},
   "outputs": [
    {
     "name": "stdout",
     "output_type": "stream",
     "text": [
      "even numbers: [4, 4, 56, 432, 4, 4]\n"
     ]
    }
   ],
   "source": [
    "#23.How can you use the \"filter()\" function with if-else statements to filter elements from a list?\n",
    "#by the given example below we can use the 'filter()' example with if\n",
    "num23=[1,23,4,4,5,56,432,4,23,4]\n",
    "filtered_numbers=filter(lambda x:x%2==0,num23)\n",
    "even_numbers=list(filtered_numbers)\n",
    "if even_numbers:\n",
    "    print('even numbers:',even_numbers)\n",
    "else:\n",
    "    print('no even numbers found')"
   ]
  },
  {
   "cell_type": "code",
   "execution_count": 52,
   "id": "241c11ac-3c8d-41b7-9b5d-cfcec89d7c48",
   "metadata": {},
   "outputs": [
    {
     "name": "stdin",
     "output_type": "stream",
     "text": [
      "enter a number: 20\n"
     ]
    },
    {
     "name": "stdout",
     "output_type": "stream",
     "text": [
      "20 is not a prime number\n"
     ]
    }
   ],
   "source": [
    "#24.Write a Python program to determine if a given number is prime or not using if-else.\n",
    "num24=int(input('enter a number:'))\n",
    "if num24>1 and all(num24%i!=0 for i in range(2, int(num24**0.5)+1)):\n",
    "    print(f'{num24} is a prime number')\n",
    "else:\n",
    "    print(f'{num24} is not a prime number')"
   ]
  },
  {
   "cell_type": "markdown",
   "id": "9f8a4822-0e3a-4fec-b23b-c13284339de7",
   "metadata": {},
   "source": [
    "Map:-"
   ]
  },
  {
   "cell_type": "code",
   "execution_count": 56,
   "id": "88fd1289-15b9-4d2a-beb0-02e17a1aa47a",
   "metadata": {},
   "outputs": [
    {
     "name": "stdout",
     "output_type": "stream",
     "text": [
      "[1, 4, 9, 16, 16, 25, 2809]\n"
     ]
    }
   ],
   "source": [
    "#1.Explain the purpose of the `map()` function in Python and provide an example \n",
    "#of how it can be used to apply a function to each element of an iterable.\n",
    "\n",
    "#the map() function is used to apply a specific function to each item in an iterable in list,string,tuple and\n",
    "#return a new iterable containing result,\n",
    "#it is a built in function\n",
    "\n",
    "def square(x):\n",
    "    return x*x\n",
    "num1=[1,2,3,4,4,5,53]\n",
    "squared_num=map(square,num1) #ny map we can hold every value in a variable and apply the function\n",
    "squared_num_lst=list(squared_num)\n",
    "print(squared_num_lst)"
   ]
  },
  {
   "cell_type": "code",
   "execution_count": 57,
   "id": "12724716-ebb2-4dcd-8214-af46333dcd51",
   "metadata": {},
   "outputs": [
    {
     "name": "stdout",
     "output_type": "stream",
     "text": [
      "[9, 16, 9, 36, 16, 49, 36, 49, 25]\n"
     ]
    }
   ],
   "source": [
    "#2.Write a Python program that uses the `map()` function to square each element of a list of numbers.\n",
    "def square(x):\n",
    "    return x*x\n",
    "num2=[3,4,3,6,4,7,6,7,5]\n",
    "squared_num=map(square,num2) #ny map we can hold every value in a variable and apply the function\n",
    "squared_num_lst=list(squared_num)\n",
    "print(squared_num_lst)"
   ]
  },
  {
   "cell_type": "code",
   "execution_count": 1,
   "id": "d3938423-1694-438d-92ac-381d6771c23b",
   "metadata": {},
   "outputs": [],
   "source": [
    "#3.How does the `map()` function differ from a list comprehension in Python,\n",
    "#and when would you choose one over the other?\n",
    "\n",
    "#the map() function requires a function as first arguement to work and returns a map object which can be converted to \n",
    "#list if required where as in list comprehension uses a concise and python inclined syntax and returns a list directly\n",
    "\n",
    "#map() function can be used when we have an existing function that you want to apply to each element of an iterable\n",
    "#list comprehension can be used when we need to create a new list or transfer data in a concise and readable manner."
   ]
  },
  {
   "cell_type": "code",
   "execution_count": 2,
   "id": "74ffff87-98b5-4d62-ac84-659ba11d7fff",
   "metadata": {},
   "outputs": [
    {
     "name": "stdout",
     "output_type": "stream",
     "text": [
      "['ANKIT', 'NITAI', 'GAURA']\n"
     ]
    }
   ],
   "source": [
    "#4.Create a Python program that uses the `map()` function to convert a list of names to uppercase.\n",
    "list_of_names=['ankit','nitai','gaura']\n",
    "uppercase_names=list(map(str.upper,list_of_names))\n",
    "print(uppercase_names)"
   ]
  },
  {
   "cell_type": "code",
   "execution_count": 8,
   "id": "6d6f09e1-c841-4d9c-8a30-3732d1ff73e1",
   "metadata": {},
   "outputs": [
    {
     "name": "stdout",
     "output_type": "stream",
     "text": [
      "[5, 5, 5]\n"
     ]
    }
   ],
   "source": [
    "#5.Write a Python program that uses the `map()` function to calculate the length of each word in a list of strings.\n",
    "list_of_names=['ankit','nitai','gaura']\n",
    "length_of_word=list(map(len,list_of_names))\n",
    "print(length_of_word)"
   ]
  },
  {
   "cell_type": "code",
   "execution_count": 10,
   "id": "a02f12b3-18b5-4fd9-a02c-0487d194aaa1",
   "metadata": {},
   "outputs": [
    {
     "name": "stdout",
     "output_type": "stream",
     "text": [
      "[8, 9, 8]\n"
     ]
    }
   ],
   "source": [
    "#6.How can you use the `map()` function to apply a custom function to elements of\n",
    "#multiple lists simultaneously in Python?\n",
    "\n",
    "#first we a custom function\n",
    "def multiply(x,y):\n",
    "    return x*y\n",
    "#then we need two lists or more if you like\n",
    "list1=[2,3,4]\n",
    "list2=[4,3,2]\n",
    "#use map() funtion to apply the custom funtion to the code\n",
    "output=list(map(multiply,list1,list2))\n",
    "#at last print output\n",
    "print(output)"
   ]
  },
  {
   "cell_type": "code",
   "execution_count": 11,
   "id": "f495a8b3-e844-4b02-89e0-4e5e7138743a",
   "metadata": {},
   "outputs": [
    {
     "name": "stdout",
     "output_type": "stream",
     "text": [
      "[32.0, 77.0, 59.0, 104.0]\n"
     ]
    }
   ],
   "source": [
    "#7.Create a Python program that uses `map()` to convert a list of temperatures from Celsius to Fahrenheit.\n",
    "def fahrenheit(celsius):\n",
    "    return (celsius*9/5)+32\n",
    "\n",
    "temp_in_cel=[0,25,15,40]\n",
    "fahrenheit_temp=list(map(fahrenheit,temp_in_cel))\n",
    "print(fahrenheit_temp)"
   ]
  },
  {
   "cell_type": "code",
   "execution_count": 12,
   "id": "24e949e2-0fe8-4a3d-ab99-83f53c924427",
   "metadata": {},
   "outputs": [
    {
     "name": "stdout",
     "output_type": "stream",
     "text": [
      "[4, 5, 57]\n"
     ]
    }
   ],
   "source": [
    "#8.Write a Python program that uses the `map()` function to round each element of a list of \n",
    "#floating-point numbers to the nearest integer.\n",
    "num_in_float=[4.113,5.234,56.53]\n",
    "rounds_num=list(map(round,num_in_float))\n",
    "print(rounds_num)"
   ]
  },
  {
   "cell_type": "markdown",
   "id": "c777e661-a94b-45d4-84de-98f8dc5a0b4d",
   "metadata": {},
   "source": [
    "Reduce :-"
   ]
  },
  {
   "cell_type": "code",
   "execution_count": 15,
   "id": "ea18ec61-b6ad-45ca-8db2-0613569a5d56",
   "metadata": {},
   "outputs": [
    {
     "name": "stdout",
     "output_type": "stream",
     "text": [
      "285768000\n"
     ]
    }
   ],
   "source": [
    "#1.What is the `reduce()` function in Python, and what module should you \n",
    "#import to use it? Provide an example of its basic usage.\n",
    "\n",
    "#reduce() function is a part of functools module, on a sequence of values it performs a cumulative operation and\n",
    "#returns a single value\n",
    "#to use reduce() function we need to import it from functools\n",
    "#example:-\n",
    "from functools import reduce\n",
    "def multiply(x,y):\n",
    "    return x*y\n",
    "nums=[1,2,3,4,5,5,6,7,7,6,5,54]\n",
    "output=reduce(multiply,nums)\n",
    "print(output)"
   ]
  },
  {
   "cell_type": "code",
   "execution_count": 18,
   "id": "7c006e40-b41e-4a02-9384-7e37f50119d6",
   "metadata": {},
   "outputs": [
    {
     "name": "stdout",
     "output_type": "stream",
     "text": [
      "1316818944000\n"
     ]
    }
   ],
   "source": [
    "#2.Write a Python program that uses the `reduce()` function to find the product of all elements in a list.\n",
    "from functools import reduce\n",
    "def product(x,y):\n",
    "    return x*y\n",
    "nums1=[1,2,3,4,4,5,6,6,7,8,9,9,7,6,5,4,4,5]\n",
    "nums1_pro=reduce(product,nums1)\n",
    "print(nums1_pro)"
   ]
  },
  {
   "cell_type": "code",
   "execution_count": 20,
   "id": "1309a90a-2ce1-4896-bd54-a268505b5e3c",
   "metadata": {},
   "outputs": [
    {
     "name": "stdout",
     "output_type": "stream",
     "text": [
      "9\n"
     ]
    }
   ],
   "source": [
    "#3.Create a Python program that uses `reduce()` to find the maximum element in a list of numbers.\n",
    "from functools import reduce\n",
    "nums1=[1,2,3,4,4,5,6,6,7,8,9,9,7,6,5,4,4,5]\n",
    "max_nums1=reduce(max,nums1)\n",
    "print(max_nums1)"
   ]
  },
  {
   "cell_type": "code",
   "execution_count": 22,
   "id": "90034e7c-98cd-4c18-92b5-8e166016645f",
   "metadata": {},
   "outputs": [
    {
     "name": "stdout",
     "output_type": "stream",
     "text": [
      "hello world\n"
     ]
    }
   ],
   "source": [
    "#4.How can you use the `reduce()` function to concatenate a list of strings into a single string?\n",
    "#first we need to import reduce from functools\n",
    "from functools import reduce\n",
    "#second create a program that returns concatenated output which we will use later\n",
    "def conca(x,y):\n",
    "    return x+y\n",
    "#declare a list of strings\n",
    "list4=['hello ','world']\n",
    "#use reduce function and custom function that we created earlier\n",
    "combined_lst=reduce(conca,list4)\n",
    "#print the output\n",
    "print(combined_lst)"
   ]
  },
  {
   "cell_type": "code",
   "execution_count": 27,
   "id": "2ad6981a-989e-4f94-acd5-686cbbd4d9d3",
   "metadata": {},
   "outputs": [
    {
     "name": "stdin",
     "output_type": "stream",
     "text": [
      "enter a number: 3\n"
     ]
    },
    {
     "name": "stdout",
     "output_type": "stream",
     "text": [
      "6\n"
     ]
    }
   ],
   "source": [
    "#5.Write a Python program that calculates the factorial of a number using the `reduce()` function.\n",
    "from functools import reduce\n",
    "def multiply(x,y):\n",
    "    return x*y\n",
    "def factorial(n):\n",
    "    if n==0:\n",
    "        return 1\n",
    "    else:\n",
    "        numbers=list(range(1,n+1))\n",
    "        return reduce(multiply,numbers)\n",
    "n=int(input('enter a number:'))\n",
    "result=factorial(n)\n",
    "print(result)"
   ]
  },
  {
   "cell_type": "code",
   "execution_count": 33,
   "id": "5534b1be-6ea9-4122-b3d4-8a0f603bb89b",
   "metadata": {},
   "outputs": [
    {
     "name": "stdout",
     "output_type": "stream",
     "text": [
      "5\n"
     ]
    }
   ],
   "source": [
    "#6.Create a Python program that uses `reduce()` to find the GCD (Greatest Common Divisor) of \n",
    "#a list of numbers.\n",
    "from functools import reduce\n",
    "import math\n",
    "def gcd(x,y):\n",
    "    return math.gcd(x,y)\n",
    "numbers6=[55,100]\n",
    "result=reduce(gcd,numbers6)\n",
    "print(result)"
   ]
  },
  {
   "cell_type": "code",
   "execution_count": 35,
   "id": "082b5bc8-19dc-4f6b-ba6a-272eb2405acf",
   "metadata": {},
   "outputs": [
    {
     "name": "stdin",
     "output_type": "stream",
     "text": [
      "enter a number: 34\n"
     ]
    },
    {
     "name": "stdout",
     "output_type": "stream",
     "text": [
      "7\n"
     ]
    }
   ],
   "source": [
    "#7.Write a Python program that uses the `reduce()` function to find the sum of the digits of a given number.\n",
    "from functools import reduce\n",
    "def add_digit(x,y):\n",
    "    return int(x)+int(y)\n",
    "number=int(input('enter a number:'))\n",
    "number_str=str(number)\n",
    "sum_nums1=reduce(add_digit,number_str)\n",
    "print(sum_nums1)"
   ]
  },
  {
   "cell_type": "markdown",
   "id": "fc4c19fe-8676-4424-9458-ef3e06f4cb00",
   "metadata": {},
   "source": [
    "Filter:-"
   ]
  },
  {
   "cell_type": "code",
   "execution_count": 10,
   "id": "c6914d35-7896-4cd0-8c17-1acc2346bae5",
   "metadata": {},
   "outputs": [
    {
     "name": "stdout",
     "output_type": "stream",
     "text": [
      "[2, 4, 6, 6, 8]\n"
     ]
    }
   ],
   "source": [
    "#1.Explain the purpose of the `filter()` function in Python and provide an example of how it can be \n",
    "#used to filter elements from an iterable.\n",
    "\n",
    "#the filter() function returns only element/value/values if the defined function is true applied to the variables,\n",
    "#the filter() function takes two arguements a iterable and a function.\n",
    "\n",
    "#for example:-\n",
    "#first we need to define a function that returns even numbers\n",
    "def evenout(num):\n",
    "    return num%2==0\n",
    "#define a list of numbers\n",
    "filterlist1=[1,2,3,4,5,6,6,7,8,9,9]\n",
    "#define a list for containing filtered even numbers\n",
    "filterlist2=list(filter(evenout,filterlist1))\n",
    "#at last print even number list\n",
    "print(filterlist2)"
   ]
  },
  {
   "cell_type": "code",
   "execution_count": 11,
   "id": "907e69f2-6b91-45c4-b7e6-29e7f2383f1d",
   "metadata": {},
   "outputs": [
    {
     "name": "stdout",
     "output_type": "stream",
     "text": [
      "[2, 4, 6]\n"
     ]
    }
   ],
   "source": [
    "#2.Write a Python program that uses the `filter()` function to select even numbers from a list of integers.\n",
    "def evenout(num):\n",
    "    return num%2==0\n",
    "filterlist3=[1,2,3,4,5,6]\n",
    "filterlist4=list(filter(evenout,filterlist3))\n",
    "print(filterlist4)"
   ]
  },
  {
   "cell_type": "code",
   "execution_count": 26,
   "id": "a5365cd2-aab5-47ff-a8a3-e54bf2a26efd",
   "metadata": {},
   "outputs": [
    {
     "name": "stdout",
     "output_type": "stream",
     "text": [
      "['ankit', 'anil']\n"
     ]
    }
   ],
   "source": [
    "#3.Create a Python program that uses the `filter()` function to select names that start \n",
    "#with a specific letter from a list of strings.\n",
    "def specificletter(name,letter):\n",
    "    return name.startswith(letter)\n",
    "specific_letter='a'\n",
    "filterlistnames=['ankit','anil','kunal']\n",
    "filterlistnames2=list(filter(lambda x:specificletter(x,specific_letter),filterlistnames))\n",
    "print(filterlistnames2)"
   ]
  },
  {
   "cell_type": "code",
   "execution_count": 27,
   "id": "a5ea43f4-5432-41de-bc16-7fff869780df",
   "metadata": {},
   "outputs": [
    {
     "name": "stdout",
     "output_type": "stream",
     "text": [
      "[2, 3, 5, 7]\n"
     ]
    }
   ],
   "source": [
    "#4.Write a Python program that uses the `filter()` function to select prime numbers from a list of integers.\n",
    "def primenums(n):\n",
    "    if n<=1:\n",
    "        return False\n",
    "    for i in range(2,int(n**0.5)+1):\n",
    "        if n%i==0:\n",
    "            return False\n",
    "    return True \n",
    "noprimelist=[1,2,3,4,5,6,7,8,9]\n",
    "primelist=list(filter(primenums,noprimelist))\n",
    "print(primelist)"
   ]
  },
  {
   "cell_type": "code",
   "execution_count": 29,
   "id": "f55b79bf-4e06-4c41-9cc2-9343ec376284",
   "metadata": {},
   "outputs": [
    {
     "name": "stdout",
     "output_type": "stream",
     "text": [
      "[1, 'hello', 42, 7, 'world']\n"
     ]
    }
   ],
   "source": [
    "#5.How can you use the `filter()` function to remove None values from a list in Python?\n",
    "values=[1, None, \"hello\", 42, None, 7, None, \"world\", None]\n",
    "filtered_values5=list(filter(lambda x:x is not None,values))\n",
    "print(filtered_values5)"
   ]
  },
  {
   "cell_type": "code",
   "execution_count": 40,
   "id": "8752fb60-5803-4adb-8743-3907afb2da32",
   "metadata": {},
   "outputs": [
    {
     "name": "stdout",
     "output_type": "stream",
     "text": [
      "['ankit', 'hello']\n"
     ]
    }
   ],
   "source": [
    "#6.Create a Python program that uses `filter()` to select words longer than a certain length from a list of strings.\n",
    "def specificlength(n):\n",
    "    return len(n)==5\n",
    "listtt=['ankit','nums','create','hello']\n",
    "list7=list(filter(specificlength,listtt))\n",
    "print(list7)"
   ]
  },
  {
   "cell_type": "code",
   "execution_count": 41,
   "id": "0a334e5b-54c5-430a-a2cd-9452d04d3b5b",
   "metadata": {},
   "outputs": [
    {
     "name": "stdout",
     "output_type": "stream",
     "text": [
      "[1, 2, 3, 4, 5, 6, 7, 88, 345, 43, 34, 344, 323, 4]\n"
     ]
    }
   ],
   "source": [
    "#7.Write a Python program that uses the `filter()` function to select elements greater \n",
    "#than a specified threshold from a list of values.\n",
    "listfilter7=[1,2,3,4,5,6,7,88,7654,345,43,34,5432,344,323,4,543]\n",
    "threshold=500\n",
    "listfilter77=list(filter(lambda x:x<threshold,listfilter7))\n",
    "print(listfilter77)"
   ]
  },
  {
   "cell_type": "markdown",
   "id": "95c2f1be-ee1d-4d72-85da-38d211e7aeff",
   "metadata": {},
   "source": [
    "Recursion:-"
   ]
  },
  {
   "cell_type": "code",
   "execution_count": 1,
   "id": "9d016d76-af09-4cdc-a172-9e5866a5388d",
   "metadata": {},
   "outputs": [],
   "source": [
    "#1.Explain the concept of recursion in Python. How does it differ from iteration?\n",
    "\n",
    "#recursion in python prevents infinite loop, recursion is a technique by which a function calls itself \n",
    "#to solve smaller instance of the same problems, in this we also divide the problem into different sections\n",
    "#untill it reaches the base case, we mainly use 'if' 'else' in recursion.\n",
    "\n",
    "#iteration on the other hand works on loops lile 'for' and 'while', iteration goes through a set of value untill\n",
    "#it reaches the defined end or demand. Iteration doesnt call itself it fetches the value of a varibale and checks \n",
    "#each one of it."
   ]
  },
  {
   "cell_type": "code",
   "execution_count": 4,
   "id": "4e1aed60-9174-4738-bf99-9ed38f99daef",
   "metadata": {},
   "outputs": [
    {
     "data": {
      "text/plain": [
       "120"
      ]
     },
     "execution_count": 4,
     "metadata": {},
     "output_type": "execute_result"
    }
   ],
   "source": [
    "#2.Write a Python program to calculate the factorial of a number using recursion.\n",
    "def fac(n):\n",
    "    if n==0 or n==1:\n",
    "        return 1\n",
    "    else:\n",
    "        return n*fac(n-1)\n",
    "fac(5)"
   ]
  },
  {
   "cell_type": "code",
   "execution_count": 5,
   "id": "197489b6-b10a-40d7-bad4-028a3c4f7cec",
   "metadata": {},
   "outputs": [
    {
     "data": {
      "text/plain": [
       "3"
      ]
     },
     "execution_count": 5,
     "metadata": {},
     "output_type": "execute_result"
    }
   ],
   "source": [
    "#3.Create a recursive Python function to find the nth Fibonacci number.\n",
    "def fibo(n):\n",
    "    if n<=1:\n",
    "        return n\n",
    "    else:\n",
    "        return fibo(n-1)+fibo(n-2)\n",
    "fibo(4)"
   ]
  },
  {
   "cell_type": "code",
   "execution_count": 4,
   "id": "6deb7055-731f-406a-ac82-a7437e90c4ac",
   "metadata": {},
   "outputs": [
    {
     "name": "stdout",
     "output_type": "stream",
     "text": [
      "21\n"
     ]
    }
   ],
   "source": [
    "#4.Write a recursive Python function to calculate the sum of all elements in a list.\n",
    "def list_sum(n):\n",
    "    if not n:\n",
    "        return 0\n",
    "    else:\n",
    "        return n[0]+list_sum(n[1:])\n",
    "recurlist=[1,2,3,4,5,6]\n",
    "recurlist2=list_sum(recurlist)\n",
    "print(recurlist2)"
   ]
  },
  {
   "cell_type": "code",
   "execution_count": 5,
   "id": "ce8be3f2-1cf7-44f4-8382-840b401d30eb",
   "metadata": {},
   "outputs": [],
   "source": [
    "#5.How can you prevent a recursive function from running indefinitely, causing a stack overflow error?\n",
    "\n",
    "#we can prevent a recursive function from runnning indefinitely and causing a stack overflow error by defining \n",
    "#a base case such as in example of finding a factorial we define base case as when the value is equals to 1 it shall end the \n",
    "#code or stop it right there to prevent stack overflow and running indefinitely\n",
    "#we can also double check out funtion/program before running/executing it"
   ]
  },
  {
   "cell_type": "code",
   "execution_count": 9,
   "id": "2feec215-8169-470a-8b54-d78ce57ad0f9",
   "metadata": {},
   "outputs": [
    {
     "name": "stdout",
     "output_type": "stream",
     "text": [
      "2\n"
     ]
    }
   ],
   "source": [
    "#6.Create a recursive Python function to find the greatest common divisor (GCD) of two \n",
    "#numbers using the Euclidean algorithm.\n",
    "def gcd(a,b):\n",
    "    if b==0:\n",
    "        return a\n",
    "    else:\n",
    "        return gcd(b,a%b)\n",
    "n1=4\n",
    "n2=6\n",
    "output=gcd(n1,n2)\n",
    "print(output)"
   ]
  },
  {
   "cell_type": "code",
   "execution_count": 11,
   "id": "5ac72f3f-ef3d-474f-8628-7a97a069e504",
   "metadata": {},
   "outputs": [
    {
     "name": "stdout",
     "output_type": "stream",
     "text": [
      "tikna\n"
     ]
    }
   ],
   "source": [
    "#7.Write a recursive Python function to reverse a string.\n",
    "def revstrng(n):\n",
    "    if len(n) <= 1:        \n",
    "        return n\n",
    "    else:\n",
    "        return revstrng(n[1:]) + n[0]\n",
    "strngrec7='ankit'\n",
    "strngrecc7=revstrng(strngrec7)\n",
    "print(strngrecc7)"
   ]
  },
  {
   "cell_type": "code",
   "execution_count": 13,
   "id": "c83cb2f5-b96e-4c16-9272-452eafc4fbea",
   "metadata": {},
   "outputs": [
    {
     "name": "stdout",
     "output_type": "stream",
     "text": [
      "32\n"
     ]
    }
   ],
   "source": [
    "#8.Create a recursive Python function to calculate the power of a number (x^n).\n",
    "def power(x,n):\n",
    "    if n==0:\n",
    "        return 1\n",
    "    else:\n",
    "        return x*power(x,n-1)\n",
    "base=2\n",
    "exponent=5\n",
    "result=power(base,exponent)\n",
    "print(result)"
   ]
  },
  {
   "cell_type": "code",
   "execution_count": 19,
   "id": "503c9157-d3c7-4edb-83a5-4b5ad97a4a5a",
   "metadata": {},
   "outputs": [
    {
     "name": "stdout",
     "output_type": "stream",
     "text": [
      "['hi', 'ih']\n"
     ]
    }
   ],
   "source": [
    "#9.Write a recursive Python function to find all permutations of a given string.\n",
    "def permutations(string):\n",
    "    if len(string)<=1:\n",
    "        return[string]\n",
    "    else:\n",
    "        perms=[]\n",
    "        for char in string:\n",
    "            remaining_chars=string.replace(char,'',1)\n",
    "            sub_perms=permutations(remaining_chars)\n",
    "            for perm in sub_perms:\n",
    "                perms.append(char+perm)\n",
    "        return perms\n",
    "my_string='hi'\n",
    "all_perms=permutations(my_string)\n",
    "print(all_perms)"
   ]
  },
  {
   "cell_type": "code",
   "execution_count": 44,
   "id": "5726bc60-6439-421b-9a54-396c55e264ce",
   "metadata": {},
   "outputs": [
    {
     "name": "stdout",
     "output_type": "stream",
     "text": [
      "True\n"
     ]
    }
   ],
   "source": [
    "#10.Write a recursive Python function to check if a string is a palindrome.\n",
    "def palindrome(string):\n",
    "    string=string.lower()\n",
    "    if len(string)<=1:\n",
    "        return True\n",
    "    else: \n",
    "        if string!=string[::-1]:\n",
    "            return False\n",
    "        else:\n",
    "            return palindrome(string[1:-1])\n",
    "palistrng='racecar'\n",
    "palistrng2=palindrome(palistrng)\n",
    "print(palistrng2)"
   ]
  },
  {
   "cell_type": "code",
   "execution_count": 46,
   "id": "5c25ec4b-e894-4e74-b620-996b490ce85a",
   "metadata": {},
   "outputs": [
    {
     "name": "stdout",
     "output_type": "stream",
     "text": [
      "[[], [1], [2], [1, 2], [3], [1, 3], [2, 3], [1, 2, 3]]\n"
     ]
    }
   ],
   "source": [
    "#11.Create a recursive Python function to generate all possible combinations of a list of elements.\n",
    "def combinations(elements):\n",
    "    if len(elements)==0:\n",
    "        return[[]]\n",
    "    else:\n",
    "        first_element=elements[0]\n",
    "        remaining_elements=elements[1:]\n",
    "        sub_combinations=combinations(remaining_elements)\n",
    "        new_combinations=[]\n",
    "        for sub_combination in sub_combinations:\n",
    "            new_combinations.append(sub_combination)\n",
    "            new_combinations.append([first_element]+sub_combination)\n",
    "        return new_combinations\n",
    "my_elements = [1, 2, 3]\n",
    "all_combinations=combinations(my_elements)\n",
    "print(all_combinations)"
   ]
  },
  {
   "cell_type": "markdown",
   "id": "a8021670-33f3-49fa-892b-738b074b31ae",
   "metadata": {},
   "source": [
    "Basics of Functions:"
   ]
  },
  {
   "cell_type": "code",
   "execution_count": 49,
   "id": "16d4d343-ef1d-44d1-846e-be8fcbc9432b",
   "metadata": {},
   "outputs": [],
   "source": [
    "#1.What is a function in Python, and why is it used?\n",
    "\n",
    "#a function in python is a set of code that perform a spefic task \n",
    "#functions allows you to make a complex task into simpler task \n",
    "#compressing a block of code(conditions) by defining it to a variable increases time management,code\n",
    "#re useability and reduce confusion\n",
    "#funtions are defines using 'def'\n",
    "#for faster problem solving functions can also be used"
   ]
  },
  {
   "cell_type": "code",
   "execution_count": 50,
   "id": "d840ff20-1f12-4f68-a250-46cefe6750ba",
   "metadata": {},
   "outputs": [
    {
     "data": {
      "text/plain": [
       "4"
      ]
     },
     "execution_count": 50,
     "metadata": {},
     "output_type": "execute_result"
    }
   ],
   "source": [
    "#2.How do you define a function in Python? Provide an example.\n",
    "\n",
    "#funtion in python are set of instruction of code or set of code compressed in a smaller state\n",
    "#functions are defined using 'def' and allows code reusability/management.\n",
    "\n",
    "#function example:-\n",
    "def add(a,b):\n",
    "    return a+b\n",
    "add(1,3)"
   ]
  },
  {
   "cell_type": "code",
   "execution_count": 55,
   "id": "4b58c84b-fd9b-4521-a122-6bbf523d47da",
   "metadata": {},
   "outputs": [],
   "source": [
    "#3.Explain the difference between a function definition and a function call.\n",
    "\n",
    "#function defination is defining of a function by using the syntax 'def'\n",
    "#later defining a name followed by parentheses and then defining its purpose at last\n",
    "\n",
    "#and function call is the process by which we invocate the function by calling its name and \n",
    "#placing parentheses and entering values in it for execution"
   ]
  },
  {
   "cell_type": "code",
   "execution_count": 52,
   "id": "c9dd6359-08ad-4b1d-aaaa-225f17391420",
   "metadata": {},
   "outputs": [
    {
     "data": {
      "text/plain": [
       "4"
      ]
     },
     "execution_count": 52,
     "metadata": {},
     "output_type": "execute_result"
    }
   ],
   "source": [
    "#4.Write a Python program that defines a function to calculate the sum of two \n",
    "#numbers and then calls the function.\n",
    "def add(a,b):\n",
    "    return a+b\n",
    "add(1,3)"
   ]
  },
  {
   "cell_type": "code",
   "execution_count": 53,
   "id": "2a481782-dc95-4ca3-94d7-a1d83a0d4721",
   "metadata": {},
   "outputs": [],
   "source": [
    "#5.What is a function signature, and what information does it typically include?\n",
    "\n",
    "#in python a function signature refers to the syntactic definition of a function \n",
    "#including its name parameters and in some cases annotations.\n",
    "\n",
    "#function signature includes parameters, function name"
   ]
  },
  {
   "cell_type": "code",
   "execution_count": 54,
   "id": "0cbf9671-fece-40e6-b4bf-34497248a737",
   "metadata": {},
   "outputs": [
    {
     "name": "stdout",
     "output_type": "stream",
     "text": [
      "6\n"
     ]
    }
   ],
   "source": [
    "#6.Create a Python function that takes two arguments and returns their product.\n",
    "def pro(a,b):\n",
    "    return a*b\n",
    "numfun=2\n",
    "numfun2=3\n",
    "product=pro(numfun,numfun2)\n",
    "print(product)"
   ]
  },
  {
   "cell_type": "markdown",
   "id": "9a1352ed-8ad5-4ef3-ad0c-7b5d93a81a40",
   "metadata": {},
   "source": [
    "Function Parameters and Arguments:"
   ]
  },
  {
   "cell_type": "code",
   "execution_count": 56,
   "id": "b58f1e44-5d4b-4afb-b7e1-0e6d80d4bf7d",
   "metadata": {},
   "outputs": [],
   "source": [
    "#1.Explain the concepts of formal parameters and actual arguments in Python functions.\n",
    "\n",
    "#formal parameters are actually representing the values the function is expecting when its going to be called\n",
    "#contained inside the parentheses, formal parameteres are the place of values on which the function is going to\n",
    "#work, formal parameters are used to define how many arguments a function is going to expect\n",
    "\n",
    "#actual arguments are the actual values passed on the place of formal parameters on which the defined function \n",
    "#is going to act (concrete values), defines inside the parentheses"
   ]
  },
  {
   "cell_type": "code",
   "execution_count": 3,
   "id": "e1356c18-0640-40a5-9606-fda15680fd85",
   "metadata": {},
   "outputs": [
    {
     "name": "stdout",
     "output_type": "stream",
     "text": [
      "{'bye'} {'ankit'}\n"
     ]
    }
   ],
   "source": [
    "#2.Write a Python program that defines a function with default argument values.\n",
    "def greet(name='ankit',message='bye'):\n",
    "    print({message},{name})\n",
    "    \n",
    "greet()"
   ]
  },
  {
   "cell_type": "code",
   "execution_count": 8,
   "id": "182cee00-cb86-4bea-a71a-2f4d0251e638",
   "metadata": {},
   "outputs": [
    {
     "name": "stdout",
     "output_type": "stream",
     "text": [
      "hi Ankit\n"
     ]
    }
   ],
   "source": [
    "#3.How do you use keyword arguments in Python function calls? Provide an example.\n",
    "def greet(name,message):\n",
    "    print(message,name)\n",
    "#using keyword argurments\n",
    "greet(name='Ankit',message='hi')"
   ]
  },
  {
   "cell_type": "code",
   "execution_count": 14,
   "id": "4597902a-af82-4047-b63b-8ceb53794d5d",
   "metadata": {},
   "outputs": [
    {
     "data": {
      "text/plain": [
       "1029"
      ]
     },
     "execution_count": 14,
     "metadata": {},
     "output_type": "execute_result"
    }
   ],
   "source": [
    "#4.Create a Python function that accepts a variable number of arguments and calculates their sum.\n",
    "def sumfun(*args):\n",
    "    return sum(args)\n",
    "sumfun(12,213,3,42,435,324)"
   ]
  },
  {
   "cell_type": "code",
   "execution_count": 15,
   "id": "bd45d15d-4063-434e-bf29-ee5dd41a73c8",
   "metadata": {},
   "outputs": [],
   "source": [
    "#5.What is the purpose of the `*args` and `**kwargs` syntax in function parameter lists?\n",
    "\n",
    "#purpose of '*args' function is to collect n number of arguements and pass \n",
    "#them for a specific function\n",
    "\n",
    "#on the other hand '**kwargs' collect number of arguements in a dictionary\n",
    "#when the number of arguements are unknown and passes them to a function"
   ]
  },
  {
   "cell_type": "markdown",
   "id": "07ccaf73-0198-457b-9a49-0f272a736764",
   "metadata": {},
   "source": [
    "Return Values and Scoping:"
   ]
  },
  {
   "cell_type": "code",
   "execution_count": 28,
   "id": "fc59a5e7-1eca-4038-b6bc-50226e562ecc",
   "metadata": {},
   "outputs": [
    {
     "name": "stdout",
     "output_type": "stream",
     "text": [
      "69\n",
      "ankithello\n"
     ]
    }
   ],
   "source": [
    "#1.Describe the role of the `return` statement in Python functions and provide examples.\n",
    "\n",
    "#the return statement in python is used as a returning value body and a function exiting body\n",
    "#at the end of a function \n",
    "\n",
    "#for example:-\n",
    "def prod(a,b):\n",
    "    #here we would like our function to return product of two numbers so we command it to return\n",
    "    #sum of the two arguements, which will eventually return sum of those two arguements\n",
    "    return a*b\n",
    "print(prod(23,3))\n",
    "\n",
    "def merge(merge_string):\n",
    "    #here we want our function to remove spaces from a string, so we assign a preloaded function to \n",
    "    #our arguement in return section, which will return a string without spaces\n",
    "    return merge_string.replace(' ','')\n",
    "print(merge('ankit hello'))"
   ]
  },
  {
   "cell_type": "code",
   "execution_count": 29,
   "id": "1717eb62-cfab-4e92-98b2-047af75bc833",
   "metadata": {},
   "outputs": [],
   "source": [
    "#2.Explain the concept of variable scope in Python, including local and global variables.\n",
    "\n",
    "#variable scope in python refers to the position, assesibility and lifetime of a variable\n",
    "#in a function or outside a function\n",
    "\n",
    "#local variable on one side are variable defined inside a function, only assesible within a\n",
    "#function and their lifetime is limited only to when a function is called till execution\n",
    "\n",
    "#global variables on the other side are varibales defined outside a function, assesible anywhere\n",
    "#and their lifetime extends throught the execution of the program"
   ]
  },
  {
   "cell_type": "code",
   "execution_count": 37,
   "id": "bd2a3b2e-bf86-41d2-9b72-6b92e68db538",
   "metadata": {},
   "outputs": [
    {
     "name": "stdout",
     "output_type": "stream",
     "text": [
      "47\n",
      "94\n"
     ]
    }
   ],
   "source": [
    "#3.Write a Python program that demonstrates the use of global variables within functions.\n",
    "#define a global variable\n",
    "x=45\n",
    "#define a function\n",
    "def plus():\n",
    "    #access and modify the global variable\n",
    "    global x\n",
    "    x+=2\n",
    "    print(x)\n",
    "def double():\n",
    "    #access and modify the global variable\n",
    "    global x\n",
    "    x*=2\n",
    "    print(x)\n",
    "    \n",
    "#calling the modified variable\n",
    "plus()\n",
    "double()"
   ]
  },
  {
   "cell_type": "code",
   "execution_count": 47,
   "id": "31e4da94-2078-4ce6-b694-319487e14118",
   "metadata": {},
   "outputs": [
    {
     "data": {
      "text/plain": [
       "720"
      ]
     },
     "execution_count": 47,
     "metadata": {},
     "output_type": "execute_result"
    }
   ],
   "source": [
    "#4.Create a Python function that calculates the factorial of a number and returns it.\n",
    "def fac(x):\n",
    "    if x==0 or x==1:\n",
    "        return 1\n",
    "    else:\n",
    "        return x*fac(x-1)\n",
    "fac(6)"
   ]
  },
  {
   "cell_type": "code",
   "execution_count": 50,
   "id": "cbec8db5-6f98-40dd-bac8-559d852b619b",
   "metadata": {},
   "outputs": [
    {
     "name": "stdout",
     "output_type": "stream",
     "text": [
      "47\n"
     ]
    }
   ],
   "source": [
    "#5.How can you access variables defined outside a function from within the function?\n",
    "\n",
    "#we can access varibales defined outside a function from within the function by\n",
    "#using 'global' keyword\n",
    "\n",
    "#for example:-\n",
    "x=45\n",
    "def plus():\n",
    "    #access and modify the global variable\n",
    "    global x\n",
    "    x+=2\n",
    "    print(x)\n",
    "plus() #getting output by using global variable"
   ]
  },
  {
   "cell_type": "markdown",
   "id": "971bba66-08c2-4d3a-84da-ee00296ddd62",
   "metadata": {},
   "source": [
    "Lambda Functions and Higher-Order Functions:"
   ]
  },
  {
   "cell_type": "code",
   "execution_count": 1,
   "id": "8c2b016d-ab82-48cf-842d-ed83041984e5",
   "metadata": {},
   "outputs": [],
   "source": [
    "#1.What are lambda functions in Python, and when are they typically used?\n",
    "\n",
    "#lambda functions in python are operations which are defined without using a \n",
    "#formal function defination\n",
    "#lambda is defined by using 'lambda' keyword\n",
    "#we use lambda when we need to use smaller functions like 'map()','reduce()','filter()'"
   ]
  },
  {
   "cell_type": "code",
   "execution_count": 6,
   "id": "6030feca-6ddc-47a0-9965-9e0b5e7d9ac1",
   "metadata": {},
   "outputs": [
    {
     "name": "stdout",
     "output_type": "stream",
     "text": [
      "[('mukul', 19), ('ankit', 20)]\n"
     ]
    }
   ],
   "source": [
    "#2.Write a Python program that uses lambda functions to sort a list of tuples based on the second element.\n",
    "lambdalist1=[('ankit',20),('mukul',19)]\n",
    "sortedlist1=sorted(lambdalist1,key=lambda x:x[1])\n",
    "print(sortedlist1)"
   ]
  },
  {
   "cell_type": "code",
   "execution_count": 37,
   "id": "9f354a0a-ecb4-4230-a775-e1b069ef5ef1",
   "metadata": {},
   "outputs": [
    {
     "name": "stdout",
     "output_type": "stream",
     "text": [
      "21\n"
     ]
    }
   ],
   "source": [
    "#3.Explain the concept of higher-order functions in Python, and provide an example.\n",
    "\n",
    "#higher-order functions in python are that functions which take other functions\n",
    "#as arguements and return functions as results\n",
    "from functools import reduce\n",
    "def add(a,b):\n",
    "    return a+b\n",
    "lamlist2=[1,2,3,4,5,6]\n",
    "lamlistmap1=reduce(add,lamlist2)\n",
    "print(lamlistmap1)"
   ]
  },
  {
   "cell_type": "code",
   "execution_count": 40,
   "id": "25f661e8-a46e-44da-ae36-21e347d92463",
   "metadata": {},
   "outputs": [
    {
     "name": "stdout",
     "output_type": "stream",
     "text": [
      "[1, 4, 9, 16, 25, 36, 49]\n"
     ]
    }
   ],
   "source": [
    "#4.Create a Python function that takes a list of numbers and a function as arguments,\n",
    "#applying the function to each element in the list.\n",
    "def square(n):\n",
    "    return n**2\n",
    "lamlist3=[1,2,3,4,5,6,7]\n",
    "lamlistmap3=map(square,lamlist3)\n",
    "lamlistmap4=list(lamlistmap3)\n",
    "print(lamlistmap4)"
   ]
  },
  {
   "cell_type": "markdown",
   "id": "1cf615cf-976e-47f2-9321-5f3930e6981d",
   "metadata": {},
   "source": [
    "Built-in Functions:"
   ]
  },
  {
   "cell_type": "code",
   "execution_count": 2,
   "id": "ccb5c894-ce5f-4fdd-86d3-4e6ddb0f0393",
   "metadata": {},
   "outputs": [],
   "source": [
    "#1.Describe the role of built-in functions like `len()`, `max()`, and `min()` in Python.\n",
    "\n",
    "#the 'len()' function in python returns the length of an object\n",
    "#the'max()' function in python returns the maximum element of an iterable\n",
    "#the 'min()' function in python returns the minimum element of an iterable"
   ]
  },
  {
   "cell_type": "code",
   "execution_count": 24,
   "id": "d5584290-e3a4-4c1c-8808-db126be4bac6",
   "metadata": {},
   "outputs": [
    {
     "name": "stdout",
     "output_type": "stream",
     "text": [
      "[2, 4, 6, 8, 10, 12, 14, 16]\n"
     ]
    }
   ],
   "source": [
    "#2.Write a Python program that uses the `map()` function to apply a function to each element of a list.\n",
    "def doubleit(n):\n",
    "    return n+n\n",
    "listbif=[1,2,3,4,5,6,7,8]\n",
    "listbif1=map(doubleit,listbif)\n",
    "result_list=list(listbif1)\n",
    "print(result_list)"
   ]
  },
  {
   "cell_type": "code",
   "execution_count": 26,
   "id": "651b20b8-7d46-4bb2-aa0f-f5c7509bf3cc",
   "metadata": {},
   "outputs": [],
   "source": [
    "#3.How does the `filter()` function work in Python, and when would you use it?\n",
    "#the 'filter()' function in python takes a function and an iterable then it applies the function \n",
    "#to the iterable and gives filtered outcome if its true according to the function\n",
    "#the 'filter()' function applies to every iterable\n",
    "\n",
    "#Use filter() when you want to selectively extract elements from an iterable based on a \n",
    "#specific condition defined by a function"
   ]
  },
  {
   "cell_type": "code",
   "execution_count": 29,
   "id": "508ef514-9229-4553-9d99-ff8cf7996a77",
   "metadata": {},
   "outputs": [
    {
     "name": "stdout",
     "output_type": "stream",
     "text": [
      "18432\n"
     ]
    }
   ],
   "source": [
    "#4.Create a Python program that uses the `reduce()` function to find the product of all elements in a list.\n",
    "from functools import reduce\n",
    "def product(a,b):\n",
    "    return a*b\n",
    "listre=[12,3,4,32,4]\n",
    "listre1=reduce(product,listre)\n",
    "print(listre1)"
   ]
  },
  {
   "cell_type": "markdown",
   "id": "d265e011-3dad-435d-83a6-8e9912c24460",
   "metadata": {},
   "source": [
    "Function Documentation and Best Practices:"
   ]
  },
  {
   "cell_type": "code",
   "execution_count": 1,
   "id": "9a58ab41-6877-48d4-8402-9c108f8bbee5",
   "metadata": {},
   "outputs": [],
   "source": [
    "#1.Explain the purpose of docstrings in Python functions and how to write them.\n",
    "\n",
    "#the purpose of docstrings in python is to describe what a function does, clarifying its\n",
    "#purpose.\n",
    "#the docstrings are written with the help of tripple enclosed quotes('\"\"\" \"\"\"')\n",
    "#immediately after function header"
   ]
  },
  {
   "cell_type": "code",
   "execution_count": 32,
   "id": "d14cf7ba-fa57-43eb-a96c-69949df096e8",
   "metadata": {},
   "outputs": [],
   "source": [
    "#2.Describe some best practices for naming functions and variables in Python,\n",
    "#including naming conventions and guidelines.\n",
    "\n",
    "#best practice for naming function and variables in python\n",
    "#is to keep oneself reminded to use lowercase letters, using underscores and no abbreviations\n",
    "#these three points can increase code readability and functionality\n",
    "\n",
    "#guidelines:-\n",
    "#we can use uppercase letters for convention and underscores to sep"
   ]
  }
 ],
 "metadata": {
  "kernelspec": {
   "display_name": "Python 3 (ipykernel)",
   "language": "python",
   "name": "python3"
  },
  "language_info": {
   "codemirror_mode": {
    "name": "ipython",
    "version": 3
   },
   "file_extension": ".py",
   "mimetype": "text/x-python",
   "name": "python",
   "nbconvert_exporter": "python",
   "pygments_lexer": "ipython3",
   "version": "3.10.8"
  }
 },
 "nbformat": 4,
 "nbformat_minor": 5
}
